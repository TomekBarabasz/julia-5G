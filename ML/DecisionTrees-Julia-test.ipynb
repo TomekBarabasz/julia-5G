{
 "cells": [
  {
   "cell_type": "code",
   "execution_count": 3,
   "metadata": {},
   "outputs": [
    {
     "name": "stderr",
     "output_type": "stream",
     "text": [
      "┌ Info: Precompiling Plots [91a5bcdd-55d7-5caf-9e0b-520d859cae80]\n",
      "└ @ Base loading.jl:1317\n",
      "\u001b[33m\u001b[1m┌ \u001b[22m\u001b[39m\u001b[33m\u001b[1mWarning: \u001b[22m\u001b[39mModule Tables with build ID 1482580015134001 is missing from the cache.\n",
      "\u001b[33m\u001b[1m│ \u001b[22m\u001b[39mThis may mean Tables [bd369af6-aec1-5ad0-b16a-f7cc5008161c] does not support precompilation but is imported by a module that does.\n",
      "\u001b[33m\u001b[1m└ \u001b[22m\u001b[39m\u001b[90m@ Base loading.jl:1008\u001b[39m\n",
      "\u001b[33m\u001b[1m┌ \u001b[22m\u001b[39m\u001b[33m\u001b[1mWarning: \u001b[22m\u001b[39mModule Tables with build ID 1482580015134001 is missing from the cache.\n",
      "\u001b[33m\u001b[1m│ \u001b[22m\u001b[39mThis may mean Tables [bd369af6-aec1-5ad0-b16a-f7cc5008161c] does not support precompilation but is imported by a module that does.\n",
      "\u001b[33m\u001b[1m└ \u001b[22m\u001b[39m\u001b[90m@ Base loading.jl:1008\u001b[39m\n",
      "┌ Info: Skipping precompilation since __precompile__(false). Importing Plots [91a5bcdd-55d7-5caf-9e0b-520d859cae80].\n",
      "└ @ Base loading.jl:1025\n",
      "┌ Info: Precompiling GeometryBasics [5c1252a2-5f33-56bf-86c9-59e7332b4326]\n",
      "└ @ Base loading.jl:1317\n",
      "\u001b[33m\u001b[1m┌ \u001b[22m\u001b[39m\u001b[33m\u001b[1mWarning: \u001b[22m\u001b[39mModule Tables with build ID 1482580015134001 is missing from the cache.\n",
      "\u001b[33m\u001b[1m│ \u001b[22m\u001b[39mThis may mean Tables [bd369af6-aec1-5ad0-b16a-f7cc5008161c] does not support precompilation but is imported by a module that does.\n",
      "\u001b[33m\u001b[1m└ \u001b[22m\u001b[39m\u001b[90m@ Base loading.jl:1008\u001b[39m\n",
      "┌ Info: Skipping precompilation since __precompile__(false). Importing GeometryBasics [5c1252a2-5f33-56bf-86c9-59e7332b4326].\n",
      "└ @ Base loading.jl:1025\n",
      "┌ Info: Precompiling StructArrays [09ab397b-f2b6-538f-b94a-2f83cf4a842a]\n",
      "└ @ Base loading.jl:1317\n",
      "\u001b[33m\u001b[1m┌ \u001b[22m\u001b[39m\u001b[33m\u001b[1mWarning: \u001b[22m\u001b[39mModule Tables with build ID 1482580015134001 is missing from the cache.\n",
      "\u001b[33m\u001b[1m│ \u001b[22m\u001b[39mThis may mean Tables [bd369af6-aec1-5ad0-b16a-f7cc5008161c] does not support precompilation but is imported by a module that does.\n",
      "\u001b[33m\u001b[1m└ \u001b[22m\u001b[39m\u001b[90m@ Base loading.jl:1008\u001b[39m\n",
      "┌ Info: Skipping precompilation since __precompile__(false). Importing StructArrays [09ab397b-f2b6-538f-b94a-2f83cf4a842a].\n",
      "└ @ Base loading.jl:1025\n",
      "┌ Info: Precompiling EarCut_jll [5ae413db-bbd1-5e63-b57d-d24a61df00f5]\n",
      "└ @ Base loading.jl:1317\n",
      "┌ Info: Precompiling FFMPEG [c87230d0-a227-11e9-1b43-d7ebe4e7570a]\n",
      "└ @ Base loading.jl:1317\n",
      "\u001b[33m\u001b[1m┌ \u001b[22m\u001b[39m\u001b[33m\u001b[1mWarning: \u001b[22m\u001b[39mModule libvorbis_jll with build ID 82362602346001 is missing from the cache.\n",
      "\u001b[33m\u001b[1m│ \u001b[22m\u001b[39mThis may mean libvorbis_jll [f27f6e37-5d2b-51aa-960f-b287f2bc3b7a] does not support precompilation but is imported by a module that does.\n",
      "\u001b[33m\u001b[1m└ \u001b[22m\u001b[39m\u001b[90m@ Base loading.jl:1008\u001b[39m\n",
      "\u001b[33m\u001b[1m┌ \u001b[22m\u001b[39m\u001b[33m\u001b[1mWarning: \u001b[22m\u001b[39mModule libvorbis_jll with build ID 82362602346001 is missing from the cache.\n",
      "\u001b[33m\u001b[1m│ \u001b[22m\u001b[39mThis may mean libvorbis_jll [f27f6e37-5d2b-51aa-960f-b287f2bc3b7a] does not support precompilation but is imported by a module that does.\n",
      "\u001b[33m\u001b[1m└ \u001b[22m\u001b[39m\u001b[90m@ Base loading.jl:1008\u001b[39m\n",
      "┌ Info: Skipping precompilation since __precompile__(false). Importing FFMPEG [c87230d0-a227-11e9-1b43-d7ebe4e7570a].\n",
      "└ @ Base loading.jl:1025\n",
      "┌ Info: Precompiling FFMPEG_jll [b22a6f82-2f65-5046-a5b2-351ab43fb4e5]\n",
      "└ @ Base loading.jl:1317\n",
      "\u001b[33m\u001b[1m┌ \u001b[22m\u001b[39m\u001b[33m\u001b[1mWarning: \u001b[22m\u001b[39mModule libvorbis_jll with build ID 82362602346001 is missing from the cache.\n",
      "\u001b[33m\u001b[1m│ \u001b[22m\u001b[39mThis may mean libvorbis_jll [f27f6e37-5d2b-51aa-960f-b287f2bc3b7a] does not support precompilation but is imported by a module that does.\n",
      "\u001b[33m\u001b[1m└ \u001b[22m\u001b[39m\u001b[90m@ Base loading.jl:1008\u001b[39m\n",
      "┌ Info: Skipping precompilation since __precompile__(false). Importing FFMPEG_jll [b22a6f82-2f65-5046-a5b2-351ab43fb4e5].\n",
      "└ @ Base loading.jl:1025\n",
      "┌ Info: Precompiling x265_jll [dfaa095f-4041-5dcd-9319-2fabd8486b76]\n",
      "└ @ Base loading.jl:1317\n",
      "┌ Info: Precompiling OpenSSL_jll [458c3c95-2e84-50aa-8efc-19380b2a3a95]\n",
      "└ @ Base loading.jl:1317\n",
      "┌ Info: Precompiling Opus_jll [91d4177d-7536-5919-b921-800302f37372]\n",
      "└ @ Base loading.jl:1317\n",
      "┌ Info: Precompiling StatsBase [2913bbd2-ae8a-5f71-8c99-4fb6c76f3a91]\n",
      "└ @ Base loading.jl:1317\n",
      "\u001b[33m\u001b[1m┌ \u001b[22m\u001b[39m\u001b[33m\u001b[1mWarning: \u001b[22m\u001b[39mModule DataStructures with build ID 1482579722781501 is missing from the cache.\n",
      "\u001b[33m\u001b[1m│ \u001b[22m\u001b[39mThis may mean DataStructures [864edb3b-99cc-5e75-8d2d-829cb0a9cfe8] does not support precompilation but is imported by a module that does.\n",
      "\u001b[33m\u001b[1m└ \u001b[22m\u001b[39m\u001b[90m@ Base loading.jl:1008\u001b[39m\n",
      "┌ Info: Skipping precompilation since __precompile__(false). Importing StatsBase [2913bbd2-ae8a-5f71-8c99-4fb6c76f3a91].\n",
      "└ @ Base loading.jl:1025\n"
     ]
    },
    {
     "ename": "LoadError",
     "evalue": "ArgumentError: Package StatsBase not found in current path:\n- Run `import Pkg; Pkg.add(\"StatsBase\")` to install the StatsBase package.\n",
     "output_type": "error",
     "traceback": [
      "ArgumentError: Package StatsBase not found in current path:\n- Run `import Pkg; Pkg.add(\"StatsBase\")` to install the StatsBase package.\n",
      "",
      "Stacktrace:",
      " [1] require(into::Module, mod::Symbol)",
      "   @ Base .\\loading.jl:871",
      " [2] eval",
      "   @ .\\boot.jl:360 [inlined]",
      " [3] include_string(mapexpr::typeof(REPL.softscope), mod::Module, code::String, filename::String)",
      "   @ Base .\\loading.jl:1094"
     ]
    }
   ],
   "source": [
    "using DataFrames, CSV, Plots, Random, StatsBase"
   ]
  },
  {
   "cell_type": "markdown",
   "metadata": {},
   "source": [
    "# DecisionTree"
   ]
  },
  {
   "cell_type": "code",
   "execution_count": 5,
   "metadata": {},
   "outputs": [],
   "source": [
    "using DecisionTree"
   ]
  },
  {
   "cell_type": "code",
   "execution_count": 6,
   "metadata": {},
   "outputs": [
    {
     "name": "stdout",
     "output_type": "stream",
     "text": [
      "number of read data points 13580\n",
      "number of valid data points 6196\n"
     ]
    }
   ],
   "source": [
    "data = CSV.read(\"Data//melb_data.csv\", DataFrame);\n",
    "println( \"number of read data points $(size(data)[1])\")\n",
    "#fdata = dropmissing(data);\n",
    "dropmissing!(data);\n",
    "filtered = convert( Array, data[!,[:Rooms, :Bathroom, :Landsize, :BuildingArea, :YearBuilt, :Lattitude, :Longtitude]] );\n",
    "y = convert( Array, data[!,:Price] );\n",
    "println( \"number of valid data points $(size(filtered)[1])\")"
   ]
  },
  {
   "cell_type": "code",
   "execution_count": 7,
   "metadata": {},
   "outputs": [
    {
     "name": "stdout",
     "output_type": "stream",
     "text": [
      "Matrix{Float64}\n",
      "Vector{Float64}\n"
     ]
    },
    {
     "data": {
      "text/plain": [
       "(6196, 7)"
      ]
     },
     "execution_count": 7,
     "metadata": {},
     "output_type": "execute_result"
    }
   ],
   "source": [
    "println( typeof(filtered) )\n",
    "println( typeof(y) )\n",
    "#first(filtered,5)\n",
    "size(filtered)"
   ]
  },
  {
   "cell_type": "code",
   "execution_count": 8,
   "metadata": {},
   "outputs": [
    {
     "name": "stdout",
     "output_type": "stream",
     "text": [
      "  0.024107 seconds (84.92 k allocations: 5.586 MiB, 99.38% compilation time)\n",
      "train set size 4647\n",
      "test  set size 1549\n"
     ]
    }
   ],
   "source": [
    "@time idx = shuffle!(collect(1:size(filtered)[1]));\n",
    "sp = convert(Int, length(idx)*0.75)\n",
    "trainX = filtered[idx[1:sp],:];\n",
    "testX  = filtered[idx[sp+1:end],:];\n",
    "trainY = y[idx[1:sp]];\n",
    "testY  = y[idx[sp+1:end]];\n",
    "println( \"train set size \", size(trainX)[1])\n",
    "println( \"test  set size \", size(testX)[1])"
   ]
  },
  {
   "cell_type": "code",
   "execution_count": 6,
   "metadata": {},
   "outputs": [],
   "source": [
    "mean_squared_error(x)  = mean( x.^2 );\n",
    "mean_absolute_error(x) = mean( abs.(x) );"
   ]
  },
  {
   "cell_type": "code",
   "execution_count": 7,
   "metadata": {},
   "outputs": [],
   "source": [
    "model = DecisionTreeRegressor();#max_depth=7);"
   ]
  },
  {
   "cell_type": "code",
   "execution_count": 8,
   "metadata": {},
   "outputs": [
    {
     "name": "stdout",
     "output_type": "stream",
     "text": [
      "  0.718931 seconds (2.41 M allocations: 123.172 MiB, 4.33% gc time)\n"
     ]
    },
    {
     "data": {
      "text/plain": [
       "DecisionTreeRegressor\n",
       "max_depth:                -1\n",
       "min_samples_leaf:         5\n",
       "min_samples_split:        2\n",
       "min_purity_increase:      0.0\n",
       "pruning_purity_threshold: 1.0\n",
       "n_subfeatures:            0\n",
       "root:                     Decision Tree\n",
       "Leaves: 749\n",
       "Depth:  19"
      ]
     },
     "execution_count": 8,
     "metadata": {},
     "output_type": "execute_result"
    }
   ],
   "source": [
    "@time DecisionTree.fit!(model, trainX, trainY)"
   ]
  },
  {
   "cell_type": "code",
   "execution_count": 9,
   "metadata": {},
   "outputs": [
    {
     "name": "stdout",
     "output_type": "stream",
     "text": [
      "  0.110140 seconds (269.11 k allocations: 14.710 MiB, 10.61% gc time)\n",
      "prediction MSE 1.412683512051058e11\n",
      "prediction MAE 225596.91702941988\n"
     ]
    }
   ],
   "source": [
    "@time pred = DecisionTree.predict(model, testX);\n",
    "println( \"prediction MSE \", mean_squared_error( pred - testY ) )\n",
    "println( \"prediction MAE \",mean_absolute_error( pred - testY ) )"
   ]
  },
  {
   "cell_type": "code",
   "execution_count": 10,
   "metadata": {},
   "outputs": [
    {
     "name": "stdout",
     "output_type": "stream",
     "text": [
      "  0.000577 seconds (4.65 k allocations: 726.266 KiB)\n",
      "train set prediction MSE 5.719646014760644e10\n",
      "train set prediction MAE 130855.70948828568\n"
     ]
    }
   ],
   "source": [
    "@time predT = DecisionTree.predict(model, trainX);\n",
    "println( \"train set prediction MSE \", mean_squared_error( predT - trainY ) )\n",
    "println( \"train set prediction MAE \",mean_absolute_error( predT - trainY ) )"
   ]
  },
  {
   "cell_type": "markdown",
   "metadata": {},
   "source": [
    "# Random forest"
   ]
  },
  {
   "cell_type": "code",
   "execution_count": 11,
   "metadata": {},
   "outputs": [],
   "source": [
    "rf = RandomForestClassifier();"
   ]
  },
  {
   "cell_type": "code",
   "execution_count": 12,
   "metadata": {},
   "outputs": [
    {
     "data": {
      "text/plain": [
       "RandomForestClassifier\n",
       "n_trees:             10\n",
       "n_subfeatures:       -1\n",
       "partial_sampling:    0.7\n",
       "max_depth:           -1\n",
       "min_samples_leaf:    1\n",
       "min_samples_split:   2\n",
       "min_purity_increase: 0.0\n",
       "classes:             [131000.0, 145000.0, 170000.0, 185000.0, 200000.0, 210000.0, 216000.0, 220000.0, 222000.0, 227000.0  …  5.5e6, 5.51e6, 5.525e6, 5.6e6, 5.7e6, 6.25e6, 6.5e6, 7.65e6, 8.0e6, 9.0e6]\n",
       "ensemble:            Ensemble of Decision Trees\n",
       "Trees:      10\n",
       "Avg Leaves: 3112.3\n",
       "Avg Depth:  27.3"
      ]
     },
     "execution_count": 12,
     "metadata": {},
     "output_type": "execute_result"
    }
   ],
   "source": [
    "DecisionTree.fit!(rf, filtered, y)"
   ]
  },
  {
   "cell_type": "code",
   "execution_count": 13,
   "metadata": {},
   "outputs": [
    {
     "name": "stdout",
     "output_type": "stream",
     "text": [
      "  0.083479 seconds (213.34 k allocations: 11.563 MiB, 14.63% gc time)\n",
      "prediction MSE 2.632691089656574e10\n",
      "prediction MAE 96112.72771680655\n"
     ]
    }
   ],
   "source": [
    "@time pred = DecisionTree.predict(rf, testX);\n",
    "println( \"prediction MSE \", mean_squared_error( pred - testY ) )\n",
    "println( \"prediction MAE \",mean_absolute_error( pred - testY ) )"
   ]
  },
  {
   "cell_type": "markdown",
   "metadata": {},
   "source": [
    "# MLJ"
   ]
  },
  {
   "cell_type": "code",
   "execution_count": 14,
   "metadata": {},
   "outputs": [],
   "source": [
    "using MLJ"
   ]
  },
  {
   "cell_type": "markdown",
   "metadata": {},
   "source": [
    "# ScikitLearn"
   ]
  },
  {
   "cell_type": "code",
   "execution_count": 15,
   "metadata": {},
   "outputs": [],
   "source": [
    "using ScikitLearn\n",
    "using ScikitLearn.CrossValidation: train_test_split"
   ]
  },
  {
   "cell_type": "code",
   "execution_count": 16,
   "metadata": {},
   "outputs": [],
   "source": [
    "trainX1, testX1, trainY1, testY1 = train_test_split(filtered, y, test_size=0.25, random_state=42);"
   ]
  }
 ],
 "metadata": {
  "kernelspec": {
   "display_name": "Julia 1.6.0",
   "language": "julia",
   "name": "julia-1.6"
  },
  "language_info": {
   "file_extension": ".jl",
   "mimetype": "application/julia",
   "name": "julia",
   "version": "1.6.0"
  }
 },
 "nbformat": 4,
 "nbformat_minor": 4
}
