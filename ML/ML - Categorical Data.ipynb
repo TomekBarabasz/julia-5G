{
 "cells": [
  {
   "cell_type": "code",
   "execution_count": 1,
   "metadata": {},
   "outputs": [
    {
     "name": "stderr",
     "output_type": "stream",
     "text": [
      "┌ Info: Precompiling DataFrames [a93c6f00-e57d-5684-b7b6-d8193f3e46c0]\n",
      "└ @ Base loading.jl:1278\n",
      "┌ Info: Precompiling CSV [336ed68f-0bac-5ca0-87d4-7b16caf5d00b]\n",
      "└ @ Base loading.jl:1278\n"
     ]
    }
   ],
   "source": [
    "using DataFrames, CSV, DecisionTree"
   ]
  },
  {
   "cell_type": "code",
   "execution_count": 3,
   "metadata": {},
   "outputs": [
    {
     "name": "stdout",
     "output_type": "stream",
     "text": [
      "size of training set 1460\n",
      "size of testing set 1459\n"
     ]
    }
   ],
   "source": [
    "housing_prices_train_full = CSV.read(\"Housing Prices Competition//train.csv\", DataFrame; types=Dict(:LotFrontage=>Int, :MasVnrArea=>Int, :GarageYrBlt=>Int), silencewarnings=true);\n",
    "housing_prices_test_full = CSV.read(\"Housing Prices Competition//test.csv\", DataFrame; types=Dict(:LotFrontage=>Int, :MasVnrArea=>Int, :GarageYrBlt=>Int), silencewarnings=true);\n",
    "println( \"size of training set $(size(housing_prices_train_full)[1])\")\n",
    "println( \"size of testing set $(size(housing_prices_test_full)[1])\")"
   ]
  },
  {
   "cell_type": "code",
   "execution_count": 4,
   "metadata": {},
   "outputs": [
    {
     "name": "stdout",
     "output_type": "stream",
     "text": [
      "  0.914625 seconds (3.09 M allocations: 158.108 MiB, 5.40% gc time)\n",
      "invalid columns [\"Utilities\", \"Condition2\", \"HouseStyle\", \"RoofMatl\", \"Exterior1st\", \"Exterior2nd\", \"Heating\", \"Electrical\", \"GarageQual\", \"PoolQC\", \"MiscFeature\"]\n"
     ]
    }
   ],
   "source": [
    "x_train = housing_prices_train_full\n",
    "x_test = housing_prices_test_full\n",
    "function test_same_labels(df1, df2)#::(Vector{String},Vector{String})\n",
    "    df1_column_names = names(df1[!,[eltype(c)==String for c in eachcol(df1)]])\n",
    "    df2_column_names = names(df2[!,[eltype(c)==String for c in eachcol(df2)]])\n",
    "    valid_column_names = Vector{String}()\n",
    "    invalid_column_names = Vector{String}()\n",
    "    @assert setdiff( Set(df1_column_names), df2_column_names) == Set([])\n",
    "    for n in df1_column_names\n",
    "        d = setdiff( Set(unique(df1[!,n])), unique(df2[!,n]) )\n",
    "        push!(length(d) == 0 ? valid_column_names : invalid_column_names,n)\n",
    "    end\n",
    "    return valid_column_names, invalid_column_names\n",
    "end\n",
    "@time v,iv = test_same_labels(x_train,x_test);\n",
    "println( \"invalid columns \",iv)"
   ]
  },
  {
   "cell_type": "code",
   "execution_count": null,
   "metadata": {},
   "outputs": [],
   "source": []
  }
 ],
 "metadata": {
  "kernelspec": {
   "display_name": "Julia 1.5.3",
   "language": "julia",
   "name": "julia-1.5"
  },
  "language_info": {
   "file_extension": ".jl",
   "mimetype": "application/julia",
   "name": "julia",
   "version": "1.5.3"
  }
 },
 "nbformat": 4,
 "nbformat_minor": 4
}
