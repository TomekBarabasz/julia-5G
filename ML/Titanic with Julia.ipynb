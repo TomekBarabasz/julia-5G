{
 "cells": [
  {
   "cell_type": "code",
   "execution_count": 1,
   "metadata": {},
   "outputs": [],
   "source": [
    "using DataFrames, CSV"
   ]
  },
  {
   "cell_type": "code",
   "execution_count": 6,
   "metadata": {},
   "outputs": [],
   "source": [
    "using ScikitLearn, MLJ, DecisionTree\n",
    "#using MultivariateStats, InformationMeasures"
   ]
  },
  {
   "cell_type": "code",
   "execution_count": 7,
   "metadata": {},
   "outputs": [],
   "source": [
    "using Statistics"
   ]
  },
  {
   "cell_type": "code",
   "execution_count": 8,
   "metadata": {},
   "outputs": [],
   "source": [
    "#path = \".\\\\Titanic\\\\\"\n",
    "path = \"./Titanic/\"\n",
    "train = CSV.read(path * \"train.csv\", DataFrame);\n",
    "test = CSV.read(path * \"test.csv\", DataFrame);"
   ]
  },
  {
   "cell_type": "code",
   "execution_count": 9,
   "metadata": {},
   "outputs": [
    {
     "name": "stdout",
     "output_type": "stream",
     "text": [
      "num variables = 12, num observations 891\n",
      "variables: [\"PassengerId\", \"Survived\", \"Pclass\", \"Name\", \"Sex\", \"Age\", \"SibSp\", \"Parch\", \"Ticket\", \"Fare\", \"Cabin\", \"Embarked\"]\n"
     ]
    }
   ],
   "source": [
    "s=size(train)\n",
    "println(\"num variables = $(s[2]), num observations $(s[1])\")\n",
    "println(\"variables: \", names(train))"
   ]
  },
  {
   "cell_type": "markdown",
   "metadata": {},
   "source": [
    "## Column types + missing values"
   ]
  },
  {
   "cell_type": "code",
   "execution_count": 21,
   "metadata": {},
   "outputs": [
    {
     "name": "stdout",
     "output_type": "stream",
     "text": [
      "Vector{Int64} Int64\n",
      "Vector{Int64} Int64\n",
      "Vector{Int64} Int64\n",
      "Vector{String} String\n",
      "PooledArrays.PooledVector{String7, UInt32, Vector{UInt32}} String7\n",
      "SentinelArrays.SentinelVector{Float64, Float64, Missing, Vector{Float64}} Union{Missing, Float64}\n",
      "Vector{Int64} Int64\n",
      "Vector{Int64} Int64\n",
      "Vector{String31} String31\n",
      "Vector{Float64} Float64\n",
      "PooledArrays.PooledVector{Union{Missing, String15}, UInt32, Vector{UInt32}} Union{Missing, String15}\n",
      "PooledArrays.PooledVector{Union{Missing, String1}, UInt32, Vector{UInt32}} Union{Missing, String1}\n"
     ]
    }
   ],
   "source": [
    "for c in eachcol(train)\n",
    "    println( typeof(c),' ',eltype(c) )\n",
    "end"
   ]
  },
  {
   "cell_type": "code",
   "execution_count": 6,
   "metadata": {},
   "outputs": [
    {
     "data": {
      "text/plain": [
       "12-element Vector{Tuple{String, Type}}:\n",
       " (\"PassengerId\", Int64)\n",
       " (\"Survived\", Int64)\n",
       " (\"Pclass\", Int64)\n",
       " (\"Name\", String)\n",
       " (\"Sex\", String)\n",
       " (\"Age\", Union{Missing, Float64})\n",
       " (\"SibSp\", Int64)\n",
       " (\"Parch\", Int64)\n",
       " (\"Ticket\", String)\n",
       " (\"Fare\", Float64)\n",
       " (\"Cabin\", Union{Missing, String})\n",
       " (\"Embarked\", Union{Missing, String})"
      ]
     },
     "execution_count": 6,
     "metadata": {},
     "output_type": "execute_result"
    }
   ],
   "source": [
    "ColumnTypes = [(n,eltype(c)) for (n,c) in zip(names(train), eachcol(train))]"
   ]
  },
  {
   "cell_type": "markdown",
   "metadata": {},
   "source": [
    "## Unique values for Categorical variables"
   ]
  },
  {
   "cell_type": "code",
   "execution_count": 7,
   "metadata": {},
   "outputs": [
    {
     "name": "stdout",
     "output_type": "stream",
     "text": [
      "Sex values :[\"male\", \"female\"]\n"
     ]
    }
   ],
   "source": [
    "println(\"Sex values :\",unique(train[!,:Sex]))"
   ]
  },
  {
   "cell_type": "code",
   "execution_count": 8,
   "metadata": {},
   "outputs": [
    {
     "name": "stdout",
     "output_type": "stream",
     "text": [
      "Column Name unique Names count :(891,)\n",
      "[\"Braund, Mr. Owen Harris\", \"Cumings, Mrs. John Bradley (Florence Briggs Thayer)\", \"Heikkinen, Miss. Laina\", \"Futrelle, Mrs. Jacques Heath (Lily May Peel)\", \"Allen, Mr. William Henry\", \"Moran, Mr. James\", \"McCarthy, Mr. Timothy J\", \"Palsson, Master. Gosta Leonard\", \"Johnson, Mrs. Oscar W (Elisabeth Vilhelmina Berg)\", \"Nasser, Mrs. Nicholas (Adele Achem)\", \"Sandstrom, Miss. Marguerite Rut\", \"Bonnell, Miss. Elizabeth\", \"Saundercock, Mr. William Henry\", \"Andersson, Mr. Anders Johan\", \"Vestrom, Miss. Hulda Amanda Adolfina\", \"Hewlett, Mrs. (Mary D Kingcome) \", \"Rice, Master. Eugene\", \"Williams, Mr. Charles Eugene\", \"Vander Planke, Mrs. Julius (Emelia Maria Vandemoortele)\", \"Masselmani, Mrs. Fatima\"]\n",
      "Column Sex unique Names count :(2,)\n",
      "[\"male\", \"female\"]\n",
      "Column Ticket unique Names count :(681,)\n",
      "[\"A/5 21171\", \"PC 17599\", \"STON/O2. 3101282\", \"113803\", \"373450\", \"330877\", \"17463\", \"349909\", \"347742\", \"237736\", \"PP 9549\", \"113783\", \"A/5. 2151\", \"347082\", \"350406\", \"248706\", \"382652\", \"244373\", \"345763\", \"2649\"]\n",
      "Column Cabin unique Names count :(148,)\n",
      "Union{Missing, String}[missing, \"C85\", \"C123\", \"E46\", \"G6\", \"C103\", \"D56\", \"A6\", \"C23 C25 C27\", \"B78\", \"D33\", \"B30\", \"C52\", \"B28\", \"C83\", \"F33\", \"F G73\", \"E31\", \"A5\", \"D10 D12\"]\n",
      "Column Embarked unique Names count :(4,)\n",
      "Union{Missing, String}[\"S\", \"C\", \"Q\", missing]\n"
     ]
    }
   ],
   "source": [
    "for (idx,col) in enumerate(eachcol(train))\n",
    "    #if eltype(col) <: String <: eltype(col)\n",
    "    if String <: eltype(col)\n",
    "        unique_values = unique(col)\n",
    "        println(\"Column $(names(train)[idx]) unique Names count :\",size(unique_values))\n",
    "        println(first(unique_values,20))\n",
    "    end\n",
    "end"
   ]
  },
  {
   "cell_type": "code",
   "execution_count": 9,
   "metadata": {},
   "outputs": [
    {
     "data": {
      "text/plain": [
       "RegexMatch(\"Cumings, Mrs. John Bradley (Florence Briggs Thayer)\", 1=\"Cumings\", 2=\"Mrs\", 3=\"John Bradley\", 4=\"Florence Briggs Thayer\")"
      ]
     },
     "execution_count": 9,
     "metadata": {},
     "output_type": "execute_result"
    }
   ],
   "source": [
    "name=\"Cumings, Mrs. John Bradley (Florence Briggs Thayer)\"\n",
    "re=r\"(\\w+),\\s*(\\w+)\\.\\s*([\\s\\w]+)\\s\\(*([\\s\\w]+)?\\)*\"\n",
    "m = match(re,name)"
   ]
  },
  {
   "cell_type": "code",
   "execution_count": 193,
   "metadata": {},
   "outputs": [
    {
     "data": {
      "text/plain": [
       "split_name (generic function with 1 method)"
      ]
     },
     "execution_count": 193,
     "metadata": {},
     "output_type": "execute_result"
    }
   ],
   "source": [
    "function split_name(name::String)\n",
    "    re=r\"(\\w+),\\s(\\w+)\\.\\s(\\w+\\s*\\w+)?\\s*(\\((.+)\\))?\"\n",
    "    match(re,name)\n",
    "end"
   ]
  },
  {
   "cell_type": "code",
   "execution_count": 229,
   "metadata": {},
   "outputs": [
    {
     "data": {
      "text/plain": [
       "get_title_1 (generic function with 1 method)"
      ]
     },
     "execution_count": 229,
     "metadata": {},
     "output_type": "execute_result"
    }
   ],
   "source": [
    "get_title_1(name::String) = split_name(name) != nothing ? m[2] : \"unknown\""
   ]
  },
  {
   "cell_type": "code",
   "execution_count": 233,
   "metadata": {},
   "outputs": [
    {
     "data": {
      "text/plain": [
       "get_title (generic function with 1 method)"
      ]
     },
     "execution_count": 233,
     "metadata": {},
     "output_type": "execute_result"
    }
   ],
   "source": [
    "get_title(name::String) = match(r\".*, ([\\w\\s]+)\\. .*\", name)[1]"
   ]
  },
  {
   "cell_type": "code",
   "execution_count": 234,
   "metadata": {},
   "outputs": [
    {
     "name": "stdout",
     "output_type": "stream",
     "text": [
      "Mrs\n",
      "Mr\n",
      "Miss\n",
      "Mrs\n"
     ]
    },
    {
     "data": {
      "text/plain": [
       "\"the Countess\""
      ]
     },
     "execution_count": 234,
     "metadata": {},
     "output_type": "execute_result"
    }
   ],
   "source": [
    "t=get_title(\"Cumings, Mrs. John Bradley (Florence Briggs Thayer)\")\n",
    "println(t)\n",
    "t=get_title(\"Braund, Mr. Owen Harris\")\n",
    "println(t)\n",
    "t=get_title(\"Vestrom, Miss. Hulda Amanda Adolfina\")\n",
    "println(t)\n",
    "t=get_title(\"Hewlett, Mrs. (Mary D Kingcome)\")\n",
    "println(t)\n",
    "t=get_title(\"Rothes, the Countess. of (Lucy Noel Martha Dyer-Edwards)\")"
   ]
  },
  {
   "cell_type": "code",
   "execution_count": 13,
   "metadata": {},
   "outputs": [
    {
     "data": {
      "text/html": [
       "<table class=\"data-frame\"><thead><tr><th></th><th>Sex</th><th>Survived_mean</th></tr><tr><th></th><th>String</th><th>Float64</th></tr></thead><tbody><p>2 rows × 2 columns</p><tr><th>1</th><td>male</td><td>0.188908</td></tr><tr><th>2</th><td>female</td><td>0.742038</td></tr></tbody></table>"
      ],
      "text/latex": [
       "\\begin{tabular}{r|cc}\n",
       "\t& Sex & Survived\\_mean\\\\\n",
       "\t\\hline\n",
       "\t& String & Float64\\\\\n",
       "\t\\hline\n",
       "\t1 & male & 0.188908 \\\\\n",
       "\t2 & female & 0.742038 \\\\\n",
       "\\end{tabular}\n"
      ],
      "text/plain": [
       "\u001b[1m2×2 DataFrame\u001b[0m\n",
       "\u001b[1m Row \u001b[0m│\u001b[1m Sex    \u001b[0m\u001b[1m Survived_mean \u001b[0m\n",
       "\u001b[1m     \u001b[0m│\u001b[90m String \u001b[0m\u001b[90m Float64       \u001b[0m\n",
       "─────┼───────────────────────\n",
       "   1 │ male         0.188908\n",
       "   2 │ female       0.742038"
      ]
     },
     "execution_count": 13,
     "metadata": {},
     "output_type": "execute_result"
    }
   ],
   "source": [
    "combine(groupby(train, [:Sex]), :Survived => mean)"
   ]
  },
  {
   "cell_type": "code",
   "execution_count": 14,
   "metadata": {},
   "outputs": [
    {
     "data": {
      "text/html": [
       "<table class=\"data-frame\"><thead><tr><th></th><th>Pclass</th><th>Survived_mean</th></tr><tr><th></th><th>Int64</th><th>Float64</th></tr></thead><tbody><p>3 rows × 2 columns</p><tr><th>1</th><td>3</td><td>0.242363</td></tr><tr><th>2</th><td>1</td><td>0.62963</td></tr><tr><th>3</th><td>2</td><td>0.472826</td></tr></tbody></table>"
      ],
      "text/latex": [
       "\\begin{tabular}{r|cc}\n",
       "\t& Pclass & Survived\\_mean\\\\\n",
       "\t\\hline\n",
       "\t& Int64 & Float64\\\\\n",
       "\t\\hline\n",
       "\t1 & 3 & 0.242363 \\\\\n",
       "\t2 & 1 & 0.62963 \\\\\n",
       "\t3 & 2 & 0.472826 \\\\\n",
       "\\end{tabular}\n"
      ],
      "text/plain": [
       "\u001b[1m3×2 DataFrame\u001b[0m\n",
       "\u001b[1m Row \u001b[0m│\u001b[1m Pclass \u001b[0m\u001b[1m Survived_mean \u001b[0m\n",
       "\u001b[1m     \u001b[0m│\u001b[90m Int64  \u001b[0m\u001b[90m Float64       \u001b[0m\n",
       "─────┼───────────────────────\n",
       "   1 │      3       0.242363\n",
       "   2 │      1       0.62963\n",
       "   3 │      2       0.472826"
      ]
     },
     "execution_count": 14,
     "metadata": {},
     "output_type": "execute_result"
    }
   ],
   "source": [
    "combine(groupby(train, [:Pclass]), :Survived => mean)"
   ]
  },
  {
   "cell_type": "code",
   "execution_count": 38,
   "metadata": {},
   "outputs": [
    {
     "data": {
      "text/html": [
       "<table class=\"data-frame\"><thead><tr><th></th><th>Pclass</th><th>Mean</th></tr><tr><th></th><th>Int64</th><th>Float64</th></tr></thead><tbody><p>3 rows × 2 columns</p><tr><th>1</th><td>3</td><td>25.1406</td></tr><tr><th>2</th><td>1</td><td>38.2334</td></tr><tr><th>3</th><td>2</td><td>29.8776</td></tr></tbody></table>"
      ],
      "text/latex": [
       "\\begin{tabular}{r|cc}\n",
       "\t& Pclass & Mean\\\\\n",
       "\t\\hline\n",
       "\t& Int64 & Float64\\\\\n",
       "\t\\hline\n",
       "\t1 & 3 & 25.1406 \\\\\n",
       "\t2 & 1 & 38.2334 \\\\\n",
       "\t3 & 2 & 29.8776 \\\\\n",
       "\\end{tabular}\n"
      ],
      "text/plain": [
       "\u001b[1m3×2 DataFrame\u001b[0m\n",
       "\u001b[1m Row \u001b[0m│\u001b[1m Pclass \u001b[0m\u001b[1m Mean    \u001b[0m\n",
       "\u001b[1m     \u001b[0m│\u001b[90m Int64  \u001b[0m\u001b[90m Float64 \u001b[0m\n",
       "─────┼─────────────────\n",
       "   1 │      3  25.1406\n",
       "   2 │      1  38.2334\n",
       "   3 │      2  29.8776"
      ]
     },
     "execution_count": 38,
     "metadata": {},
     "output_type": "execute_result"
    }
   ],
   "source": [
    "gr=groupby(train, [:Pclass])\n",
    "pclass_mean_age=combine(gr, :Age => (x->mean(skipmissing(x))) => :Mean)"
   ]
  },
  {
   "cell_type": "code",
   "execution_count": 95,
   "metadata": {},
   "outputs": [
    {
     "data": {
      "text/plain": [
       "3-element Vector{Float64}:\n",
       " 38.233440860215055\n",
       " 29.87763005780347\n",
       " 25.14061971830986"
      ]
     },
     "execution_count": 95,
     "metadata": {},
     "output_type": "execute_result"
    }
   ],
   "source": [
    "pc_age = [ pclass_mean_age[pclass_mean_age.Pclass .==pc,:Mean][1] for pc in 1:3]"
   ]
  },
  {
   "cell_type": "code",
   "execution_count": 83,
   "metadata": {},
   "outputs": [
    {
     "data": {
      "text/html": [
       "<table class=\"data-frame\"><thead><tr><th></th><th>Pclass</th><th>Age_function</th></tr><tr><th></th><th>Int64</th><th>Int64</th></tr></thead><tbody><p>3 rows × 2 columns</p><tr><th>1</th><td>3</td><td>136</td></tr><tr><th>2</th><td>1</td><td>30</td></tr><tr><th>3</th><td>2</td><td>11</td></tr></tbody></table>"
      ],
      "text/latex": [
       "\\begin{tabular}{r|cc}\n",
       "\t& Pclass & Age\\_function\\\\\n",
       "\t\\hline\n",
       "\t& Int64 & Int64\\\\\n",
       "\t\\hline\n",
       "\t1 & 3 & 136 \\\\\n",
       "\t2 & 1 & 30 \\\\\n",
       "\t3 & 2 & 11 \\\\\n",
       "\\end{tabular}\n"
      ],
      "text/plain": [
       "\u001b[1m3×2 DataFrame\u001b[0m\n",
       "\u001b[1m Row \u001b[0m│\u001b[1m Pclass \u001b[0m\u001b[1m Age_function \u001b[0m\n",
       "\u001b[1m     \u001b[0m│\u001b[90m Int64  \u001b[0m\u001b[90m Int64        \u001b[0m\n",
       "─────┼──────────────────────\n",
       "   1 │      3           136\n",
       "   2 │      1            30\n",
       "   3 │      2            11"
      ]
     },
     "execution_count": 83,
     "metadata": {},
     "output_type": "execute_result"
    }
   ],
   "source": [
    "combine(gr, :Age => (x->count(ismissing,x)))"
   ]
  },
  {
   "cell_type": "code",
   "execution_count": 119,
   "metadata": {},
   "outputs": [],
   "source": [
    "t1=copy(train);"
   ]
  },
  {
   "cell_type": "code",
   "execution_count": 120,
   "metadata": {},
   "outputs": [
    {
     "data": {
      "text/plain": [
       "(177, 12)"
      ]
     },
     "execution_count": 120,
     "metadata": {},
     "output_type": "execute_result"
    }
   ],
   "source": [
    "size(filter(:Age => ismissing, t1, view=true))"
   ]
  },
  {
   "cell_type": "code",
   "execution_count": 124,
   "metadata": {},
   "outputs": [
    {
     "data": {
      "text/plain": [
       "(0, 12)"
      ]
     },
     "execution_count": 124,
     "metadata": {},
     "output_type": "execute_result"
    }
   ],
   "source": [
    "#filter(row->ismissing(row.Age) && row.Pclass==1, t1, view=true)\n",
    "size(filter([:Age,:Pclass] => (x,y)-> ismissing(x) && y==1, t1, view=true))\n"
   ]
  },
  {
   "cell_type": "code",
   "execution_count": 132,
   "metadata": {},
   "outputs": [
    {
     "data": {
      "text/plain": [
       "(0, 12)"
      ]
     },
     "execution_count": 132,
     "metadata": {},
     "output_type": "execute_result"
    }
   ],
   "source": [
    "size(filter([:Age,:Pclass] => (x,y)-> ismissing(x) && y==2, t1, view=true))"
   ]
  },
  {
   "cell_type": "code",
   "execution_count": 136,
   "metadata": {},
   "outputs": [
    {
     "data": {
      "text/plain": [
       "(136, 12)"
      ]
     },
     "execution_count": 136,
     "metadata": {},
     "output_type": "execute_result"
    }
   ],
   "source": [
    "v3 = filter([:Age,:Pclass] => (x,y)->ismissing(x) && y==3, t1, view=true)\n",
    "size(v3)"
   ]
  },
  {
   "cell_type": "code",
   "execution_count": 178,
   "metadata": {},
   "outputs": [
    {
     "data": {
      "text/plain": [
       "(0, 12)"
      ]
     },
     "execution_count": 178,
     "metadata": {},
     "output_type": "execute_result"
    }
   ],
   "source": [
    "v3[:,:Age] .= pc_age[3]\n",
    "size(filter([:Age,:Pclass] => (x,y)->ismissing(x) && y==3, t1, view=true))"
   ]
  },
  {
   "cell_type": "code",
   "execution_count": 139,
   "metadata": {},
   "outputs": [],
   "source": [
    "filter(row-> ismissing(row.Age) && row.Pclass==1, t1, view=true);"
   ]
  },
  {
   "cell_type": "code",
   "execution_count": 140,
   "metadata": {},
   "outputs": [],
   "source": [
    "#filter(row-> ismissing(row.Age) && row.Pclass==2, t1, view=true)[:,:Age] .= pc_age[2]"
   ]
  },
  {
   "cell_type": "code",
   "execution_count": 168,
   "metadata": {},
   "outputs": [],
   "source": [
    "t2=copy(train);\n",
    "for (key,subg) in pairs( groupby(train, [:Pclass]))\n",
    "    pclass_mean_age = mean(skipmissing(subg[!,:Age]))\n",
    "    subg[ismissing.(subg.Age), :Age] .= pclass_mean_age\n",
    "end"
   ]
  },
  {
   "cell_type": "code",
   "execution_count": 171,
   "metadata": {},
   "outputs": [],
   "source": [
    "t2=copy(train);\n",
    "for subg in groupby(train, [:Pclass])\n",
    "    pclass_mean_age = mean(skipmissing(subg[!,:Age]))\n",
    "    subg[ismissing.(subg.Age), :Age] .= pclass_mean_age\n",
    "end"
   ]
  },
  {
   "cell_type": "code",
   "execution_count": 172,
   "metadata": {},
   "outputs": [
    {
     "data": {
      "text/plain": [
       "(0,)"
      ]
     },
     "execution_count": 172,
     "metadata": {},
     "output_type": "execute_result"
    }
   ],
   "source": [
    "size(t2[(t2.Pclass.==1) .& ismissing.(t2.Age),:Age])"
   ]
  },
  {
   "cell_type": "code",
   "execution_count": 173,
   "metadata": {},
   "outputs": [
    {
     "data": {
      "text/plain": [
       "(0, 12)"
      ]
     },
     "execution_count": 173,
     "metadata": {},
     "output_type": "execute_result"
    }
   ],
   "source": [
    "size(filter(:Age=>ismissing,t2))"
   ]
  },
  {
   "cell_type": "code",
   "execution_count": 176,
   "metadata": {},
   "outputs": [
    {
     "data": {
      "text/plain": [
       "-0.32464428716437516"
      ]
     },
     "execution_count": 176,
     "metadata": {},
     "output_type": "execute_result"
    }
   ],
   "source": [
    "cov(t2[!,:Age], t2[!,:Survived])"
   ]
  },
  {
   "cell_type": "code",
   "execution_count": 179,
   "metadata": {},
   "outputs": [
    {
     "data": {
      "text/plain": [
       "-0.050503588877348855"
      ]
     },
     "execution_count": 179,
     "metadata": {},
     "output_type": "execute_result"
    }
   ],
   "source": [
    "cor(t2[!,:Age], t2[!,:Survived])"
   ]
  },
  {
   "cell_type": "code",
   "execution_count": 181,
   "metadata": {},
   "outputs": [
    {
     "data": {
      "text/plain": [
       "2×2 Matrix{Float64}:\n",
       " 174.518     -0.324644\n",
       "  -0.324644   0.236772"
      ]
     },
     "execution_count": 181,
     "metadata": {},
     "output_type": "execute_result"
    }
   ],
   "source": [
    "cov(convert(Array,t2[!,[:Age,:Survived]]))"
   ]
  },
  {
   "cell_type": "code",
   "execution_count": 182,
   "metadata": {},
   "outputs": [
    {
     "data": {
      "text/plain": [
       "2×2 Matrix{Float64}:\n",
       "  1.0        -0.0505036\n",
       " -0.0505036   1.0"
      ]
     },
     "execution_count": 182,
     "metadata": {},
     "output_type": "execute_result"
    }
   ],
   "source": [
    "cor(convert(Array,t2[!,[:Age,:Survived]]))"
   ]
  },
  {
   "cell_type": "code",
   "execution_count": 184,
   "metadata": {},
   "outputs": [
    {
     "data": {
      "text/plain": [
       "-0.13770287141073745"
      ]
     },
     "execution_count": 184,
     "metadata": {},
     "output_type": "execute_result"
    }
   ],
   "source": [
    "cov(t2[!,:Pclass], t2[!,:Survived])"
   ]
  },
  {
   "cell_type": "code",
   "execution_count": 192,
   "metadata": {},
   "outputs": [
    {
     "data": {
      "text/plain": [
       "RegexMatch(\"Cumings, Mrs. John Bradley (Florence Briggs Thayer)\", 1=\"Cumings\", 2=\"Mrs\", 3=\"John Bradley\", 4=\"(Florence Briggs Thayer)\", 5=\"Florence Briggs Thayer\")"
      ]
     },
     "execution_count": 192,
     "metadata": {},
     "output_type": "execute_result"
    }
   ],
   "source": [
    "split_name.(t2[!,:Name])[2]"
   ]
  },
  {
   "cell_type": "code",
   "execution_count": 235,
   "metadata": {},
   "outputs": [
    {
     "data": {
      "text/plain": [
       "String[]"
      ]
     },
     "execution_count": 235,
     "metadata": {},
     "output_type": "execute_result"
    }
   ],
   "source": [
    "t2.Title = get_title.(t2.Name);"
   ]
  },
  {
   "cell_type": "code",
   "execution_count": 241,
   "metadata": {},
   "outputs": [
    {
     "data": {
      "text/html": [
       "<table class=\"data-frame\"><thead><tr><th></th><th>Title</th><th>nrow</th></tr><tr><th></th><th>SubStri…</th><th>Int64</th></tr></thead><tbody><p>17 rows × 2 columns</p><tr><th>1</th><td>Mr</td><td>517</td></tr><tr><th>2</th><td>Mrs</td><td>125</td></tr><tr><th>3</th><td>Miss</td><td>182</td></tr><tr><th>4</th><td>Master</td><td>40</td></tr><tr><th>5</th><td>Don</td><td>1</td></tr><tr><th>6</th><td>Rev</td><td>6</td></tr><tr><th>7</th><td>Dr</td><td>7</td></tr><tr><th>8</th><td>Mme</td><td>1</td></tr><tr><th>9</th><td>Ms</td><td>1</td></tr><tr><th>10</th><td>Major</td><td>2</td></tr><tr><th>11</th><td>Lady</td><td>1</td></tr><tr><th>12</th><td>Sir</td><td>1</td></tr><tr><th>13</th><td>Mlle</td><td>2</td></tr><tr><th>14</th><td>Col</td><td>2</td></tr><tr><th>15</th><td>Capt</td><td>1</td></tr><tr><th>16</th><td>the Countess</td><td>1</td></tr><tr><th>17</th><td>Jonkheer</td><td>1</td></tr></tbody></table>"
      ],
      "text/latex": [
       "\\begin{tabular}{r|cc}\n",
       "\t& Title & nrow\\\\\n",
       "\t\\hline\n",
       "\t& SubStri… & Int64\\\\\n",
       "\t\\hline\n",
       "\t1 & Mr & 517 \\\\\n",
       "\t2 & Mrs & 125 \\\\\n",
       "\t3 & Miss & 182 \\\\\n",
       "\t4 & Master & 40 \\\\\n",
       "\t5 & Don & 1 \\\\\n",
       "\t6 & Rev & 6 \\\\\n",
       "\t7 & Dr & 7 \\\\\n",
       "\t8 & Mme & 1 \\\\\n",
       "\t9 & Ms & 1 \\\\\n",
       "\t10 & Major & 2 \\\\\n",
       "\t11 & Lady & 1 \\\\\n",
       "\t12 & Sir & 1 \\\\\n",
       "\t13 & Mlle & 2 \\\\\n",
       "\t14 & Col & 2 \\\\\n",
       "\t15 & Capt & 1 \\\\\n",
       "\t16 & the Countess & 1 \\\\\n",
       "\t17 & Jonkheer & 1 \\\\\n",
       "\\end{tabular}\n"
      ],
      "text/plain": [
       "\u001b[1m17×2 DataFrame\u001b[0m\n",
       "\u001b[1m Row \u001b[0m│\u001b[1m Title        \u001b[0m\u001b[1m nrow  \u001b[0m\n",
       "\u001b[1m     \u001b[0m│\u001b[90m SubStrin…    \u001b[0m\u001b[90m Int64 \u001b[0m\n",
       "─────┼─────────────────────\n",
       "   1 │ Mr              517\n",
       "   2 │ Mrs             125\n",
       "   3 │ Miss            182\n",
       "   4 │ Master           40\n",
       "   5 │ Don               1\n",
       "   6 │ Rev               6\n",
       "   7 │ Dr                7\n",
       "   8 │ Mme               1\n",
       "   9 │ Ms                1\n",
       "  10 │ Major             2\n",
       "  11 │ Lady              1\n",
       "  12 │ Sir               1\n",
       "  13 │ Mlle              2\n",
       "  14 │ Col               2\n",
       "  15 │ Capt              1\n",
       "  16 │ the Countess      1\n",
       "  17 │ Jonkheer          1"
      ]
     },
     "execution_count": 241,
     "metadata": {},
     "output_type": "execute_result"
    }
   ],
   "source": [
    "combine(groupby(t2,[:Title]),nrow)"
   ]
  },
  {
   "cell_type": "code",
   "execution_count": 242,
   "metadata": {},
   "outputs": [
    {
     "ename": "LoadError",
     "evalue": "MethodError: no method matching nrow(::SubArray{Int64, 1, Vector{Int64}, Tuple{Vector{Int64}}, false})\n\u001b[0mClosest candidates are:\n\u001b[0m  nrow(\u001b[91m::DataFrame\u001b[39m) at /home/barabasz/.julia/packages/DataFrames/3mEXm/src/dataframe/dataframe.jl:351\n\u001b[0m  nrow(\u001b[91m::SubDataFrame\u001b[39m) at /home/barabasz/.julia/packages/DataFrames/3mEXm/src/subdataframe/subdataframe.jl:157",
     "output_type": "error",
     "traceback": [
      "MethodError: no method matching nrow(::SubArray{Int64, 1, Vector{Int64}, Tuple{Vector{Int64}}, false})\n\u001b[0mClosest candidates are:\n\u001b[0m  nrow(\u001b[91m::DataFrame\u001b[39m) at /home/barabasz/.julia/packages/DataFrames/3mEXm/src/dataframe/dataframe.jl:351\n\u001b[0m  nrow(\u001b[91m::SubDataFrame\u001b[39m) at /home/barabasz/.julia/packages/DataFrames/3mEXm/src/subdataframe/subdataframe.jl:157",
      "",
      "Stacktrace:",
      " [1] do_call(f::typeof(nrow), idx::Vector{Int64}, starts::Vector{Int64}, ends::Vector{Int64}, gd::GroupedDataFrame{DataFrame}, incols::Tuple{Vector{Int64}}, i::Int64)",
      "   @ DataFrames ~/.julia/packages/DataFrames/3mEXm/src/groupeddataframe/callprocessing.jl:95",
      " [2] _combine_process_pair(cs_i::Pair, optional_i::Bool, parentdf::DataFrame, gd::GroupedDataFrame{DataFrame}, seen_cols::Dict{Symbol, Tuple{Bool, Int64}}, trans_res::Vector{DataFrames.TransformationResult}, idx_agg::Nothing)",
      "   @ DataFrames ~/.julia/packages/DataFrames/3mEXm/src/groupeddataframe/splitapplycombine.jl:453",
      " [3] _combine(gd::GroupedDataFrame{DataFrame}, cs_norm::Vector{Any}, optional_transform::Vector{Bool}, copycols::Bool, keeprows::Bool, renamecols::Bool)",
      "   @ DataFrames ~/.julia/packages/DataFrames/3mEXm/src/groupeddataframe/splitapplycombine.jl:548",
      " [4] _combine_prepare(gd::GroupedDataFrame{DataFrame}, cs::Union{Regex, AbstractString, Function, Signed, Symbol, Unsigned, Pair, AbstractVector{T} where T, Type, All, Between, Cols, InvertedIndex}; keepkeys::Bool, ungroup::Bool, copycols::Bool, keeprows::Bool, renamecols::Bool)",
      "   @ DataFrames ~/.julia/packages/DataFrames/3mEXm/src/groupeddataframe/splitapplycombine.jl:66",
      " [5] #combine#509",
      "   @ ~/.julia/packages/DataFrames/3mEXm/src/groupeddataframe/splitapplycombine.jl:638 [inlined]",
      " [6] combine(gd::GroupedDataFrame{DataFrame}, cs::Pair{Symbol, typeof(nrow)})",
      "   @ DataFrames ~/.julia/packages/DataFrames/3mEXm/src/groupeddataframe/splitapplycombine.jl:638",
      " [7] top-level scope",
      "   @ In[242]:1",
      " [8] eval",
      "   @ ./boot.jl:360 [inlined]",
      " [9] include_string(mapexpr::typeof(REPL.softscope), mod::Module, code::String, filename::String)",
      "   @ Base ./loading.jl:1094"
     ]
    }
   ],
   "source": [
    "combine(groupby(t2,[:Title]),:Survived => nrow)"
   ]
  }
 ],
 "metadata": {
  "kernelspec": {
   "display_name": "Julia 1.8.1",
   "language": "julia",
   "name": "julia-1.8"
  },
  "language_info": {
   "file_extension": ".jl",
   "mimetype": "application/julia",
   "name": "julia",
   "version": "1.8.1"
  }
 },
 "nbformat": 4,
 "nbformat_minor": 4
}
