{
 "cells": [
  {
   "cell_type": "code",
   "execution_count": 112,
   "id": "02f66109",
   "metadata": {},
   "outputs": [],
   "source": [
    "using Flux\n",
    "using Flux: params"
   ]
  },
  {
   "cell_type": "code",
   "execution_count": 132,
   "id": "b3267c66",
   "metadata": {},
   "outputs": [],
   "source": [
    "celcius    = [-40 -10  0  8 15 22  38];\n",
    "fahrenheit = [-10  14 32 46 59 72 100];"
   ]
  },
  {
   "cell_type": "code",
   "execution_count": 131,
   "id": "db63188c",
   "metadata": {},
   "outputs": [
    {
     "data": {
      "text/plain": [
       "19.4"
      ]
     },
     "execution_count": 131,
     "metadata": {},
     "output_type": "execute_result"
    }
   ],
   "source": [
    "f(x) = 3x^2 + 2x + 1;\n",
    "df(x) = gradient(f,x)[1];\n",
    "df(2.9)"
   ]
  },
  {
   "cell_type": "code",
   "execution_count": 130,
   "id": "4404e19e",
   "metadata": {},
   "outputs": [
    {
     "data": {
      "text/plain": [
       "([-4 -4], [4 4])"
      ]
     },
     "execution_count": 130,
     "metadata": {},
     "output_type": "execute_result"
    }
   ],
   "source": [
    "f2(x,y) = sum((x .- y).^2);\n",
    "df2(x,y) = gradient(f2,x,y);\n",
    "df2([1 2],[3 4])"
   ]
  },
  {
   "cell_type": "code",
   "execution_count": 183,
   "id": "eb611c78",
   "metadata": {},
   "outputs": [
    {
     "name": "stdout",
     "output_type": "stream",
     "text": [
      "Ab=Vector{Float64}(2,)\n",
      "A =Vector{Float64}(1,)\n",
      "b =Vector{Float64}(1,)\n"
     ]
    }
   ],
   "source": [
    "Ab=rand(2)\n",
    "A=Ab[1,:]\n",
    "b=Ab[2,:]\n",
    "println( \"Ab=\", typeof(Ab),size(Ab) )\n",
    "println( \"A =\",  typeof(A), size(A) )\n",
    "println( \"b =\",  typeof(b), size(b) )"
   ]
  },
  {
   "cell_type": "code",
   "execution_count": 196,
   "id": "391d9728",
   "metadata": {},
   "outputs": [
    {
     "name": "stdout",
     "output_type": "stream",
     "text": [
      "loss=[74.58604539266003 944.819642745368 3072.0 5547.713010011277 8548.331360480155 12195.094546544118 22065.941704332115]\n"
     ]
    }
   ],
   "source": [
    "predict(x) = A*x.+b\n",
    "loss(x,y) = sum( (y .- predict(x)).^2 );\n",
    "mse_loss(x, y) = Flux.Losses.mse(predict(x), y)\n",
    "println(\"loss=\",loss.(celcius,fahrenheit))\n",
    "#println(\"mse loss=\", mse_loss.(celcius,fahrenheit))"
   ]
  },
  {
   "cell_type": "code",
   "execution_count": 197,
   "id": "c71d5ce7",
   "metadata": {},
   "outputs": [
    {
     "data": {
      "text/plain": [
       "([-2064.132648762831], [-86.00552703178462, -86.00552703178462, -86.00552703178462])"
      ]
     },
     "execution_count": 197,
     "metadata": {},
     "output_type": "execute_result"
    }
   ],
   "source": [
    "x,y=8,46\n",
    "Θ = params([A,b])\n",
    "gs = gradient(() -> loss(x, y), Θ)\n",
    "gs[A], gs[b]"
   ]
  },
  {
   "cell_type": "markdown",
   "id": "04d6f526",
   "metadata": {},
   "source": [
    "# Manual training"
   ]
  },
  {
   "cell_type": "code",
   "execution_count": 162,
   "id": "f6fdd9ab",
   "metadata": {},
   "outputs": [
    {
     "name": "stdout",
     "output_type": "stream",
     "text": [
      "loss before=[5.5045612770121516e13 3.376005710785456e12 5.39463118905976e8 2.2852992536643286e12 7.919453579385543e12 1.6946264812685275e13 5.031877340134008e13]\n",
      "loss after=[9.784241053444548e13 6.000752225716074e12 9.595357591650553e8 4.0621294059102188e12 1.407679760951844e13 3.012186745257183e13 8.944111873647866e13]\n"
     ]
    }
   ],
   "source": [
    "η = 0.1\n",
    "println(\"loss before=\",loss.(celcius,fahrenheit))\n",
    "for _ in 1:1000\n",
    "    for p in Θ\n",
    "        Flux.update!(p,η*gs[p])\n",
    "    end\n",
    "end\n",
    "println(\"loss after=\",loss.(celcius,fahrenheit))"
   ]
  },
  {
   "cell_type": "code",
   "execution_count": 207,
   "id": "ecf383ef",
   "metadata": {},
   "outputs": [
    {
     "data": {
      "text/plain": [
       "1×1 Matrix{Float64}:\n",
       " 0.44898308569367873"
      ]
     },
     "execution_count": 207,
     "metadata": {},
     "output_type": "execute_result"
    }
   ],
   "source": [
    "A=rand(1,1)\n",
    "b=rand(1,1)"
   ]
  },
  {
   "cell_type": "code",
   "execution_count": 208,
   "id": "105ada35",
   "metadata": {},
   "outputs": [],
   "source": [
    "opt=Flux.Descent(0.1)\n",
    "data = [cf for cf in zip(celcius,fahrenheit)]\n",
    "Flux.train!(loss, Θ, data, opt)"
   ]
  },
  {
   "cell_type": "code",
   "execution_count": 209,
   "id": "6c590203",
   "metadata": {},
   "outputs": [
    {
     "data": {
      "text/plain": [
       "1×7 Matrix{Float64}:\n",
       " 166.511  375.943  995.467  1671.21  2479.41  3446.5  5985.46"
      ]
     },
     "execution_count": 209,
     "metadata": {},
     "output_type": "execute_result"
    }
   ],
   "source": [
    "loss.(celcius,fahrenheit)"
   ]
  },
  {
   "cell_type": "code",
   "execution_count": null,
   "id": "2c605a1f",
   "metadata": {},
   "outputs": [],
   "source": [
    "b=ra"
   ]
  }
 ],
 "metadata": {
  "kernelspec": {
   "display_name": "Julia 1.6.1",
   "language": "julia",
   "name": "julia-1.6"
  },
  "language_info": {
   "file_extension": ".jl",
   "mimetype": "application/julia",
   "name": "julia",
   "version": "1.6.1"
  }
 },
 "nbformat": 4,
 "nbformat_minor": 5
}
