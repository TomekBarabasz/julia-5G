{
 "cells": [
  {
   "cell_type": "code",
   "execution_count": 37,
   "metadata": {},
   "outputs": [
    {
     "name": "stderr",
     "output_type": "stream",
     "text": [
      "┌ Info: Precompiling Impute [f7bf1975-0170-51b9-8c5f-a992d46b9575]\n",
      "└ @ Base loading.jl:1278\n"
     ]
    }
   ],
   "source": [
    "using DataFrames, CSV, Plots, Random, DecisionTree, Statistics, Impute"
   ]
  },
  {
   "cell_type": "code",
   "execution_count": 2,
   "metadata": {},
   "outputs": [],
   "source": [
    "using ScikitLearn.CrossValidation: train_test_split"
   ]
  },
  {
   "cell_type": "code",
   "execution_count": 3,
   "metadata": {},
   "outputs": [
    {
     "data": {
      "text/plain": [
       "score_core_dataset (generic function with 1 method)"
      ]
     },
     "execution_count": 3,
     "metadata": {},
     "output_type": "execute_result"
    }
   ],
   "source": [
    "function score_core_dataset(X_train, X_valid, y_train, y_valid)\n",
    "    rf = RandomForestClassifier();\n",
    "    DecisionTree.fit!(rf, X_train, y_train)\n",
    "    pred = DecisionTree.predict(rf, X_valid);\n",
    "    return mean_absolute_error(pred-y_valid)\n",
    "end "
   ]
  },
  {
   "cell_type": "code",
   "execution_count": 4,
   "metadata": {},
   "outputs": [
    {
     "name": "stdout",
     "output_type": "stream",
     "text": [
      "size of training set 1460\n",
      "size of testing set 1459\n"
     ]
    }
   ],
   "source": [
    "housing_prices_train_full = CSV.read(\"//home//barabasz//src//learning-julia//Housing Prices Competition//train.csv\", DataFrame; types=Dict(:LotFrontage=>Int, :MasVnrArea=>Int, :GarageYrBlt=>Int), silencewarnings=true);\n",
    "housing_prices_test_full = CSV.read(\"//home//barabasz//src//learning-julia//Housing Prices Competition//test.csv\", DataFrame; types=Dict(:LotFrontage=>Int, :MasVnrArea=>Int, :GarageYrBlt=>Int), silencewarnings=true);\n",
    "println( \"size of training set $(size(housing_prices_train_full)[1])\")\n",
    "println( \"size of testing set $(size(housing_prices_test_full)[1])\")"
   ]
  },
  {
   "cell_type": "code",
   "execution_count": 92,
   "metadata": {},
   "outputs": [
    {
     "data": {
      "text/html": [
       "<table class=\"data-frame\"><thead><tr><th></th><th>Id</th><th>MSSubClass</th><th>MSZoning</th><th>LotFrontage</th><th>LotArea</th><th>Street</th><th>Alley</th></tr><tr><th></th><th>DataType</th><th>DataType</th><th>DataType</th><th>Union</th><th>DataType</th><th>DataType</th><th>DataType</th></tr></thead><tbody><p>1 rows × 80 columns (omitted printing of 73 columns)</p><tr><th>1</th><td>Int64</td><td>Int64</td><td>String</td><td>Union{Missing, Int64}</td><td>Int64</td><td>String</td><td>String</td></tr></tbody></table>"
      ],
      "text/latex": [
       "\\begin{tabular}{r|cccccccc}\n",
       "\t& Id & MSSubClass & MSZoning & LotFrontage & LotArea & Street & Alley & \\\\\n",
       "\t\\hline\n",
       "\t& DataType & DataType & DataType & Union & DataType & DataType & DataType & \\\\\n",
       "\t\\hline\n",
       "\t1 & Int64 & Int64 & String & Union\\{Missing, Int64\\} & Int64 & String & String & $\\dots$ \\\\\n",
       "\\end{tabular}\n"
      ],
      "text/plain": [
       "\u001b[1m1×80 DataFrame\u001b[0m\n",
       "\u001b[1m Row \u001b[0m│\u001b[1m Id       \u001b[0m\u001b[1m MSSubClass \u001b[0m\u001b[1m MSZoning \u001b[0m\u001b[1m LotFrontage           \u001b[0m\u001b[1m LotArea  \u001b[0m\u001b[1m Street\u001b[0m ⋯\n",
       "\u001b[1m     \u001b[0m│\u001b[90m DataType \u001b[0m\u001b[90m DataType   \u001b[0m\u001b[90m DataType \u001b[0m\u001b[90m Union                 \u001b[0m\u001b[90m DataType \u001b[0m\u001b[90m DataTy\u001b[0m ⋯\n",
       "─────┼──────────────────────────────────────────────────────────────────────────\n",
       "   1 │ Int64     Int64       String    Union{Missing, Int64}  Int64     String ⋯\n",
       "\u001b[36m                                                              75 columns omitted\u001b[0m"
      ]
     },
     "execution_count": 92,
     "metadata": {},
     "output_type": "execute_result"
    }
   ],
   "source": [
    "mapcols(x->eltype(x),housing_prices_test_full)"
   ]
  },
  {
   "cell_type": "code",
   "execution_count": 94,
   "metadata": {},
   "outputs": [
    {
     "data": {
      "text/plain": [
       "Int64"
      ]
     },
     "execution_count": 94,
     "metadata": {},
     "output_type": "execute_result"
    }
   ],
   "source": [
    "nonmissingtype( eltype(housing_prices_test_full.LotFrontage) )"
   ]
  },
  {
   "cell_type": "code",
   "execution_count": 5,
   "metadata": {},
   "outputs": [
    {
     "name": "stdout",
     "output_type": "stream",
     "text": [
      "total missing values 348\n"
     ]
    },
    {
     "data": {
      "text/html": [
       "<table class=\"data-frame\"><thead><tr><th></th><th>LotFrontage</th><th>MasVnrArea</th><th>GarageYrBlt</th></tr><tr><th></th><th>Int64</th><th>Int64</th><th>Int64</th></tr></thead><tbody><p>1 rows × 3 columns</p><tr><th>1</th><td>259</td><td>8</td><td>81</td></tr></tbody></table>"
      ],
      "text/latex": [
       "\\begin{tabular}{r|ccc}\n",
       "\t& LotFrontage & MasVnrArea & GarageYrBlt\\\\\n",
       "\t\\hline\n",
       "\t& Int64 & Int64 & Int64\\\\\n",
       "\t\\hline\n",
       "\t1 & 259 & 8 & 81 \\\\\n",
       "\\end{tabular}\n"
      ],
      "text/plain": [
       "\u001b[1m1×3 DataFrame\u001b[0m\n",
       "\u001b[1m Row \u001b[0m│\u001b[1m LotFrontage \u001b[0m\u001b[1m MasVnrArea \u001b[0m\u001b[1m GarageYrBlt \u001b[0m\n",
       "\u001b[1m     \u001b[0m│\u001b[90m Int64       \u001b[0m\u001b[90m Int64      \u001b[0m\u001b[90m Int64       \u001b[0m\n",
       "─────┼──────────────────────────────────────\n",
       "   1 │         259           8           81"
      ]
     },
     "execution_count": 5,
     "metadata": {},
     "output_type": "execute_result"
    }
   ],
   "source": [
    "ms = mapcols(x->sum(ismissing,x),housing_prices_train_full)\n",
    "ms=ms[!, convert(Vector,mapcols(x-> x.>0, ms)[1,:])]\n",
    "#df[!,mapcols(x -> sum(ismissing, x), df)]\n",
    "println( \"total missing values \",sum(ms[1,:]) )\n",
    "ms"
   ]
  },
  {
   "cell_type": "code",
   "execution_count": 6,
   "metadata": {},
   "outputs": [
    {
     "name": "stdout",
     "output_type": "stream",
     "text": [
      "size of X_train (1168, 7)\n",
      "size of X_valid (292, 7)\n",
      "size of y_train (1168,)\n",
      "size of y_valid (292,)\n"
     ]
    }
   ],
   "source": [
    "#filtered = convert( Array, data[!,[:Rooms, :Bathroom, :Landsize, :BuildingArea, :YearBuilt, :Lattitude, :Longtitude]] );\n",
    "#y = convert( Array, data[!,:Price] );\n",
    "\n",
    "y = convert(Array, housing_prices_train_full.SalePrice);\n",
    "#features = [:LotArea, :YearBuilt, :1stFlrSF, :2ndFlrSF, :FullBath, :BedroomAbvGr, :TotRmsAbvGrd]\n",
    "features = [\"LotArea\", \"YearBuilt\", \"1stFlrSF\", \"2ndFlrSF\", \"FullBath\", \"BedroomAbvGr\", \"TotRmsAbvGrd\"];\n",
    "\n",
    "X_train_full = convert(Array, housing_prices_train_full[!,features]);\n",
    "X_test  = convert(Array,  housing_prices_test_full[!,features]);\n",
    "\n",
    "# Break off validation set from training data\n",
    "X_train, X_valid, y_train, y_valid = train_test_split(X_train_full, y, train_size=0.8, test_size=0.2, random_state=0);\n",
    "println(\"size of X_train $(size(X_train))\")\n",
    "println(\"size of X_valid $(size(X_valid))\")\n",
    "println(\"size of y_train $(size(y_train))\")\n",
    "println(\"size of y_valid $(size(y_valid))\")"
   ]
  },
  {
   "cell_type": "code",
   "execution_count": 7,
   "metadata": {},
   "outputs": [
    {
     "data": {
      "text/plain": [
       "10×7 Array{Int64,2}:\n",
       " 11694  2007  1828    0  2  3  9\n",
       "  6600  1962   894    0  1  2  5\n",
       " 13360  1921   964    0  1  2  5\n",
       " 13265  2002  1689    0  2  3  7\n",
       " 13704  2001  1541    0  2  3  6\n",
       "  7500  2004  1221    0  2  2  6\n",
       "  8658  1965  1324    0  2  3  6\n",
       "  2572  1999   696  720  2  3  6\n",
       "  1596  1973   526  462  1  2  5\n",
       "  6000  1941   869  349  1  3  6"
      ]
     },
     "execution_count": 7,
     "metadata": {},
     "output_type": "execute_result"
    }
   ],
   "source": [
    "X_train[1:10,:]"
   ]
  },
  {
   "cell_type": "markdown",
   "metadata": {},
   "source": [
    "# DataFrames play with missing values"
   ]
  },
  {
   "cell_type": "code",
   "execution_count": 8,
   "metadata": {},
   "outputs": [
    {
     "data": {
      "text/html": [
       "<table class=\"data-frame\"><thead><tr><th></th><th>x1</th><th>x2</th><th>x3</th></tr><tr><th></th><th>Int64</th><th>Int64?</th><th>Int64?</th></tr></thead><tbody><p>3 rows × 3 columns</p><tr><th>1</th><td>5</td><td>1</td><td>2</td></tr><tr><th>2</th><td>6</td><td><em>missing</em></td><td><em>missing</em></td></tr><tr><th>3</th><td>7</td><td>3</td><td><em>missing</em></td></tr></tbody></table>"
      ],
      "text/latex": [
       "\\begin{tabular}{r|ccc}\n",
       "\t& x1 & x2 & x3\\\\\n",
       "\t\\hline\n",
       "\t& Int64 & Int64? & Int64?\\\\\n",
       "\t\\hline\n",
       "\t1 & 5 & 1 & 2 \\\\\n",
       "\t2 & 6 & \\emph{missing} & \\emph{missing} \\\\\n",
       "\t3 & 7 & 3 & \\emph{missing} \\\\\n",
       "\\end{tabular}\n"
      ],
      "text/plain": [
       "\u001b[1m3×3 DataFrame\u001b[0m\n",
       "\u001b[1m Row \u001b[0m│\u001b[1m x1    \u001b[0m\u001b[1m x2      \u001b[0m\u001b[1m x3      \u001b[0m\n",
       "\u001b[1m     \u001b[0m│\u001b[90m Int64 \u001b[0m\u001b[90m Int64?  \u001b[0m\u001b[90m Int64?  \u001b[0m\n",
       "─────┼─────────────────────────\n",
       "   1 │     5        1        2\n",
       "   2 │     6 \u001b[90m missing \u001b[0m\u001b[90m missing \u001b[0m\n",
       "   3 │     7        3 \u001b[90m missing \u001b[0m"
      ]
     },
     "execution_count": 8,
     "metadata": {},
     "output_type": "execute_result"
    }
   ],
   "source": [
    "df = DataFrame([5:7, [1, missing,3] ,[2, missing,missing]])"
   ]
  },
  {
   "cell_type": "code",
   "execution_count": 9,
   "metadata": {},
   "outputs": [
    {
     "data": {
      "text/html": [
       "<table class=\"data-frame\"><thead><tr><th></th><th>x1</th><th>x2</th><th>x3</th></tr><tr><th></th><th>Bool</th><th>Bool</th><th>Bool</th></tr></thead><tbody><p>1 rows × 3 columns</p><tr><th>1</th><td>0</td><td>1</td><td>1</td></tr></tbody></table>"
      ],
      "text/latex": [
       "\\begin{tabular}{r|ccc}\n",
       "\t& x1 & x2 & x3\\\\\n",
       "\t\\hline\n",
       "\t& Bool & Bool & Bool\\\\\n",
       "\t\\hline\n",
       "\t1 & 0 & 1 & 1 \\\\\n",
       "\\end{tabular}\n"
      ],
      "text/plain": [
       "\u001b[1m1×3 DataFrame\u001b[0m\n",
       "\u001b[1m Row \u001b[0m│\u001b[1m x1    \u001b[0m\u001b[1m x2   \u001b[0m\u001b[1m x3   \u001b[0m\n",
       "\u001b[1m     \u001b[0m│\u001b[90m Bool  \u001b[0m\u001b[90m Bool \u001b[0m\u001b[90m Bool \u001b[0m\n",
       "─────┼───────────────────\n",
       "   1 │ false  true  true"
      ]
     },
     "execution_count": 9,
     "metadata": {},
     "output_type": "execute_result"
    }
   ],
   "source": [
    "#mapcols(x -> any(ismissing, x), df)\n",
    "c=mapcols(x -> any(ismissing.(x)), df)"
   ]
  },
  {
   "cell_type": "markdown",
   "metadata": {},
   "source": [
    "# completecases return a bit vector with 1 for each row without missing values"
   ]
  },
  {
   "cell_type": "code",
   "execution_count": 10,
   "metadata": {},
   "outputs": [
    {
     "data": {
      "text/plain": [
       "3-element BitArray{1}:\n",
       " 1\n",
       " 0\n",
       " 0"
      ]
     },
     "execution_count": 10,
     "metadata": {},
     "output_type": "execute_result"
    }
   ],
   "source": [
    "completecases(df)"
   ]
  },
  {
   "cell_type": "code",
   "execution_count": 11,
   "metadata": {},
   "outputs": [
    {
     "data": {
      "text/html": [
       "<table class=\"data-frame\"><thead><tr><th></th><th>x1</th></tr><tr><th></th><th>Int64</th></tr></thead><tbody><p>3 rows × 1 columns</p><tr><th>1</th><td>5</td></tr><tr><th>2</th><td>6</td></tr><tr><th>3</th><td>7</td></tr></tbody></table>"
      ],
      "text/latex": [
       "\\begin{tabular}{r|c}\n",
       "\t& x1\\\\\n",
       "\t\\hline\n",
       "\t& Int64\\\\\n",
       "\t\\hline\n",
       "\t1 & 5 \\\\\n",
       "\t2 & 6 \\\\\n",
       "\t3 & 7 \\\\\n",
       "\\end{tabular}\n"
      ],
      "text/plain": [
       "\u001b[1m3×1 DataFrame\u001b[0m\n",
       "\u001b[1m Row \u001b[0m│\u001b[1m x1    \u001b[0m\n",
       "\u001b[1m     \u001b[0m│\u001b[90m Int64 \u001b[0m\n",
       "─────┼───────\n",
       "   1 │     5\n",
       "   2 │     6\n",
       "   3 │     7"
      ]
     },
     "execution_count": 11,
     "metadata": {},
     "output_type": "execute_result"
    }
   ],
   "source": [
    "cols=convert(Vector, mapcols(x -> !any(ismissing.(x)), df)[1,:])\n",
    "#cols=convert(Vector, mapcols(x -> sum(ismissing,x)>0, df)[1,:])\n",
    "df[!,cols]\n",
    "#df[!,[true false false]]\n",
    "#[true false false]\n",
    "#[1,2,3]\n",
    "#[1 2 3]"
   ]
  },
  {
   "cell_type": "code",
   "execution_count": 12,
   "metadata": {},
   "outputs": [
    {
     "ename": "LoadError",
     "evalue": "MethodError: no method matching getindex(::DataFrame, ::typeof(!), ::DataFrame)\nClosest candidates are:\n  getindex(::DataFrame, ::typeof(!), !Matched::Union{Signed, Unsigned}) at /home/barabasz/.julia/packages/DataFrames/oQ5c7/src/dataframe/dataframe.jl:431\n  getindex(::DataFrame, ::typeof(!), !Matched::Union{AbstractString, Symbol}) at /home/barabasz/.julia/packages/DataFrames/oQ5c7/src/dataframe/dataframe.jl:439\n  getindex(::DataFrame, ::typeof(!), !Matched::Union{Colon, Regex, AbstractArray{T,1} where T, All, Between, Cols, InvertedIndex}) at /home/barabasz/.julia/packages/DataFrames/oQ5c7/src/dataframe/dataframe.jl:478\n  ...",
     "output_type": "error",
     "traceback": [
      "MethodError: no method matching getindex(::DataFrame, ::typeof(!), ::DataFrame)\nClosest candidates are:\n  getindex(::DataFrame, ::typeof(!), !Matched::Union{Signed, Unsigned}) at /home/barabasz/.julia/packages/DataFrames/oQ5c7/src/dataframe/dataframe.jl:431\n  getindex(::DataFrame, ::typeof(!), !Matched::Union{AbstractString, Symbol}) at /home/barabasz/.julia/packages/DataFrames/oQ5c7/src/dataframe/dataframe.jl:439\n  getindex(::DataFrame, ::typeof(!), !Matched::Union{Colon, Regex, AbstractArray{T,1} where T, All, Between, Cols, InvertedIndex}) at /home/barabasz/.julia/packages/DataFrames/oQ5c7/src/dataframe/dataframe.jl:478\n  ...",
      "",
      "Stacktrace:",
      " [1] top-level scope at In[12]:3",
      " [2] include_string(::Function, ::Module, ::String, ::String) at ./loading.jl:1091"
     ]
    }
   ],
   "source": [
    "#colwise(x -> sum(ismissing.(x)), df) colwise is deprecated\n",
    "#mapcols(x -> sum(ismissing.(x)), df)\n",
    "df[!,mapcols(x -> sum(ismissing, x), df)]"
   ]
  },
  {
   "cell_type": "code",
   "execution_count": 156,
   "metadata": {},
   "outputs": [],
   "source": [
    "filename_long = \"//home//barabasz//src//learning-julia//Data//melb-house-prices-train.csv\"\n",
    "data = CSV.read(\"Data//melb-house-prices-train.csv\", DataFrame; types=Dict(:LotFrontage=>Int, :MasVnrArea=>Int, :GarageYrBlt=>Int), silencewarnings=true);"
   ]
  },
  {
   "cell_type": "code",
   "execution_count": 14,
   "metadata": {},
   "outputs": [
    {
     "data": {
      "text/html": [
       "<table class=\"data-frame\"><thead><tr><th></th><th>Id</th><th>MSSubClass</th><th>MSZoning</th><th>LotFrontage</th><th>LotArea</th><th>Street</th><th>Alley</th><th>LotShape</th><th>LandContour</th></tr><tr><th></th><th>Int64</th><th>Int64</th><th>Int64</th><th>Int64</th><th>Int64</th><th>Int64</th><th>Int64</th><th>Int64</th><th>Int64</th></tr></thead><tbody><p>1 rows × 81 columns (omitted printing of 72 columns)</p><tr><th>1</th><td>0</td><td>0</td><td>0</td><td>259</td><td>0</td><td>0</td><td>0</td><td>0</td><td>0</td></tr></tbody></table>"
      ],
      "text/latex": [
       "\\begin{tabular}{r|cccccccccc}\n",
       "\t& Id & MSSubClass & MSZoning & LotFrontage & LotArea & Street & Alley & LotShape & LandContour & \\\\\n",
       "\t\\hline\n",
       "\t& Int64 & Int64 & Int64 & Int64 & Int64 & Int64 & Int64 & Int64 & Int64 & \\\\\n",
       "\t\\hline\n",
       "\t1 & 0 & 0 & 0 & 259 & 0 & 0 & 0 & 0 & 0 & $\\dots$ \\\\\n",
       "\\end{tabular}\n"
      ],
      "text/plain": [
       "\u001b[1m1×81 DataFrame\u001b[0m\n",
       "\u001b[1m Row \u001b[0m│\u001b[1m Id    \u001b[0m\u001b[1m MSSubClass \u001b[0m\u001b[1m MSZoning \u001b[0m\u001b[1m LotFrontage \u001b[0m\u001b[1m LotArea \u001b[0m\u001b[1m Street \u001b[0m\u001b[1m Alley \u001b[0m\u001b[1m LotSh\u001b[0m ⋯\n",
       "\u001b[1m     \u001b[0m│\u001b[90m Int64 \u001b[0m\u001b[90m Int64      \u001b[0m\u001b[90m Int64    \u001b[0m\u001b[90m Int64       \u001b[0m\u001b[90m Int64   \u001b[0m\u001b[90m Int64  \u001b[0m\u001b[90m Int64 \u001b[0m\u001b[90m Int64\u001b[0m ⋯\n",
       "─────┼──────────────────────────────────────────────────────────────────────────\n",
       "   1 │     0           0         0          259        0       0      0        ⋯\n",
       "\u001b[36m                                                              74 columns omitted\u001b[0m"
      ]
     },
     "execution_count": 14,
     "metadata": {},
     "output_type": "execute_result"
    }
   ],
   "source": [
    "sum_missing = mapcols(x -> sum(ismissing, x), data)"
   ]
  },
  {
   "cell_type": "code",
   "execution_count": 15,
   "metadata": {},
   "outputs": [
    {
     "ename": "LoadError",
     "evalue": "MethodError: no method matching getindex(::DataFrame, ::DataFrame)\nClosest candidates are:\n  getindex(::DataFrame, !Matched::Integer, !Matched::Union{Signed, Unsigned}) at /home/barabasz/.julia/packages/DataFrames/oQ5c7/src/dataframe/dataframe.jl:388\n  getindex(::DataFrame, !Matched::Integer, !Matched::Union{AbstractString, Symbol}) at /home/barabasz/.julia/packages/DataFrames/oQ5c7/src/dataframe/dataframe.jl:403\n  getindex(::DataFrame, !Matched::AbstractArray{T,1} where T, !Matched::Union{AbstractString, Signed, Symbol, Unsigned}) at /home/barabasz/.julia/packages/DataFrames/oQ5c7/src/dataframe/dataframe.jl:413\n  ...",
     "output_type": "error",
     "traceback": [
      "MethodError: no method matching getindex(::DataFrame, ::DataFrame)\nClosest candidates are:\n  getindex(::DataFrame, !Matched::Integer, !Matched::Union{Signed, Unsigned}) at /home/barabasz/.julia/packages/DataFrames/oQ5c7/src/dataframe/dataframe.jl:388\n  getindex(::DataFrame, !Matched::Integer, !Matched::Union{AbstractString, Symbol}) at /home/barabasz/.julia/packages/DataFrames/oQ5c7/src/dataframe/dataframe.jl:403\n  getindex(::DataFrame, !Matched::AbstractArray{T,1} where T, !Matched::Union{AbstractString, Signed, Symbol, Unsigned}) at /home/barabasz/.julia/packages/DataFrames/oQ5c7/src/dataframe/dataframe.jl:413\n  ...",
      "",
      "Stacktrace:",
      " [1] top-level scope at In[15]:2",
      " [2] include_string(::Function, ::Module, ::String, ::String) at ./loading.jl:1091"
     ]
    }
   ],
   "source": [
    "#data[!, convert(Vector,(sum_missing .> )[1,:])]\n",
    "sum_missing[sum_missing .> 0]\n",
    "#(sum_missing .> 0)[1,:]\n",
    "#AsTable(sum_missing .>0)"
   ]
  },
  {
   "cell_type": "code",
   "execution_count": 16,
   "metadata": {},
   "outputs": [
    {
     "data": {
      "text/html": [
       "<table class=\"data-frame\"><thead><tr><th></th><th>name</th><th>type</th></tr><tr><th></th><th>String</th><th>Type</th></tr></thead><tbody><p>5 rows × 2 columns</p><tr><th>1</th><td>Id</td><td>Int64</td></tr><tr><th>2</th><td>MSSubClass</td><td>Int64</td></tr><tr><th>3</th><td>MSZoning</td><td>String</td></tr><tr><th>4</th><td>LotFrontage</td><td>Union{Missing, Int64}</td></tr><tr><th>5</th><td>LotArea</td><td>Int64</td></tr></tbody></table>"
      ],
      "text/latex": [
       "\\begin{tabular}{r|cc}\n",
       "\t& name & type\\\\\n",
       "\t\\hline\n",
       "\t& String & Type\\\\\n",
       "\t\\hline\n",
       "\t1 & Id & Int64 \\\\\n",
       "\t2 & MSSubClass & Int64 \\\\\n",
       "\t3 & MSZoning & String \\\\\n",
       "\t4 & LotFrontage & Union\\{Missing, Int64\\} \\\\\n",
       "\t5 & LotArea & Int64 \\\\\n",
       "\\end{tabular}\n"
      ],
      "text/plain": [
       "\u001b[1m5×2 DataFrame\u001b[0m\n",
       "\u001b[1m Row \u001b[0m│\u001b[1m name        \u001b[0m\u001b[1m type                  \u001b[0m\n",
       "\u001b[1m     \u001b[0m│\u001b[90m String      \u001b[0m\u001b[90m Type                  \u001b[0m\n",
       "─────┼────────────────────────────────────\n",
       "   1 │ Id           Int64\n",
       "   2 │ MSSubClass   Int64\n",
       "   3 │ MSZoning     String\n",
       "   4 │ LotFrontage  Union{Missing, Int64}\n",
       "   5 │ LotArea      Int64"
      ]
     },
     "execution_count": 16,
     "metadata": {},
     "output_type": "execute_result"
    }
   ],
   "source": [
    "nt = DataFrame(name = names(data), type=eltype.(eachcol(data)));\n",
    "first(nt,5)"
   ]
  },
  {
   "cell_type": "code",
   "execution_count": 17,
   "metadata": {},
   "outputs": [
    {
     "name": "stdout",
     "output_type": "stream",
     "text": [
      "(81,)\n"
     ]
    },
    {
     "data": {
      "text/plain": [
       "6-element BitArray{1}:\n",
       " 1\n",
       " 1\n",
       " 0\n",
       " 1\n",
       " 1\n",
       " 0"
      ]
     },
     "execution_count": 17,
     "metadata": {},
     "output_type": "execute_result"
    }
   ],
   "source": [
    "ba = (<:).(nt[!,:type],Union{Missing,Number})\n",
    "println(size(ba))\n",
    "ba[1:6]"
   ]
  },
  {
   "cell_type": "code",
   "execution_count": 18,
   "metadata": {},
   "outputs": [
    {
     "data": {
      "text/plain": [
       "(true, false, true, false)"
      ]
     },
     "execution_count": 18,
     "metadata": {},
     "output_type": "execute_result"
    }
   ],
   "source": [
    "Int <: Union{Missing,Number}, Union{Missing,Number} <: Int, Union{Missing,Number} <: Union{Missing,Number}, String<:Union{Missing,Number}"
   ]
  },
  {
   "cell_type": "code",
   "execution_count": 19,
   "metadata": {},
   "outputs": [
    {
     "data": {
      "text/plain": [
       "(true, false)"
      ]
     },
     "execution_count": 19,
     "metadata": {},
     "output_type": "execute_result"
    }
   ],
   "source": [
    "Int <: Number, Number <: Int"
   ]
  },
  {
   "cell_type": "code",
   "execution_count": 20,
   "metadata": {},
   "outputs": [
    {
     "data": {
      "text/html": [
       "<table class=\"data-frame\"><thead><tr><th></th><th>name</th><th>type</th></tr><tr><th></th><th>String</th><th>Type</th></tr></thead><tbody><p>3 rows × 2 columns</p><tr><th>1</th><td>LotFrontage</td><td>Union{Missing, Int64}</td></tr><tr><th>2</th><td>MasVnrArea</td><td>Union{Missing, Int64}</td></tr><tr><th>3</th><td>GarageYrBlt</td><td>Union{Missing, Int64}</td></tr></tbody></table>"
      ],
      "text/latex": [
       "\\begin{tabular}{r|cc}\n",
       "\t& name & type\\\\\n",
       "\t\\hline\n",
       "\t& String & Type\\\\\n",
       "\t\\hline\n",
       "\t1 & LotFrontage & Union\\{Missing, Int64\\} \\\\\n",
       "\t2 & MasVnrArea & Union\\{Missing, Int64\\} \\\\\n",
       "\t3 & GarageYrBlt & Union\\{Missing, Int64\\} \\\\\n",
       "\\end{tabular}\n"
      ],
      "text/plain": [
       "\u001b[1m3×2 DataFrame\u001b[0m\n",
       "\u001b[1m Row \u001b[0m│\u001b[1m name        \u001b[0m\u001b[1m type                  \u001b[0m\n",
       "\u001b[1m     \u001b[0m│\u001b[90m String      \u001b[0m\u001b[90m Type                  \u001b[0m\n",
       "─────┼────────────────────────────────────\n",
       "   1 │ LotFrontage  Union{Missing, Int64}\n",
       "   2 │ MasVnrArea   Union{Missing, Int64}\n",
       "   3 │ GarageYrBlt  Union{Missing, Int64}"
      ]
     },
     "execution_count": 20,
     "metadata": {},
     "output_type": "execute_result"
    }
   ],
   "source": [
    "filter(row -> row.type == Union{Missing,Int64}, nt);\n",
    "nt[nt.type .== Union{Missing,Int64}, :]"
   ]
  },
  {
   "cell_type": "code",
   "execution_count": 21,
   "metadata": {},
   "outputs": [
    {
     "data": {
      "text/html": [
       "# 4 methods for generic function <b>select</b>:<ul><li> select(df::<b>AbstractDataFrame</b>, args...; <i>copycols, renamecols</i>) in DataFrames at <a href=\"file:///home/barabasz/.julia/packages/DataFrames/oQ5c7/src/abstractdataframe/selection.jl\" target=\"_blank\">/home/barabasz/.julia/packages/DataFrames/oQ5c7/src/abstractdataframe/selection.jl:847</a></li> <li> select(arg::<b>Union{Function, Type}</b>, df::<b>AbstractDataFrame</b>; <i>renamecols</i>) in DataFrames at <a href=\"file:///home/barabasz/.julia/packages/DataFrames/oQ5c7/src/abstractdataframe/selection.jl\" target=\"_blank\">/home/barabasz/.julia/packages/DataFrames/oQ5c7/src/abstractdataframe/selection.jl:850</a></li> <li> select(f::<b>Union{Function, Type}</b>, gd::<b>GroupedDataFrame</b>; <i>copycols, keepkeys, ungroup, renamecols</i>) in DataFrames at <a href=\"file:///home/barabasz/.julia/packages/DataFrames/oQ5c7/src/groupeddataframe/splitapplycombine.jl\" target=\"_blank\">/home/barabasz/.julia/packages/DataFrames/oQ5c7/src/groupeddataframe/splitapplycombine.jl:642</a></li> <li> select(gd::<b>GroupedDataFrame</b>, args...; <i>copycols, keepkeys, ungroup, renamecols</i>) in DataFrames at <a href=\"file:///home/barabasz/.julia/packages/DataFrames/oQ5c7/src/groupeddataframe/splitapplycombine.jl\" target=\"_blank\">/home/barabasz/.julia/packages/DataFrames/oQ5c7/src/groupeddataframe/splitapplycombine.jl:652</a></li> </ul>"
      ],
      "text/plain": [
       "# 4 methods for generic function \"select\":\n",
       "[1] select(df::AbstractDataFrame, args...; copycols, renamecols) in DataFrames at /home/barabasz/.julia/packages/DataFrames/oQ5c7/src/abstractdataframe/selection.jl:847\n",
       "[2] select(arg::Union{Function, Type}, df::AbstractDataFrame; renamecols) in DataFrames at /home/barabasz/.julia/packages/DataFrames/oQ5c7/src/abstractdataframe/selection.jl:850\n",
       "[3] select(f::Union{Function, Type}, gd::GroupedDataFrame; copycols, keepkeys, ungroup, renamecols) in DataFrames at /home/barabasz/.julia/packages/DataFrames/oQ5c7/src/groupeddataframe/splitapplycombine.jl:642\n",
       "[4] select(gd::GroupedDataFrame, args...; copycols, keepkeys, ungroup, renamecols) in DataFrames at /home/barabasz/.julia/packages/DataFrames/oQ5c7/src/groupeddataframe/splitapplycombine.jl:652"
      ]
     },
     "execution_count": 21,
     "metadata": {},
     "output_type": "execute_result"
    }
   ],
   "source": [
    "methods(select)"
   ]
  },
  {
   "cell_type": "code",
   "execution_count": 22,
   "metadata": {},
   "outputs": [
    {
     "name": "stdout",
     "output_type": "stream",
     "text": [
      "  0.000000 seconds\n"
     ]
    },
    {
     "data": {
      "text/plain": [
       "6×4 LinearAlgebra.Transpose{Int64,Base.ReshapedArray{Int64,2,UnitRange{Int64},Tuple{}}}:\n",
       "  1   2   3   4\n",
       "  5   6   7   8\n",
       "  9  10  11  12\n",
       " 13  14  15  16\n",
       " 17  18  19  20\n",
       " 21  22  23  24"
      ]
     },
     "execution_count": 22,
     "metadata": {},
     "output_type": "execute_result"
    }
   ],
   "source": [
    "@time transpose(reshape(1:24,4,6))"
   ]
  },
  {
   "cell_type": "code",
   "execution_count": 23,
   "metadata": {},
   "outputs": [
    {
     "name": "stdout",
     "output_type": "stream",
     "text": [
      "  0.000000 seconds\n"
     ]
    },
    {
     "data": {
      "text/plain": [
       "6×4 LinearAlgebra.Transpose{Int64,Base.ReshapedArray{Int64,2,UnitRange{Int64},Tuple{}}}:\n",
       "  1   2   3   4\n",
       "  5   6   7   8\n",
       "  9  10  11  12\n",
       " 13  14  15  16\n",
       " 17  18  19  20\n",
       " 21  22  23  24"
      ]
     },
     "execution_count": 23,
     "metadata": {},
     "output_type": "execute_result"
    }
   ],
   "source": [
    "@time reshape(1:24,4,6) |> transpose"
   ]
  },
  {
   "cell_type": "code",
   "execution_count": 24,
   "metadata": {},
   "outputs": [
    {
     "data": {
      "text/plain": [
       "6×4 Array{Int64,2}:\n",
       "  1   2   3   4\n",
       "  5   6   7   8\n",
       "  9  10  11  12\n",
       " 13  14  15  16\n",
       " 17  18  19  20\n",
       " 21  22  23  24"
      ]
     },
     "execution_count": 24,
     "metadata": {},
     "output_type": "execute_result"
    }
   ],
   "source": [
    "a=[r*4+c for r in 0:5,c in 1:4]"
   ]
  },
  {
   "cell_type": "code",
   "execution_count": 25,
   "metadata": {},
   "outputs": [
    {
     "data": {
      "text/html": [
       "<table class=\"data-frame\"><thead><tr><th></th><th>x1</th><th>x2</th><th>x3</th><th>x4</th></tr><tr><th></th><th>Bool</th><th>Bool</th><th>Bool</th><th>Bool</th></tr></thead><tbody><p>6 rows × 4 columns</p><tr><th>1</th><td>0</td><td>0</td><td>0</td><td>0</td></tr><tr><th>2</th><td>0</td><td>0</td><td>0</td><td>0</td></tr><tr><th>3</th><td>0</td><td>1</td><td>1</td><td>1</td></tr><tr><th>4</th><td>1</td><td>1</td><td>1</td><td>1</td></tr><tr><th>5</th><td>1</td><td>0</td><td>0</td><td>0</td></tr><tr><th>6</th><td>0</td><td>0</td><td>0</td><td>0</td></tr></tbody></table>"
      ],
      "text/latex": [
       "\\begin{tabular}{r|cccc}\n",
       "\t& x1 & x2 & x3 & x4\\\\\n",
       "\t\\hline\n",
       "\t& Bool & Bool & Bool & Bool\\\\\n",
       "\t\\hline\n",
       "\t1 & 0 & 0 & 0 & 0 \\\\\n",
       "\t2 & 0 & 0 & 0 & 0 \\\\\n",
       "\t3 & 0 & 1 & 1 & 1 \\\\\n",
       "\t4 & 1 & 1 & 1 & 1 \\\\\n",
       "\t5 & 1 & 0 & 0 & 0 \\\\\n",
       "\t6 & 0 & 0 & 0 & 0 \\\\\n",
       "\\end{tabular}\n"
      ],
      "text/plain": [
       "\u001b[1m6×4 DataFrame\u001b[0m\n",
       "\u001b[1m Row \u001b[0m│\u001b[1m x1    \u001b[0m\u001b[1m x2    \u001b[0m\u001b[1m x3    \u001b[0m\u001b[1m x4    \u001b[0m\n",
       "\u001b[1m     \u001b[0m│\u001b[90m Bool  \u001b[0m\u001b[90m Bool  \u001b[0m\u001b[90m Bool  \u001b[0m\u001b[90m Bool  \u001b[0m\n",
       "─────┼────────────────────────────\n",
       "   1 │ false  false  false  false\n",
       "   2 │ false  false  false  false\n",
       "   3 │ false   true   true   true\n",
       "   4 │  true   true   true   true\n",
       "   5 │  true  false  false  false\n",
       "   6 │ false  false  false  false"
      ]
     },
     "execution_count": 25,
     "metadata": {},
     "output_type": "execute_result"
    }
   ],
   "source": [
    "df2 = DataFrame(a);\n",
    "(df2 .>= 10) .& (df2 .< 18)"
   ]
  },
  {
   "cell_type": "code",
   "execution_count": 26,
   "metadata": {},
   "outputs": [
    {
     "name": "stdout",
     "output_type": "stream",
     "text": [
      "Bool[1 0 1 1; 0 1 1 0; 0 1 0 1; 0 1 1 1; 1 0 1 0; 0 0 0 1]\n"
     ]
    },
    {
     "data": {
      "text/html": [
       "<table class=\"data-frame\"><thead><tr><th></th><th>x1</th><th>x2</th><th>x3</th><th>x4</th></tr><tr><th></th><th>Int64?</th><th>Int64?</th><th>Int64?</th><th>Int64?</th></tr></thead><tbody><p>6 rows × 4 columns</p><tr><th>1</th><td>1</td><td><em>missing</em></td><td>3</td><td>4</td></tr><tr><th>2</th><td><em>missing</em></td><td>6</td><td>7</td><td><em>missing</em></td></tr><tr><th>3</th><td><em>missing</em></td><td>10</td><td><em>missing</em></td><td>12</td></tr><tr><th>4</th><td><em>missing</em></td><td>14</td><td>15</td><td>16</td></tr><tr><th>5</th><td>17</td><td><em>missing</em></td><td>19</td><td><em>missing</em></td></tr><tr><th>6</th><td><em>missing</em></td><td><em>missing</em></td><td><em>missing</em></td><td>24</td></tr></tbody></table>"
      ],
      "text/latex": [
       "\\begin{tabular}{r|cccc}\n",
       "\t& x1 & x2 & x3 & x4\\\\\n",
       "\t\\hline\n",
       "\t& Int64? & Int64? & Int64? & Int64?\\\\\n",
       "\t\\hline\n",
       "\t1 & 1 & \\emph{missing} & 3 & 4 \\\\\n",
       "\t2 & \\emph{missing} & 6 & 7 & \\emph{missing} \\\\\n",
       "\t3 & \\emph{missing} & 10 & \\emph{missing} & 12 \\\\\n",
       "\t4 & \\emph{missing} & 14 & 15 & 16 \\\\\n",
       "\t5 & 17 & \\emph{missing} & 19 & \\emph{missing} \\\\\n",
       "\t6 & \\emph{missing} & \\emph{missing} & \\emph{missing} & 24 \\\\\n",
       "\\end{tabular}\n"
      ],
      "text/plain": [
       "\u001b[1m6×4 DataFrame\u001b[0m\n",
       "\u001b[1m Row \u001b[0m│\u001b[1m x1      \u001b[0m\u001b[1m x2      \u001b[0m\u001b[1m x3      \u001b[0m\u001b[1m x4      \u001b[0m\n",
       "\u001b[1m     \u001b[0m│\u001b[90m Int64?  \u001b[0m\u001b[90m Int64?  \u001b[0m\u001b[90m Int64?  \u001b[0m\u001b[90m Int64?  \u001b[0m\n",
       "─────┼────────────────────────────────────\n",
       "   1 │       1 \u001b[90m missing \u001b[0m       3        4\n",
       "   2 │\u001b[90m missing \u001b[0m       6        7 \u001b[90m missing \u001b[0m\n",
       "   3 │\u001b[90m missing \u001b[0m      10 \u001b[90m missing \u001b[0m      12\n",
       "   4 │\u001b[90m missing \u001b[0m      14       15       16\n",
       "   5 │      17 \u001b[90m missing \u001b[0m      19 \u001b[90m missing \u001b[0m\n",
       "   6 │\u001b[90m missing \u001b[0m\u001b[90m missing \u001b[0m\u001b[90m missing \u001b[0m      24"
      ]
     },
     "execution_count": 26,
     "metadata": {},
     "output_type": "execute_result"
    }
   ],
   "source": [
    "s=rand(Bool,6,4)\n",
    "println(s)\n",
    "#df2[s] = missing\n",
    "df3 = DataFrame( [s[r,c] ? df2[r,c] : missing for r in 1:6,c in 1:4])\n",
    "df3"
   ]
  },
  {
   "cell_type": "code",
   "execution_count": 61,
   "metadata": {},
   "outputs": [],
   "source": [
    "#disallowmissing(df3) ->\n",
    "#MethodError: Cannot `convert` an object of type Missing to an object of type Int64"
   ]
  },
  {
   "cell_type": "markdown",
   "metadata": {},
   "source": [
    "# fill missing values with a specified value"
   ]
  },
  {
   "cell_type": "code",
   "execution_count": 27,
   "metadata": {},
   "outputs": [
    {
     "data": {
      "text/html": [
       "<table class=\"data-frame\"><thead><tr><th></th><th>x1</th><th>x2</th><th>x3</th><th>x4</th></tr><tr><th></th><th>Int64</th><th>Int64</th><th>Int64</th><th>Int64</th></tr></thead><tbody><p>6 rows × 4 columns</p><tr><th>1</th><td>1</td><td>-1</td><td>3</td><td>4</td></tr><tr><th>2</th><td>-1</td><td>6</td><td>7</td><td>-1</td></tr><tr><th>3</th><td>-1</td><td>10</td><td>-1</td><td>12</td></tr><tr><th>4</th><td>-1</td><td>14</td><td>15</td><td>16</td></tr><tr><th>5</th><td>17</td><td>-1</td><td>19</td><td>-1</td></tr><tr><th>6</th><td>-1</td><td>-1</td><td>-1</td><td>24</td></tr></tbody></table>"
      ],
      "text/latex": [
       "\\begin{tabular}{r|cccc}\n",
       "\t& x1 & x2 & x3 & x4\\\\\n",
       "\t\\hline\n",
       "\t& Int64 & Int64 & Int64 & Int64\\\\\n",
       "\t\\hline\n",
       "\t1 & 1 & -1 & 3 & 4 \\\\\n",
       "\t2 & -1 & 6 & 7 & -1 \\\\\n",
       "\t3 & -1 & 10 & -1 & 12 \\\\\n",
       "\t4 & -1 & 14 & 15 & 16 \\\\\n",
       "\t5 & 17 & -1 & 19 & -1 \\\\\n",
       "\t6 & -1 & -1 & -1 & 24 \\\\\n",
       "\\end{tabular}\n"
      ],
      "text/plain": [
       "\u001b[1m6×4 DataFrame\u001b[0m\n",
       "\u001b[1m Row \u001b[0m│\u001b[1m x1    \u001b[0m\u001b[1m x2    \u001b[0m\u001b[1m x3    \u001b[0m\u001b[1m x4    \u001b[0m\n",
       "\u001b[1m     \u001b[0m│\u001b[90m Int64 \u001b[0m\u001b[90m Int64 \u001b[0m\u001b[90m Int64 \u001b[0m\u001b[90m Int64 \u001b[0m\n",
       "─────┼────────────────────────────\n",
       "   1 │     1     -1      3      4\n",
       "   2 │    -1      6      7     -1\n",
       "   3 │    -1     10     -1     12\n",
       "   4 │    -1     14     15     16\n",
       "   5 │    17     -1     19     -1\n",
       "   6 │    -1     -1     -1     24"
      ]
     },
     "execution_count": 27,
     "metadata": {},
     "output_type": "execute_result"
    }
   ],
   "source": [
    "coalesce.(df3,-1)"
   ]
  },
  {
   "cell_type": "code",
   "execution_count": 51,
   "metadata": {},
   "outputs": [
    {
     "data": {
      "text/html": [
       "<table class=\"data-frame\"><thead><tr><th></th><th>x1</th><th>x2</th><th>x3</th><th>x4</th></tr><tr><th></th><th>Int64?</th><th>Int64?</th><th>Int64?</th><th>Int64?</th></tr></thead><tbody><p>6 rows × 4 columns</p><tr><th>1</th><td>1</td><td>10</td><td>3</td><td>4</td></tr><tr><th>2</th><td>9</td><td>6</td><td>7</td><td>14</td></tr><tr><th>3</th><td>9</td><td>10</td><td>11</td><td>12</td></tr><tr><th>4</th><td>9</td><td>14</td><td>15</td><td>16</td></tr><tr><th>5</th><td>17</td><td>10</td><td>19</td><td>14</td></tr><tr><th>6</th><td>9</td><td>10</td><td>11</td><td>24</td></tr></tbody></table>"
      ],
      "text/latex": [
       "\\begin{tabular}{r|cccc}\n",
       "\t& x1 & x2 & x3 & x4\\\\\n",
       "\t\\hline\n",
       "\t& Int64? & Int64? & Int64? & Int64?\\\\\n",
       "\t\\hline\n",
       "\t1 & 1 & 10 & 3 & 4 \\\\\n",
       "\t2 & 9 & 6 & 7 & 14 \\\\\n",
       "\t3 & 9 & 10 & 11 & 12 \\\\\n",
       "\t4 & 9 & 14 & 15 & 16 \\\\\n",
       "\t5 & 17 & 10 & 19 & 14 \\\\\n",
       "\t6 & 9 & 10 & 11 & 24 \\\\\n",
       "\\end{tabular}\n"
      ],
      "text/plain": [
       "\u001b[1m6×4 DataFrame\u001b[0m\n",
       "\u001b[1m Row \u001b[0m│\u001b[1m x1     \u001b[0m\u001b[1m x2     \u001b[0m\u001b[1m x3     \u001b[0m\u001b[1m x4     \u001b[0m\n",
       "\u001b[1m     \u001b[0m│\u001b[90m Int64? \u001b[0m\u001b[90m Int64? \u001b[0m\u001b[90m Int64? \u001b[0m\u001b[90m Int64? \u001b[0m\n",
       "─────┼────────────────────────────────\n",
       "   1 │      1      10       3       4\n",
       "   2 │      9       6       7      14\n",
       "   3 │      9      10      11      12\n",
       "   4 │      9      14      15      16\n",
       "   5 │     17      10      19      14\n",
       "   6 │      9      10      11      24"
      ]
     },
     "execution_count": 51,
     "metadata": {},
     "output_type": "execute_result"
    }
   ],
   "source": [
    "mean_by_column = mapcols(x->mean(skipmissing(x)), df3)\n",
    "df4 = copy(df3)\n",
    "for cn in names(df4)\n",
    "    replace!(df4[!,cn], missing=>mean_by_column[1,cn])\n",
    "end"
   ]
  },
  {
   "cell_type": "code",
   "execution_count": 83,
   "metadata": {},
   "outputs": [
    {
     "name": "stdout",
     "output_type": "stream",
     "text": [
      "  0.000050 seconds (61 allocations: 2.516 KiB)\n"
     ]
    },
    {
     "data": {
      "text/html": [
       "<table class=\"data-frame\"><thead><tr><th></th><th>x1</th><th>x2</th><th>x3</th><th>x4</th></tr><tr><th></th><th>Int64</th><th>Int64</th><th>Int64</th><th>Int64</th></tr></thead><tbody><p>6 rows × 4 columns</p><tr><th>1</th><td>1</td><td>10</td><td>3</td><td>4</td></tr><tr><th>2</th><td>9</td><td>6</td><td>7</td><td>14</td></tr><tr><th>3</th><td>9</td><td>10</td><td>11</td><td>12</td></tr><tr><th>4</th><td>9</td><td>14</td><td>15</td><td>16</td></tr><tr><th>5</th><td>17</td><td>10</td><td>19</td><td>14</td></tr><tr><th>6</th><td>9</td><td>10</td><td>11</td><td>24</td></tr></tbody></table>"
      ],
      "text/latex": [
       "\\begin{tabular}{r|cccc}\n",
       "\t& x1 & x2 & x3 & x4\\\\\n",
       "\t\\hline\n",
       "\t& Int64 & Int64 & Int64 & Int64\\\\\n",
       "\t\\hline\n",
       "\t1 & 1 & 10 & 3 & 4 \\\\\n",
       "\t2 & 9 & 6 & 7 & 14 \\\\\n",
       "\t3 & 9 & 10 & 11 & 12 \\\\\n",
       "\t4 & 9 & 14 & 15 & 16 \\\\\n",
       "\t5 & 17 & 10 & 19 & 14 \\\\\n",
       "\t6 & 9 & 10 & 11 & 24 \\\\\n",
       "\\end{tabular}\n"
      ],
      "text/plain": [
       "\u001b[1m6×4 DataFrame\u001b[0m\n",
       "\u001b[1m Row \u001b[0m│\u001b[1m x1    \u001b[0m\u001b[1m x2    \u001b[0m\u001b[1m x3    \u001b[0m\u001b[1m x4    \u001b[0m\n",
       "\u001b[1m     \u001b[0m│\u001b[90m Int64 \u001b[0m\u001b[90m Int64 \u001b[0m\u001b[90m Int64 \u001b[0m\u001b[90m Int64 \u001b[0m\n",
       "─────┼────────────────────────────\n",
       "   1 │     1     10      3      4\n",
       "   2 │     9      6      7     14\n",
       "   3 │     9     10     11     12\n",
       "   4 │     9     14     15     16\n",
       "   5 │    17     10     19     14\n",
       "   6 │     9     10     11     24"
      ]
     },
     "execution_count": 83,
     "metadata": {},
     "output_type": "execute_result"
    }
   ],
   "source": [
    "df4 = copy(df3)\n",
    "@time for cn in names(df4)\n",
    "    col = df4[!,cn]\n",
    "    this_column_mean = mean(skipmissing(col))\n",
    "    #replace!(col, missing=>this_column_mean)\n",
    "    #coalesce.(col, this_column_mean)\n",
    "    col[ ismissing.(col)] .= this_column_mean\n",
    "end\n",
    "disallowmissing(df4)"
   ]
  },
  {
   "cell_type": "code",
   "execution_count": 86,
   "metadata": {},
   "outputs": [
    {
     "data": {
      "text/html": [
       "<table class=\"data-frame\"><thead><tr><th></th><th>x1</th><th>x2</th><th>x3</th><th>x4</th></tr><tr><th></th><th>Int64</th><th>Int64</th><th>Int64</th><th>Int64</th></tr></thead><tbody><p>1 rows × 4 columns</p><tr><th>1</th><td>4</td><td>3</td><td>2</td><td>2</td></tr></tbody></table>"
      ],
      "text/latex": [
       "\\begin{tabular}{r|cccc}\n",
       "\t& x1 & x2 & x3 & x4\\\\\n",
       "\t\\hline\n",
       "\t& Int64 & Int64 & Int64 & Int64\\\\\n",
       "\t\\hline\n",
       "\t1 & 4 & 3 & 2 & 2 \\\\\n",
       "\\end{tabular}\n"
      ],
      "text/plain": [
       "\u001b[1m1×4 DataFrame\u001b[0m\n",
       "\u001b[1m Row \u001b[0m│\u001b[1m x1    \u001b[0m\u001b[1m x2    \u001b[0m\u001b[1m x3    \u001b[0m\u001b[1m x4    \u001b[0m\n",
       "\u001b[1m     \u001b[0m│\u001b[90m Int64 \u001b[0m\u001b[90m Int64 \u001b[0m\u001b[90m Int64 \u001b[0m\u001b[90m Int64 \u001b[0m\n",
       "─────┼────────────────────────────\n",
       "   1 │     4      3      2      2"
      ]
     },
     "execution_count": 86,
     "metadata": {},
     "output_type": "execute_result"
    }
   ],
   "source": [
    "#mapcols(x->count(ismissing.(x)), df3)\n",
    "#mapcols(x->count(ismissing, x), df3)\n",
    "mapcols(x->sum(ismissing, x), df3)"
   ]
  },
  {
   "cell_type": "markdown",
   "metadata": {},
   "source": [
    "## using Impute package\n",
    "## https://juliahub.com/docs/Impute/tKYqZ/0.6.5/autodocs/"
   ]
  },
  {
   "cell_type": "code",
   "execution_count": 63,
   "metadata": {},
   "outputs": [
    {
     "data": {
      "text/html": [
       "<table class=\"data-frame\"><thead><tr><th></th><th>x1</th><th>x2</th><th>x3</th><th>x4</th></tr><tr><th></th><th>Int64?</th><th>Int64?</th><th>Int64?</th><th>Int64?</th></tr></thead><tbody><p>6 rows × 4 columns</p><tr><th>1</th><td>1</td><td><em>missing</em></td><td>3</td><td>4</td></tr><tr><th>2</th><td>5</td><td>6</td><td>7</td><td>8</td></tr><tr><th>3</th><td>9</td><td>10</td><td>11</td><td>12</td></tr><tr><th>4</th><td>13</td><td>14</td><td>15</td><td>16</td></tr><tr><th>5</th><td>17</td><td><em>missing</em></td><td>19</td><td>20</td></tr><tr><th>6</th><td><em>missing</em></td><td><em>missing</em></td><td><em>missing</em></td><td>24</td></tr></tbody></table>"
      ],
      "text/latex": [
       "\\begin{tabular}{r|cccc}\n",
       "\t& x1 & x2 & x3 & x4\\\\\n",
       "\t\\hline\n",
       "\t& Int64? & Int64? & Int64? & Int64?\\\\\n",
       "\t\\hline\n",
       "\t1 & 1 & \\emph{missing} & 3 & 4 \\\\\n",
       "\t2 & 5 & 6 & 7 & 8 \\\\\n",
       "\t3 & 9 & 10 & 11 & 12 \\\\\n",
       "\t4 & 13 & 14 & 15 & 16 \\\\\n",
       "\t5 & 17 & \\emph{missing} & 19 & 20 \\\\\n",
       "\t6 & \\emph{missing} & \\emph{missing} & \\emph{missing} & 24 \\\\\n",
       "\\end{tabular}\n"
      ],
      "text/plain": [
       "\u001b[1m6×4 DataFrame\u001b[0m\n",
       "\u001b[1m Row \u001b[0m│\u001b[1m x1      \u001b[0m\u001b[1m x2      \u001b[0m\u001b[1m x3      \u001b[0m\u001b[1m x4     \u001b[0m\n",
       "\u001b[1m     \u001b[0m│\u001b[90m Int64?  \u001b[0m\u001b[90m Int64?  \u001b[0m\u001b[90m Int64?  \u001b[0m\u001b[90m Int64? \u001b[0m\n",
       "─────┼───────────────────────────────────\n",
       "   1 │       1 \u001b[90m missing \u001b[0m       3       4\n",
       "   2 │       5        6        7       8\n",
       "   3 │       9       10       11      12\n",
       "   4 │      13       14       15      16\n",
       "   5 │      17 \u001b[90m missing \u001b[0m      19      20\n",
       "   6 │\u001b[90m missing \u001b[0m\u001b[90m missing \u001b[0m\u001b[90m missing \u001b[0m     24"
      ]
     },
     "execution_count": 63,
     "metadata": {},
     "output_type": "execute_result"
    }
   ],
   "source": [
    "Impute.interp(df3)"
   ]
  },
  {
   "cell_type": "code",
   "execution_count": 64,
   "metadata": {},
   "outputs": [
    {
     "data": {
      "text/html": [
       "<table class=\"data-frame\"><thead><tr><th></th><th>x1</th><th>x2</th><th>x3</th><th>x4</th></tr><tr><th></th><th>Int64?</th><th>Int64?</th><th>Int64?</th><th>Int64?</th></tr></thead><tbody><p>6 rows × 4 columns</p><tr><th>1</th><td>1</td><td><em>missing</em></td><td>3</td><td>4</td></tr><tr><th>2</th><td>1</td><td>6</td><td>7</td><td>4</td></tr><tr><th>3</th><td>1</td><td>10</td><td>7</td><td>12</td></tr><tr><th>4</th><td>1</td><td>14</td><td>15</td><td>16</td></tr><tr><th>5</th><td>17</td><td>14</td><td>19</td><td>16</td></tr><tr><th>6</th><td>17</td><td>14</td><td>19</td><td>24</td></tr></tbody></table>"
      ],
      "text/latex": [
       "\\begin{tabular}{r|cccc}\n",
       "\t& x1 & x2 & x3 & x4\\\\\n",
       "\t\\hline\n",
       "\t& Int64? & Int64? & Int64? & Int64?\\\\\n",
       "\t\\hline\n",
       "\t1 & 1 & \\emph{missing} & 3 & 4 \\\\\n",
       "\t2 & 1 & 6 & 7 & 4 \\\\\n",
       "\t3 & 1 & 10 & 7 & 12 \\\\\n",
       "\t4 & 1 & 14 & 15 & 16 \\\\\n",
       "\t5 & 17 & 14 & 19 & 16 \\\\\n",
       "\t6 & 17 & 14 & 19 & 24 \\\\\n",
       "\\end{tabular}\n"
      ],
      "text/plain": [
       "\u001b[1m6×4 DataFrame\u001b[0m\n",
       "\u001b[1m Row \u001b[0m│\u001b[1m x1     \u001b[0m\u001b[1m x2      \u001b[0m\u001b[1m x3     \u001b[0m\u001b[1m x4     \u001b[0m\n",
       "\u001b[1m     \u001b[0m│\u001b[90m Int64? \u001b[0m\u001b[90m Int64?  \u001b[0m\u001b[90m Int64? \u001b[0m\u001b[90m Int64? \u001b[0m\n",
       "─────┼─────────────────────────────────\n",
       "   1 │      1 \u001b[90m missing \u001b[0m      3       4\n",
       "   2 │      1        6       7       4\n",
       "   3 │      1       10       7      12\n",
       "   4 │      1       14      15      16\n",
       "   5 │     17       14      19      16\n",
       "   6 │     17       14      19      24"
      ]
     },
     "execution_count": 64,
     "metadata": {},
     "output_type": "execute_result"
    }
   ],
   "source": [
    "#Iterates forwards through the data and fills missing data with the last existing observation\n",
    "Impute.locf(df3)"
   ]
  },
  {
   "cell_type": "code",
   "execution_count": 66,
   "metadata": {},
   "outputs": [
    {
     "name": "stdout",
     "output_type": "stream",
     "text": [
      "\u001b[1m6×4 DataFrame\u001b[0m\n",
      "\u001b[1m Row \u001b[0m│\u001b[1m x1      \u001b[0m\u001b[1m x2      \u001b[0m\u001b[1m x3      \u001b[0m\u001b[1m x4      \u001b[0m\n",
      "\u001b[1m     \u001b[0m│\u001b[90m Int64?  \u001b[0m\u001b[90m Int64?  \u001b[0m\u001b[90m Int64?  \u001b[0m\u001b[90m Int64?  \u001b[0m\n",
      "─────┼────────────────────────────────────\n",
      "   1 │       1 \u001b[90m missing \u001b[0m       3        4\n",
      "   2 │\u001b[90m missing \u001b[0m       6        7 \u001b[90m missing \u001b[0m\n",
      "   3 │\u001b[90m missing \u001b[0m      10 \u001b[90m missing \u001b[0m      12\n",
      "   4 │\u001b[90m missing \u001b[0m      14       15       16\n",
      "   5 │      17 \u001b[90m missing \u001b[0m      19 \u001b[90m missing \u001b[0m\n",
      "   6 │\u001b[90m missing \u001b[0m\u001b[90m missing \u001b[0m\u001b[90m missing \u001b[0m      24\n"
     ]
    },
    {
     "data": {
      "text/html": [
       "<table class=\"data-frame\"><thead><tr><th></th><th>x1</th><th>x2</th><th>x3</th><th>x4</th></tr><tr><th></th><th>Int64?</th><th>Int64?</th><th>Int64?</th><th>Int64?</th></tr></thead><tbody><p>6 rows × 4 columns</p><tr><th>1</th><td>1</td><td>6</td><td>3</td><td>4</td></tr><tr><th>2</th><td>17</td><td>6</td><td>7</td><td>12</td></tr><tr><th>3</th><td>17</td><td>10</td><td>15</td><td>12</td></tr><tr><th>4</th><td>17</td><td>14</td><td>15</td><td>16</td></tr><tr><th>5</th><td>17</td><td><em>missing</em></td><td>19</td><td>24</td></tr><tr><th>6</th><td><em>missing</em></td><td><em>missing</em></td><td><em>missing</em></td><td>24</td></tr></tbody></table>"
      ],
      "text/latex": [
       "\\begin{tabular}{r|cccc}\n",
       "\t& x1 & x2 & x3 & x4\\\\\n",
       "\t\\hline\n",
       "\t& Int64? & Int64? & Int64? & Int64?\\\\\n",
       "\t\\hline\n",
       "\t1 & 1 & 6 & 3 & 4 \\\\\n",
       "\t2 & 17 & 6 & 7 & 12 \\\\\n",
       "\t3 & 17 & 10 & 15 & 12 \\\\\n",
       "\t4 & 17 & 14 & 15 & 16 \\\\\n",
       "\t5 & 17 & \\emph{missing} & 19 & 24 \\\\\n",
       "\t6 & \\emph{missing} & \\emph{missing} & \\emph{missing} & 24 \\\\\n",
       "\\end{tabular}\n"
      ],
      "text/plain": [
       "\u001b[1m6×4 DataFrame\u001b[0m\n",
       "\u001b[1m Row \u001b[0m│\u001b[1m x1      \u001b[0m\u001b[1m x2      \u001b[0m\u001b[1m x3      \u001b[0m\u001b[1m x4     \u001b[0m\n",
       "\u001b[1m     \u001b[0m│\u001b[90m Int64?  \u001b[0m\u001b[90m Int64?  \u001b[0m\u001b[90m Int64?  \u001b[0m\u001b[90m Int64? \u001b[0m\n",
       "─────┼───────────────────────────────────\n",
       "   1 │       1        6        3       4\n",
       "   2 │      17        6        7      12\n",
       "   3 │      17       10       15      12\n",
       "   4 │      17       14       15      16\n",
       "   5 │      17 \u001b[90m missing \u001b[0m      19      24\n",
       "   6 │\u001b[90m missing \u001b[0m\u001b[90m missing \u001b[0m\u001b[90m missing \u001b[0m     24"
      ]
     },
     "execution_count": 66,
     "metadata": {},
     "output_type": "execute_result"
    }
   ],
   "source": [
    "println(df3)\n",
    "#Iterates backwards through the data and fills missing data with the next existing observation\n",
    "Impute.nocb(df3)"
   ]
  },
  {
   "cell_type": "code",
   "execution_count": 88,
   "metadata": {},
   "outputs": [
    {
     "data": {
      "text/html": [
       "<table class=\"data-frame\"><thead><tr><th></th><th>x1</th><th>x2</th><th>x3</th><th>x4</th></tr><tr><th></th><th>Int64?</th><th>Int64?</th><th>Int64?</th><th>Int64?</th></tr></thead><tbody><p>6 rows × 4 columns</p><tr><th>1</th><td>1</td><td>6</td><td>3</td><td>4</td></tr><tr><th>2</th><td>5</td><td>6</td><td>7</td><td>8</td></tr><tr><th>3</th><td>9</td><td>10</td><td>11</td><td>12</td></tr><tr><th>4</th><td>13</td><td>14</td><td>15</td><td>16</td></tr><tr><th>5</th><td>17</td><td>14</td><td>19</td><td>20</td></tr><tr><th>6</th><td>17</td><td>14</td><td>19</td><td>24</td></tr></tbody></table>"
      ],
      "text/latex": [
       "\\begin{tabular}{r|cccc}\n",
       "\t& x1 & x2 & x3 & x4\\\\\n",
       "\t\\hline\n",
       "\t& Int64? & Int64? & Int64? & Int64?\\\\\n",
       "\t\\hline\n",
       "\t1 & 1 & 6 & 3 & 4 \\\\\n",
       "\t2 & 5 & 6 & 7 & 8 \\\\\n",
       "\t3 & 9 & 10 & 11 & 12 \\\\\n",
       "\t4 & 13 & 14 & 15 & 16 \\\\\n",
       "\t5 & 17 & 14 & 19 & 20 \\\\\n",
       "\t6 & 17 & 14 & 19 & 24 \\\\\n",
       "\\end{tabular}\n"
      ],
      "text/plain": [
       "\u001b[1m6×4 DataFrame\u001b[0m\n",
       "\u001b[1m Row \u001b[0m│\u001b[1m x1     \u001b[0m\u001b[1m x2     \u001b[0m\u001b[1m x3     \u001b[0m\u001b[1m x4     \u001b[0m\n",
       "\u001b[1m     \u001b[0m│\u001b[90m Int64? \u001b[0m\u001b[90m Int64? \u001b[0m\u001b[90m Int64? \u001b[0m\u001b[90m Int64? \u001b[0m\n",
       "─────┼────────────────────────────────\n",
       "   1 │      1       6       3       4\n",
       "   2 │      5       6       7       8\n",
       "   3 │      9      10      11      12\n",
       "   4 │     13      14      15      16\n",
       "   5 │     17      14      19      20\n",
       "   6 │     17      14      19      24"
      ]
     },
     "execution_count": 88,
     "metadata": {},
     "output_type": "execute_result"
    }
   ],
   "source": [
    "Impute.interp(df3) |> Impute.locf() |> Impute.nocb()"
   ]
  },
  {
   "cell_type": "code",
   "execution_count": 118,
   "metadata": {},
   "outputs": [
    {
     "data": {
      "text/html": [
       "<table class=\"data-frame\"><thead><tr><th></th><th>x1</th><th>x2</th><th>x3</th><th>x4</th></tr><tr><th></th><th>Int64?</th><th>Int64?</th><th>Int64?</th><th>Int64?</th></tr></thead><tbody><p>6 rows × 4 columns</p><tr><th>1</th><td>1</td><td>10</td><td>3</td><td>4</td></tr><tr><th>2</th><td>17</td><td>6</td><td>7</td><td>12</td></tr><tr><th>3</th><td>17</td><td>10</td><td>3</td><td>12</td></tr><tr><th>4</th><td>17</td><td>14</td><td>15</td><td>16</td></tr><tr><th>5</th><td>17</td><td>14</td><td>19</td><td>16</td></tr><tr><th>6</th><td>17</td><td>6</td><td>7</td><td>24</td></tr></tbody></table>"
      ],
      "text/latex": [
       "\\begin{tabular}{r|cccc}\n",
       "\t& x1 & x2 & x3 & x4\\\\\n",
       "\t\\hline\n",
       "\t& Int64? & Int64? & Int64? & Int64?\\\\\n",
       "\t\\hline\n",
       "\t1 & 1 & 10 & 3 & 4 \\\\\n",
       "\t2 & 17 & 6 & 7 & 12 \\\\\n",
       "\t3 & 17 & 10 & 3 & 12 \\\\\n",
       "\t4 & 17 & 14 & 15 & 16 \\\\\n",
       "\t5 & 17 & 14 & 19 & 16 \\\\\n",
       "\t6 & 17 & 6 & 7 & 24 \\\\\n",
       "\\end{tabular}\n"
      ],
      "text/plain": [
       "\u001b[1m6×4 DataFrame\u001b[0m\n",
       "\u001b[1m Row \u001b[0m│\u001b[1m x1     \u001b[0m\u001b[1m x2     \u001b[0m\u001b[1m x3     \u001b[0m\u001b[1m x4     \u001b[0m\n",
       "\u001b[1m     \u001b[0m│\u001b[90m Int64? \u001b[0m\u001b[90m Int64? \u001b[0m\u001b[90m Int64? \u001b[0m\u001b[90m Int64? \u001b[0m\n",
       "─────┼────────────────────────────────\n",
       "   1 │      1      10       3       4\n",
       "   2 │     17       6       7      12\n",
       "   3 │     17      10       3      12\n",
       "   4 │     17      14      15      16\n",
       "   5 │     17      14      19      16\n",
       "   6 │     17       6       7      24"
      ]
     },
     "execution_count": 118,
     "metadata": {},
     "output_type": "execute_result"
    }
   ],
   "source": [
    "#Simple Random Sampling (SRS) imputation is a method for imputing both continuous and categorical variables. \n",
    "#Furthermore, it completes imputation while preserving the distributional properties of the variables \n",
    "#(e.g., mean, standard deviation).\n",
    "Impute.srs(df3)"
   ]
  },
  {
   "cell_type": "code",
   "execution_count": 122,
   "metadata": {},
   "outputs": [
    {
     "data": {
      "text/html": [
       "<table class=\"data-frame\"><thead><tr><th></th><th>x1</th><th>x2</th><th>x3</th><th>x4</th></tr><tr><th></th><th>Int64?</th><th>Int64?</th><th>Int64?</th><th>Int64?</th></tr></thead><tbody><p>6 rows × 4 columns</p><tr><th>1</th><td>1</td><td>10</td><td>3</td><td>4</td></tr><tr><th>2</th><td>9</td><td>6</td><td>7</td><td>14</td></tr><tr><th>3</th><td>9</td><td>10</td><td>11</td><td>12</td></tr><tr><th>4</th><td>9</td><td>14</td><td>15</td><td>16</td></tr><tr><th>5</th><td>17</td><td>10</td><td>19</td><td>14</td></tr><tr><th>6</th><td>9</td><td>10</td><td>11</td><td>24</td></tr></tbody></table>"
      ],
      "text/latex": [
       "\\begin{tabular}{r|cccc}\n",
       "\t& x1 & x2 & x3 & x4\\\\\n",
       "\t\\hline\n",
       "\t& Int64? & Int64? & Int64? & Int64?\\\\\n",
       "\t\\hline\n",
       "\t1 & 1 & 10 & 3 & 4 \\\\\n",
       "\t2 & 9 & 6 & 7 & 14 \\\\\n",
       "\t3 & 9 & 10 & 11 & 12 \\\\\n",
       "\t4 & 9 & 14 & 15 & 16 \\\\\n",
       "\t5 & 17 & 10 & 19 & 14 \\\\\n",
       "\t6 & 9 & 10 & 11 & 24 \\\\\n",
       "\\end{tabular}\n"
      ],
      "text/plain": [
       "\u001b[1m6×4 DataFrame\u001b[0m\n",
       "\u001b[1m Row \u001b[0m│\u001b[1m x1     \u001b[0m\u001b[1m x2     \u001b[0m\u001b[1m x3     \u001b[0m\u001b[1m x4     \u001b[0m\n",
       "\u001b[1m     \u001b[0m│\u001b[90m Int64? \u001b[0m\u001b[90m Int64? \u001b[0m\u001b[90m Int64? \u001b[0m\u001b[90m Int64? \u001b[0m\n",
       "─────┼────────────────────────────────\n",
       "   1 │      1      10       3       4\n",
       "   2 │      9       6       7      14\n",
       "   3 │      9      10      11      12\n",
       "   4 │      9      14      15      16\n",
       "   5 │     17      10      19      14\n",
       "   6 │      9      10      11      24"
      ]
     },
     "execution_count": 122,
     "metadata": {},
     "output_type": "execute_result"
    }
   ],
   "source": [
    "Impute.substitute(df3;statistic=median)"
   ]
  },
  {
   "cell_type": "code",
   "execution_count": 108,
   "metadata": {},
   "outputs": [
    {
     "data": {
      "text/html": [
       "<table class=\"data-frame\"><thead><tr><th></th></tr><tr><th></th></tr></thead><tbody><p>0 rows × 0 columns</p></tbody></table>"
      ],
      "text/latex": [
       "\\begin{tabular}{r|}\n",
       "\t& \\\\\n",
       "\t\\hline\n",
       "\t& \\\\\n",
       "\t\\hline\n",
       "\\end{tabular}\n"
      ],
      "text/plain": [
       "\u001b[1m0×0 DataFrame\u001b[0m"
      ]
     },
     "execution_count": 108,
     "metadata": {},
     "output_type": "execute_result"
    }
   ],
   "source": [
    "#Finds variables with missing values in a AbstractMatrix or Tables.table and removes them from the input data\n",
    "Impute.dropvars(df3)"
   ]
  },
  {
   "cell_type": "code",
   "execution_count": 110,
   "metadata": {},
   "outputs": [
    {
     "data": {
      "text/html": [
       "<table class=\"data-frame\"><thead><tr><th></th></tr><tr><th></th></tr></thead><tbody><p>0 rows × 0 columns</p></tbody></table>"
      ],
      "text/latex": [
       "\\begin{tabular}{r|}\n",
       "\t& \\\\\n",
       "\t\\hline\n",
       "\t& \\\\\n",
       "\t\\hline\n",
       "\\end{tabular}\n"
      ],
      "text/plain": [
       "\u001b[1m0×0 DataFrame\u001b[0m"
      ]
     },
     "execution_count": 110,
     "metadata": {},
     "output_type": "execute_result"
    }
   ],
   "source": [
    "Impute.filter(df3; dims=:cols)\n",
    "Impute.filter(df3; dims=:rows)"
   ]
  },
  {
   "cell_type": "code",
   "execution_count": 113,
   "metadata": {},
   "outputs": [],
   "source": [
    "using NearestNeighbors"
   ]
  },
  {
   "cell_type": "code",
   "execution_count": 130,
   "metadata": {},
   "outputs": [],
   "source": [
    "#Impute.knn(df3; k=1, threshold=0.5, dist=Euclidean())\n",
    "#Impute.knn(df3; dims=:cols)\n",
    "#Impute.knn(df3; k=1)"
   ]
  },
  {
   "cell_type": "code",
   "execution_count": 28,
   "metadata": {},
   "outputs": [
    {
     "data": {
      "text/plain": [
       "6-element Array{Float64,1}:\n",
       "   1.0\n",
       " NaN\n",
       " NaN\n",
       " NaN\n",
       "  17.0\n",
       " NaN"
      ]
     },
     "execution_count": 28,
     "metadata": {},
     "output_type": "execute_result"
    }
   ],
   "source": [
    "replace(df3.x1, missing=>NaN)"
   ]
  },
  {
   "cell_type": "code",
   "execution_count": 29,
   "metadata": {},
   "outputs": [
    {
     "data": {
      "text/html": [
       "<table class=\"data-frame\"><thead><tr><th></th><th>name</th><th>age</th><th>children</th><th>height</th></tr><tr><th></th><th>String</th><th>Float64</th><th>Int64</th><th>Int64</th></tr></thead><tbody><p>3 rows × 4 columns</p><tr><th>1</th><td>John</td><td>23.0</td><td>3</td><td>180</td></tr><tr><th>2</th><td>Sally</td><td>42.0</td><td>5</td><td>150</td></tr><tr><th>3</th><td>Kirk</td><td>59.0</td><td>2</td><td>170</td></tr></tbody></table>"
      ],
      "text/latex": [
       "\\begin{tabular}{r|cccc}\n",
       "\t& name & age & children & height\\\\\n",
       "\t\\hline\n",
       "\t& String & Float64 & Int64 & Int64\\\\\n",
       "\t\\hline\n",
       "\t1 & John & 23.0 & 3 & 180 \\\\\n",
       "\t2 & Sally & 42.0 & 5 & 150 \\\\\n",
       "\t3 & Kirk & 59.0 & 2 & 170 \\\\\n",
       "\\end{tabular}\n"
      ],
      "text/plain": [
       "\u001b[1m3×4 DataFrame\u001b[0m\n",
       "\u001b[1m Row \u001b[0m│\u001b[1m name   \u001b[0m\u001b[1m age     \u001b[0m\u001b[1m children \u001b[0m\u001b[1m height \u001b[0m\n",
       "\u001b[1m     \u001b[0m│\u001b[90m String \u001b[0m\u001b[90m Float64 \u001b[0m\u001b[90m Int64    \u001b[0m\u001b[90m Int64  \u001b[0m\n",
       "─────┼───────────────────────────────────\n",
       "   1 │ John       23.0         3     180\n",
       "   2 │ Sally      42.0         5     150\n",
       "   3 │ Kirk       59.0         2     170"
      ]
     },
     "execution_count": 29,
     "metadata": {},
     "output_type": "execute_result"
    }
   ],
   "source": [
    "df1 = DataFrame(name=[\"John\", \"Sally\", \"Kirk\"], \n",
    "               age=[23., 42., 59.],\n",
    "               children=[3,5,2], height = [180, 150, 170])"
   ]
  },
  {
   "cell_type": "code",
   "execution_count": 30,
   "metadata": {},
   "outputs": [
    {
     "data": {
      "text/html": [
       "<table class=\"data-frame\"><thead><tr><th></th><th>age</th><th>children</th><th>height</th></tr><tr><th></th><th>Float64</th><th>Float64</th><th>Float64</th></tr></thead><tbody><p>1 rows × 3 columns</p><tr><th>1</th><td>41.3333</td><td>3.33333</td><td>166.667</td></tr></tbody></table>"
      ],
      "text/latex": [
       "\\begin{tabular}{r|ccc}\n",
       "\t& age & children & height\\\\\n",
       "\t\\hline\n",
       "\t& Float64 & Float64 & Float64\\\\\n",
       "\t\\hline\n",
       "\t1 & 41.3333 & 3.33333 & 166.667 \\\\\n",
       "\\end{tabular}\n"
      ],
      "text/plain": [
       "\u001b[1m1×3 DataFrame\u001b[0m\n",
       "\u001b[1m Row \u001b[0m│\u001b[1m age     \u001b[0m\u001b[1m children \u001b[0m\u001b[1m height  \u001b[0m\n",
       "\u001b[1m     \u001b[0m│\u001b[90m Float64 \u001b[0m\u001b[90m Float64  \u001b[0m\u001b[90m Float64 \u001b[0m\n",
       "─────┼────────────────────────────\n",
       "   1 │ 41.3333   3.33333  166.667"
      ]
     },
     "execution_count": 30,
     "metadata": {},
     "output_type": "execute_result"
    }
   ],
   "source": [
    "mapcols(x->mean(x),df1[!,Not(:name)])"
   ]
  },
  {
   "cell_type": "code",
   "execution_count": 31,
   "metadata": {},
   "outputs": [
    {
     "data": {
      "text/plain": [
       "3-element Array{String,1}:\n",
       " \"John\"\n",
       " \"Sally\"\n",
       " \"Kirk\""
      ]
     },
     "execution_count": 31,
     "metadata": {},
     "output_type": "execute_result"
    }
   ],
   "source": [
    "df1.\"name\""
   ]
  },
  {
   "cell_type": "code",
   "execution_count": 32,
   "metadata": {},
   "outputs": [
    {
     "data": {
      "text/plain": [
       "4-element Array{DataType,1}:\n",
       " String\n",
       " Float64\n",
       " Int64\n",
       " Int64"
      ]
     },
     "execution_count": 32,
     "metadata": {},
     "output_type": "execute_result"
    }
   ],
   "source": [
    "#eltype.(df)\n",
    "eltype.(eachcol(df1))"
   ]
  },
  {
   "cell_type": "code",
   "execution_count": 98,
   "metadata": {},
   "outputs": [
    {
     "name": "stdout",
     "output_type": "stream",
     "text": [
      "count(df1.height .> 150) = 2\n",
      "sum(df1.children) = 10\n",
      "sum(x -> x>2, df1.children) = 2\n",
      "count(df1.children .> 2) = 2\n"
     ]
    }
   ],
   "source": [
    "println( \"count(df1.height .> 150) = \", count(df1.height .> 150) )\n",
    "println( \"sum(df1.children) = \"       ,sum(df1.children) )\n",
    "println( \"sum(x -> x>2, df1.children) = \", sum(x -> x>2, df1.children))\n",
    "println( \"count(df1.children .> 2) = \", count(df1.children .> 2))"
   ]
  }
 ],
 "metadata": {
  "kernelspec": {
   "display_name": "Julia 1.6.1",
   "language": "julia",
   "name": "julia-1.6"
  },
  "language_info": {
   "file_extension": ".jl",
   "mimetype": "application/julia",
   "name": "julia",
   "version": "1.6.1"
  }
 },
 "nbformat": 4,
 "nbformat_minor": 4
}
