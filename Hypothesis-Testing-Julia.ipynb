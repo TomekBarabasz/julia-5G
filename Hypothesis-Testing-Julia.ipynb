{
 "cells": [
  {
   "cell_type": "code",
   "execution_count": 1,
   "metadata": {},
   "outputs": [],
   "source": [
    "using StatsBase, Distributions"
   ]
  },
  {
   "cell_type": "markdown",
   "metadata": {},
   "source": [
    "# Z-test\n",
    "## used if population standard deviation \\sigma is known"
   ]
  },
  {
   "cell_type": "code",
   "execution_count": 2,
   "metadata": {},
   "outputs": [
    {
     "data": {
      "text/plain": [
       "Normal{Float64}(μ=0.0, σ=1.0)"
      ]
     },
     "execution_count": 2,
     "metadata": {},
     "output_type": "execute_result"
    }
   ],
   "source": [
    "n = Normal()"
   ]
  },
  {
   "cell_type": "code",
   "execution_count": 7,
   "metadata": {},
   "outputs": [
    {
     "name": "stdout",
     "output_type": "stream",
     "text": [
      "7.833333333333333\n",
      "population std = 1.4677268895207385\n",
      "sample std = 1.4928180556003592\n"
     ]
    }
   ],
   "source": [
    "samples = [5.5 5.9 6 6 6.1 6.5 6.5 6.8 7 7.2 7.4 7.5 7.5 7.6 7.7 7.7 7.8 7.9 8 8 8.2 8.3 8.5 8.9 9 9.1 9.4 10 11 12];\n",
    "\n",
    "μ,σ = 7.5, 1.25\n",
    "α = 0.05 #level of significance\n",
    "samples_mean = mean(samples)\n",
    "println( samples_mean )\n",
    "population_std = std(samples, corrected=false)\n",
    "println( \"population std = $population_std\") #this is divided by n\n",
    "samples_std = std(samples, corrected=true)\n",
    "println( \"sample std = $samples_std\") #this is divided by n-1"
   ]
  },
  {
   "cell_type": "code",
   "execution_count": 4,
   "metadata": {},
   "outputs": [
    {
     "name": "stdout",
     "output_type": "stream",
     "text": [
      "Zstatistic 1.4605934866804418\n",
      "p_value 0.9279364825919922\n"
     ]
    }
   ],
   "source": [
    "Zstatistic = (samples_mean - μ) / σ * √length(samples)\n",
    "p_value = cdf(n, Zstatistic)\n",
    "println(\"Zstatistic $(Zstatistic)\")\n",
    "println(\"p_value $(p_value)\")"
   ]
  },
  {
   "cell_type": "markdown",
   "metadata": {},
   "source": [
    "## Alternate Hypothesis was : \n",
    "## sample mean > population mean, so we need 1-tailed test to the right"
   ]
  },
  {
   "cell_type": "code",
   "execution_count": 5,
   "metadata": {},
   "outputs": [
    {
     "data": {
      "text/plain": [
       "0.07206351740800776"
      ]
     },
     "execution_count": 5,
     "metadata": {},
     "output_type": "execute_result"
    }
   ],
   "source": [
    "one_tailed_p_value_to_the_right = 1.0-p_value"
   ]
  },
  {
   "cell_type": "code",
   "execution_count": 10,
   "metadata": {},
   "outputs": [
    {
     "name": "stdout",
     "output_type": "stream",
     "text": [
      "Failed to reject H0\n"
     ]
    }
   ],
   "source": [
    "println( one_tailed_p_value_to_the_right < α ? \"Reject H0\" : \"Failed to reject H0\")"
   ]
  },
  {
   "cell_type": "markdown",
   "metadata": {},
   "source": [
    "# One Sample T-Test"
   ]
  },
  {
   "cell_type": "markdown",
   "metadata": {},
   "source": [
    "# H0 : mean is 5.5\n",
    "# Ha : mean != 5.5"
   ]
  },
  {
   "cell_type": "code",
   "execution_count": 32,
   "metadata": {},
   "outputs": [
    {
     "data": {
      "text/plain": [
       "TDist{Float64}(ν=14.0)"
      ]
     },
     "execution_count": 32,
     "metadata": {},
     "output_type": "execute_result"
    }
   ],
   "source": [
    "samples = [5.1 5.2 5.4 5.5 5.5 5.6 5.6 5.7 5.7 5.8 5.8 5.9 6 6.1 6.2 ];\n",
    "μ = 5.5\n",
    "α=0.05\n",
    "dof = length(samples)-1\n",
    "tdist = TDist(dof)"
   ]
  },
  {
   "cell_type": "code",
   "execution_count": 25,
   "metadata": {},
   "outputs": [
    {
     "name": "stdout",
     "output_type": "stream",
     "text": [
      "sample std 0.31045281828476357\n",
      "sample mean 5.673333333333334\n",
      "t-statistic 2.162380477174002\n"
     ]
    }
   ],
   "source": [
    "sample_std = std(samples, corrected=true)\n",
    "println( \"sample std $sample_std\")\n",
    "println( \"sample mean $(mean(samples))\")\n",
    "t_statistic = (mean(samples)-μ)/sample_std*√length(samples)\n",
    "println( \"t-statistic $t_statistic\")"
   ]
  },
  {
   "cell_type": "code",
   "execution_count": 33,
   "metadata": {
    "scrolled": true
   },
   "outputs": [
    {
     "name": "stdout",
     "output_type": "stream",
     "text": [
      "cumulative p-value 0.024193667137320407\n",
      "two_tailed p-value 0.048387334274640814\n",
      "Reject H0\n"
     ]
    }
   ],
   "source": [
    "cumulative_p_value = 1. - cdf(tdist,t_statistic)\n",
    "println( \"cumulative p-value $cumulative_p_value\" )\n",
    "two_tailed_p_value = cumulative_p_value * 2\n",
    "println( \"two_tailed p-value $two_tailed_p_value\" )\n",
    "println( two_tailed_p_value < α ? \"Reject H0\" : \"Failed to reject H0\")"
   ]
  },
  {
   "cell_type": "markdown",
   "metadata": {},
   "source": [
    "# Paired T-Test"
   ]
  },
  {
   "cell_type": "code",
   "execution_count": 35,
   "metadata": {},
   "outputs": [
    {
     "data": {
      "text/plain": [
       "0.01"
      ]
     },
     "execution_count": 35,
     "metadata": {},
     "output_type": "execute_result"
    }
   ],
   "source": [
    "sample_before = [123 135 110 115 150 170 108 155 132 118 137 145 181 115 182 145 132 119 127 160];\n",
    "sample_after  = [116 131 102 108 140 172 113 144 139 109 125 140 175 115 173 137 127 116 125 145]\n",
    "α=0.01"
   ]
  },
  {
   "cell_type": "markdown",
   "metadata": {},
   "source": [
    "# Ho : sample mean is as mean(sample_before)\n",
    "# H1 : sample mean is lower"
   ]
  },
  {
   "cell_type": "code",
   "execution_count": 40,
   "metadata": {
    "scrolled": true
   },
   "outputs": [
    {
     "name": "stdout",
     "output_type": "stream",
     "text": [
      "average of differences -5.35\n",
      "differences standard deviation 5.612720514950603\n"
     ]
    }
   ],
   "source": [
    "differences = sample_after - sample_before\n",
    "average_of_differences = mean(differences)\n",
    "println( \"average of differences $average_of_differences\")\n",
    "differences_std = std(differences, corrected=true)\n",
    "println( \"differences standard deviation $differences_std\")"
   ]
  },
  {
   "cell_type": "code",
   "execution_count": 48,
   "metadata": {},
   "outputs": [
    {
     "data": {
      "text/plain": [
       "-4.262803981690565"
      ]
     },
     "execution_count": 48,
     "metadata": {},
     "output_type": "execute_result"
    }
   ],
   "source": [
    "t_statistic = average_of_differences / differences_std * √length(sample_after)"
   ]
  },
  {
   "cell_type": "code",
   "execution_count": 49,
   "metadata": {},
   "outputs": [
    {
     "data": {
      "text/plain": [
       "TDist{Float64}(ν=19.0)"
      ]
     },
     "execution_count": 49,
     "metadata": {},
     "output_type": "execute_result"
    }
   ],
   "source": [
    "dof = length(sample_after)-1\n",
    "td = TDist(dof)"
   ]
  },
  {
   "cell_type": "markdown",
   "metadata": {},
   "source": [
    "# testing if new mean is lower -> use 1 tailed T-Test"
   ]
  },
  {
   "cell_type": "code",
   "execution_count": 52,
   "metadata": {},
   "outputs": [
    {
     "data": {
      "text/plain": [
       "0.00021027864136021192"
      ]
     },
     "execution_count": 52,
     "metadata": {},
     "output_type": "execute_result"
    }
   ],
   "source": [
    "p_value = t_statistic < 0 ? cdf(td, t_statistic) : 1-cdf(td, t_statistic)"
   ]
  },
  {
   "cell_type": "code",
   "execution_count": 54,
   "metadata": {},
   "outputs": [
    {
     "name": "stdout",
     "output_type": "stream",
     "text": [
      "Reject H0\n"
     ]
    }
   ],
   "source": [
    "println(p_value < α ? \"Reject H0\" : \"Failed to reject H0\")"
   ]
  }
 ],
 "metadata": {
  "kernelspec": {
   "display_name": "Julia 1.5.3",
   "language": "julia",
   "name": "julia-1.5"
  },
  "language_info": {
   "file_extension": ".jl",
   "mimetype": "application/julia",
   "name": "julia",
   "version": "1.5.3"
  }
 },
 "nbformat": 4,
 "nbformat_minor": 4
}
