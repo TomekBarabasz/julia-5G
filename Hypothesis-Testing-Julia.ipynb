{
 "cells": [
  {
   "cell_type": "code",
   "execution_count": 1,
   "metadata": {},
   "outputs": [],
   "source": [
    "using StatsBase, Distributions"
   ]
  },
  {
   "cell_type": "markdown",
   "metadata": {},
   "source": [
    "# Z-test\n",
    "## used if population standard deviation \\sigma is known"
   ]
  },
  {
   "cell_type": "code",
   "execution_count": 2,
   "metadata": {},
   "outputs": [
    {
     "data": {
      "text/plain": [
       "Normal{Float64}(μ=0.0, σ=1.0)"
      ]
     },
     "execution_count": 2,
     "metadata": {},
     "output_type": "execute_result"
    }
   ],
   "source": [
    "n = Normal()"
   ]
  },
  {
   "cell_type": "code",
   "execution_count": 7,
   "metadata": {},
   "outputs": [
    {
     "name": "stdout",
     "output_type": "stream",
     "text": [
      "7.833333333333333\n",
      "population std = 1.4677268895207385\n",
      "sample std = 1.4928180556003592\n"
     ]
    }
   ],
   "source": [
    "samples = [5.5 5.9 6 6 6.1 6.5 6.5 6.8 7 7.2 7.4 7.5 7.5 7.6 7.7 7.7 7.8 7.9 8 8 8.2 8.3 8.5 8.9 9 9.1 9.4 10 11 12];\n",
    "\n",
    "μ,σ = 7.5, 1.25\n",
    "α = 0.05 #level of significance\n",
    "samples_mean = mean(samples)\n",
    "println( samples_mean )\n",
    "population_std = std(samples, corrected=false)\n",
    "println( \"population std = $population_std\") #this is divided by n\n",
    "samples_std = std(samples, corrected=true)\n",
    "println( \"sample std = $samples_std\") #this is divided by n-1"
   ]
  },
  {
   "cell_type": "code",
   "execution_count": 4,
   "metadata": {},
   "outputs": [
    {
     "name": "stdout",
     "output_type": "stream",
     "text": [
      "Zstatistic 1.4605934866804418\n",
      "p_value 0.9279364825919922\n"
     ]
    }
   ],
   "source": [
    "Zstatistic = (samples_mean - μ) / σ * √length(samples)\n",
    "p_value = cdf(n, Zstatistic)\n",
    "println(\"Zstatistic $(Zstatistic)\")\n",
    "println(\"p_value $(p_value)\")"
   ]
  },
  {
   "cell_type": "markdown",
   "metadata": {},
   "source": [
    "## Alternate Hypothesis was : \n",
    "## sample mean > population mean, so we need 1-tailed test to the right"
   ]
  },
  {
   "cell_type": "code",
   "execution_count": 5,
   "metadata": {},
   "outputs": [
    {
     "data": {
      "text/plain": [
       "0.07206351740800776"
      ]
     },
     "execution_count": 5,
     "metadata": {},
     "output_type": "execute_result"
    }
   ],
   "source": [
    "one_tailed_p_value_to_the_right = 1.0-p_value"
   ]
  },
  {
   "cell_type": "code",
   "execution_count": 10,
   "metadata": {},
   "outputs": [
    {
     "name": "stdout",
     "output_type": "stream",
     "text": [
      "Failed to reject H0\n"
     ]
    }
   ],
   "source": [
    "println( one_tailed_p_value_to_the_right < α ? \"Reject H0\" : \"Failed to reject H0\")"
   ]
  },
  {
   "cell_type": "code",
   "execution_count": 15,
   "metadata": {},
   "outputs": [
    {
     "data": {
      "text/plain": [
       "14"
      ]
     },
     "execution_count": 15,
     "metadata": {},
     "output_type": "execute_result"
    }
   ],
   "source": [
    "samples = [5.1 5.2 5.4 5.5 5.5 5.6 5.6 5.7 5.7 5.8 5.8 5.9 6 6.1 6.2 ];\n",
    "dof = length(samples)-1\n",
    "tdist = TDist()"
   ]
  }
 ],
 "metadata": {
  "kernelspec": {
   "display_name": "Julia 1.5.3",
   "language": "julia",
   "name": "julia-1.5"
  },
  "language_info": {
   "file_extension": ".jl",
   "mimetype": "application/julia",
   "name": "julia",
   "version": "1.5.3"
  }
 },
 "nbformat": 4,
 "nbformat_minor": 4
}
