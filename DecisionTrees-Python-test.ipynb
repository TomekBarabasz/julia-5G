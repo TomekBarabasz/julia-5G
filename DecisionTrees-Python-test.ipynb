{
 "cells": [
  {
   "cell_type": "code",
   "execution_count": 1,
   "metadata": {},
   "outputs": [],
   "source": [
    "import pandas as pd\n",
    "import numpy as np\n",
    "import random\n",
    "from sklearn.tree import DecisionTreeRegressor\n",
    "from sklearn.metrics import mean_squared_error, mean_absolute_error\n",
    "from sklearn.model_selection import train_test_split"
   ]
  },
  {
   "cell_type": "code",
   "execution_count": 37,
   "metadata": {},
   "outputs": [
    {
     "name": "stdout",
     "output_type": "stream",
     "text": [
      "number of total data points 13580\n"
     ]
    }
   ],
   "source": [
    "data = pd.read_csv(\"Data//melb_data.csv\");\n",
    "print( 'number of total data points', len(data))"
   ]
  },
  {
   "cell_type": "code",
   "execution_count": 43,
   "metadata": {},
   "outputs": [
    {
     "name": "stdout",
     "output_type": "stream",
     "text": [
      "numver of valid data points 6196\n"
     ]
    }
   ],
   "source": [
    "fdata = data.dropna(axis=0);\n",
    "print( 'numver of valid data points',len(fdata))\n",
    "Y = fdata.Price\n",
    "X = fdata[ ['Rooms', 'Bathroom', 'Landsize', 'BuildingArea', 'YearBuilt', 'Lattitude', 'Longtitude'] ]"
   ]
  },
  {
   "cell_type": "code",
   "execution_count": 44,
   "metadata": {},
   "outputs": [
    {
     "name": "stdout",
     "output_type": "stream",
     "text": [
      "test train split ratio 0.75 train set size 4647 test set size 1549\n"
     ]
    }
   ],
   "source": [
    "idx = list(range(0,len(X)))\n",
    "random.shuffle(idx)\n",
    "split_ratio = 0.75\n",
    "sp = int( len(X) * split_ratio)\n",
    "print(f'test train split ratio {split_ratio} train set size {sp} test set size {len(X)-sp}')\n",
    "trainX = X.iloc[idx[0:sp ]];\n",
    "testX  = X.iloc[idx[sp+1:]];\n",
    "trainY = Y.iloc[idx[0:sp ]];\n",
    "testY  = Y.iloc[idx[sp+1:]];"
   ]
  },
  {
   "cell_type": "code",
   "execution_count": 22,
   "metadata": {},
   "outputs": [
    {
     "data": {
      "text/plain": [
       "4647"
      ]
     },
     "execution_count": 22,
     "metadata": {},
     "output_type": "execute_result"
    }
   ],
   "source": [
    "_trainX, _testX, _trainY, _testY = train_test_split(fdata, y, random_state = 0)\n",
    "len(_trainX)"
   ]
  },
  {
   "cell_type": "code",
   "execution_count": 46,
   "metadata": {},
   "outputs": [
    {
     "name": "stdout",
     "output_type": "stream",
     "text": [
      "21 ms ± 341 µs per loop (mean ± std. dev. of 7 runs, 10 loops each)\n"
     ]
    }
   ],
   "source": [
    "model = DecisionTreeRegressor(random_state=1)\n",
    "\n",
    "# Fit model\n",
    "%timeit model.fit(trainX, trainY)"
   ]
  },
  {
   "cell_type": "code",
   "execution_count": 47,
   "metadata": {},
   "outputs": [],
   "source": [
    "pred  = model.predict(testX)"
   ]
  },
  {
   "cell_type": "code",
   "execution_count": 27,
   "metadata": {},
   "outputs": [
    {
     "name": "stdout",
     "output_type": "stream",
     "text": [
      "232 µs ± 4.55 µs per loop (mean ± std. dev. of 7 runs, 1000 loops each)\n",
      "192 µs ± 4.46 µs per loop (mean ± std. dev. of 7 runs, 10000 loops each)\n"
     ]
    }
   ],
   "source": [
    "%timeit np.square(pred-testY).sum();\n",
    "%timeit np.square(pred-testY).mean()"
   ]
  },
  {
   "cell_type": "code",
   "execution_count": 30,
   "metadata": {},
   "outputs": [
    {
     "name": "stdout",
     "output_type": "stream",
     "text": [
      "160 µs ± 3.27 µs per loop (mean ± std. dev. of 7 runs, 10000 loops each)\n"
     ]
    }
   ],
   "source": [
    "%timeit mean_squared_error(pred,testY)"
   ]
  },
  {
   "cell_type": "code",
   "execution_count": 48,
   "metadata": {},
   "outputs": [
    {
     "name": "stdout",
     "output_type": "stream",
     "text": [
      "total square error 415109175438043.0\n",
      "prediction MSE 268158382065.91925\n",
      "prediction MSE (sklearn) 268158382065.91925\n",
      "prediction MAE (sklearn) 259396.14664082686\n"
     ]
    }
   ],
   "source": [
    "print( \"total square error\", np.square(pred-testY).sum() )\n",
    "print( \"prediction MSE\", np.square(pred-testY).mean() )\n",
    "print( \"prediction MSE (sklearn)\", mean_squared_error(pred,testY) )\n",
    "print( \"prediction MAE (sklearn)\", mean_absolute_error(pred,testY) )"
   ]
  },
  {
   "cell_type": "code",
   "execution_count": 49,
   "metadata": {},
   "outputs": [
    {
     "name": "stdout",
     "output_type": "stream",
     "text": [
      "total square error 192473000000.0\n",
      "prediction MSE 41418764.79449107\n",
      "prediction MSE (sklearn) 41418764.79449107\n",
      "prediction MAE (sklearn) 396.3847643641059\n"
     ]
    }
   ],
   "source": [
    "predT = model.predict(trainX)\n",
    "print( \"total square error\", np.square(predT-trainY).sum() )\n",
    "print( \"prediction MSE\", np.square(predT-trainY).mean() )\n",
    "print( \"prediction MSE (sklearn)\", mean_squared_error(predT,trainY) )\n",
    "print( \"prediction MAE (sklearn)\", mean_absolute_error(predT,trainY) )"
   ]
  },
  {
   "cell_type": "code",
   "execution_count": null,
   "metadata": {},
   "outputs": [],
   "source": []
  }
 ],
 "metadata": {
  "kernelspec": {
   "display_name": "Python 3",
   "language": "python",
   "name": "python3"
  },
  "language_info": {
   "codemirror_mode": {
    "name": "ipython",
    "version": 3
   },
   "file_extension": ".py",
   "mimetype": "text/x-python",
   "name": "python",
   "nbconvert_exporter": "python",
   "pygments_lexer": "ipython3",
   "version": "3.8.3"
  }
 },
 "nbformat": 4,
 "nbformat_minor": 4
}
