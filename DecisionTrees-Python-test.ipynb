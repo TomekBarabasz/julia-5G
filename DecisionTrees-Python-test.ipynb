{
 "cells": [
  {
   "cell_type": "code",
   "execution_count": 75,
   "metadata": {},
   "outputs": [],
   "source": [
    "import pandas as pd\n",
    "import numpy as np\n",
    "import random\n",
    "from sklearn.tree import DecisionTreeRegressor\n",
    "from sklearn.metrics import mean_squared_error\n",
    "from sklearn.model_selection import train_test_split"
   ]
  },
  {
   "cell_type": "code",
   "execution_count": 10,
   "metadata": {},
   "outputs": [
    {
     "data": {
      "text/plain": [
       "13580"
      ]
     },
     "execution_count": 10,
     "metadata": {},
     "output_type": "execute_result"
    }
   ],
   "source": [
    "data = pd.read_csv(\"Data//melb_data.csv\");\n",
    "len(data)"
   ]
  },
  {
   "cell_type": "code",
   "execution_count": 5,
   "metadata": {},
   "outputs": [],
   "source": [
    "fdata = data.dropna(axis=0);\n",
    "y = fdata.Price\n",
    "fdata = fdata[ [\"Rooms\", \"Bathroom\", \"Landsize\", \"Lattitude\", \"Longtitude\"]];"
   ]
  },
  {
   "cell_type": "code",
   "execution_count": 24,
   "metadata": {},
   "outputs": [
    {
     "name": "stdout",
     "output_type": "stream",
     "text": [
      "4647\n"
     ]
    }
   ],
   "source": [
    "idx = list(range(0,len(fdata)))\n",
    "random.shuffle(idx)\n",
    "sp = int( len(fdata) * 0.75)\n",
    "print(sp)\n",
    "trainX = fdata.iloc[idx[0:sp ]];\n",
    "testX  = fdata.iloc[idx[sp+1:]];\n",
    "trainY = y.iloc[idx[0:sp ]];\n",
    "testY  = y.iloc[idx[sp+1:]];"
   ]
  },
  {
   "cell_type": "code",
   "execution_count": 76,
   "metadata": {},
   "outputs": [
    {
     "data": {
      "text/plain": [
       "4647"
      ]
     },
     "execution_count": 76,
     "metadata": {},
     "output_type": "execute_result"
    }
   ],
   "source": [
    "_trainX, _testX, _trainY, _testY = train_test_split(fdata, y, random_state = 0)\n",
    "len(_trainX)"
   ]
  },
  {
   "cell_type": "code",
   "execution_count": 25,
   "metadata": {},
   "outputs": [
    {
     "data": {
      "text/plain": [
       "DecisionTreeRegressor(random_state=1)"
      ]
     },
     "execution_count": 25,
     "metadata": {},
     "output_type": "execute_result"
    }
   ],
   "source": [
    "model = DecisionTreeRegressor(random_state=1)\n",
    "\n",
    "# Fit model\n",
    "model.fit(trainX, trainY)"
   ]
  },
  {
   "cell_type": "code",
   "execution_count": 26,
   "metadata": {},
   "outputs": [],
   "source": [
    "pred  = model.predict(testX)\n",
    "predT = model.predict(trainX)"
   ]
  },
  {
   "cell_type": "code",
   "execution_count": 71,
   "metadata": {},
   "outputs": [
    {
     "name": "stdout",
     "output_type": "stream",
     "text": [
      "242 µs ± 6.45 µs per loop (mean ± std. dev. of 7 runs, 1000 loops each)\n",
      "total square error 336446286565378.9\n"
     ]
    }
   ],
   "source": [
    "%timeit np.square(pred-testY).sum();\n",
    "print( \"total square error\", np.square(pred-testY).sum() )"
   ]
  },
  {
   "cell_type": "code",
   "execution_count": 69,
   "metadata": {},
   "outputs": [
    {
     "name": "stdout",
     "output_type": "stream",
     "text": [
      "199 µs ± 9.3 µs per loop (mean ± std. dev. of 7 runs, 1000 loops each)\n",
      "prediction MSE 217342562380.73572\n"
     ]
    }
   ],
   "source": [
    "%timeit np.square(pred-testY).mean()\n",
    "print( \"prediction MSE\", np.square(pred-testY).mean() )"
   ]
  },
  {
   "cell_type": "code",
   "execution_count": 74,
   "metadata": {},
   "outputs": [
    {
     "name": "stdout",
     "output_type": "stream",
     "text": [
      "159 µs ± 516 ns per loop (mean ± std. dev. of 7 runs, 10000 loops each)\n"
     ]
    }
   ],
   "source": [
    "%timeit mean_squared_error(pred,testY)"
   ]
  },
  {
   "cell_type": "code",
   "execution_count": 70,
   "metadata": {},
   "outputs": [
    {
     "name": "stdout",
     "output_type": "stream",
     "text": [
      "train total square error 390736625000.0\n",
      "average MSE 84083629.22315472\n"
     ]
    }
   ],
   "source": [
    "tse = np.square(predT-trainY).sum();\n",
    "mse = np.square(predT-trainY).mean()\n",
    "print( \"train total square error\", tse )\n",
    "print( \"average MSE\", mse)"
   ]
  }
 ],
 "metadata": {
  "kernelspec": {
   "display_name": "Python 3",
   "language": "python",
   "name": "python3"
  },
  "language_info": {
   "codemirror_mode": {
    "name": "ipython",
    "version": 3
   },
   "file_extension": ".py",
   "mimetype": "text/x-python",
   "name": "python",
   "nbconvert_exporter": "python",
   "pygments_lexer": "ipython3",
   "version": "3.8.3"
  }
 },
 "nbformat": 4,
 "nbformat_minor": 4
}
