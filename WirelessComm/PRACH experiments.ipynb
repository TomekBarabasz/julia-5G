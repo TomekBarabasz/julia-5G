{
 "cells": [
  {
   "cell_type": "code",
   "execution_count": 41,
   "id": "9faf79d2",
   "metadata": {},
   "outputs": [],
   "source": [
    "using Random, Plots, Distributions, StatsBase, LinearAlgebra"
   ]
  },
  {
   "cell_type": "code",
   "execution_count": 29,
   "id": "0d822a48",
   "metadata": {},
   "outputs": [
    {
     "ename": "LoadError",
     "evalue": "syntax: type declarations on global variables are not yet supported",
     "output_type": "error",
     "traceback": [
      "syntax: type declarations on global variables are not yet supported",
      "",
      "Stacktrace:",
      " [1] top-level scope",
      "   @ In[29]:2",
      " [2] eval",
      "   @ ./boot.jl:373 [inlined]",
      " [3] include_string(mapexpr::typeof(REPL.softscope), mod::Module, code::String, filename::String)",
      "   @ Base ./loading.jl:1196"
     ]
    }
   ],
   "source": [
    "μ = Float16(0.0)\n",
    "σ = Float16(1.0)\n",
    "nd = Normal{Float16}(μ, σ/2)"
   ]
  },
  {
   "cell_type": "code",
   "execution_count": 8,
   "id": "e6008e76",
   "metadata": {},
   "outputs": [
    {
     "name": "stdout",
     "output_type": "stream",
     "text": [
      "  0.131142 seconds (1.04 M allocations: 34.321 MiB, 8.84% gc time, 67.70% compilation time)\n"
     ]
    }
   ],
   "source": [
    "s = rand(nd,(100000,2))\n",
    "@time c1 = [ ComplexF16(r...) for r in eachrow( s ) ];"
   ]
  },
  {
   "cell_type": "code",
   "execution_count": 12,
   "id": "e74279c6",
   "metadata": {},
   "outputs": [
    {
     "data": {
      "text/plain": [
       "2-element Vector{Float16}:\n",
       " 0.3452\n",
       " 0.3992"
      ]
     },
     "execution_count": 12,
     "metadata": {},
     "output_type": "execute_result"
    }
   ],
   "source": [
    "s[1,:]"
   ]
  },
  {
   "cell_type": "code",
   "execution_count": 17,
   "id": "087d9d5d",
   "metadata": {},
   "outputs": [
    {
     "name": "stdout",
     "output_type": "stream",
     "text": [
      "  0.002110 seconds (2 allocations: 195.359 KiB)\n"
     ]
    }
   ],
   "source": [
    "@time noise = randn(ComplexF16, 50000);"
   ]
  },
  {
   "cell_type": "code",
   "execution_count": 21,
   "id": "5e2780cd",
   "metadata": {},
   "outputs": [
    {
     "data": {
      "text/plain": [
       "0.0 + 3.141592653589793im"
      ]
     },
     "execution_count": 21,
     "metadata": {},
     "output_type": "execute_result"
    }
   ],
   "source": [
    "im*π"
   ]
  },
  {
   "cell_type": "code",
   "execution_count": 26,
   "id": "f0d51fd0",
   "metadata": {},
   "outputs": [
    {
     "data": {
      "text/plain": [
       "zadoffChuSeq (generic function with 1 method)"
      ]
     },
     "execution_count": 26,
     "metadata": {},
     "output_type": "execute_result"
    }
   ],
   "source": [
    "zadoffChuSeq(R::Integer,N::Integer) = [exp(-im*π*R*m*(m+1)/N) for m in 0:N-1]"
   ]
  },
  {
   "cell_type": "code",
   "execution_count": 34,
   "id": "29f256f8",
   "metadata": {},
   "outputs": [],
   "source": [
    "zc = zadoffChuSeq(1,25);"
   ]
  },
  {
   "cell_type": "code",
   "execution_count": 63,
   "id": "f49f6d9d",
   "metadata": {},
   "outputs": [
    {
     "data": {
      "text/plain": [
       "xcorr (generic function with 1 method)"
      ]
     },
     "execution_count": 63,
     "metadata": {},
     "output_type": "execute_result"
    }
   ],
   "source": [
    "function xcorr(x)\n",
    "    div = abs(dot(x,x))\n",
    "    [abs(dot(zc,circshift(x,n)))/div for n in 0:size(x,1)-1]\n",
    "end"
   ]
  },
  {
   "cell_type": "code",
   "execution_count": 64,
   "id": "a4573804",
   "metadata": {},
   "outputs": [
    {
     "data": {
      "text/plain": [
       "25-element Vector{Float64}:\n",
       " 1.0\n",
       " 6.370026786793351e-17\n",
       " 2.486899575160351e-16\n",
       " 2.469391584451203e-16\n",
       " 1.517719948885615e-16\n",
       " 1.8971499361070187e-17\n",
       " 1.2373763093511456e-15\n",
       " 2.218780089744109e-16\n",
       " 1.1479169203741087e-15\n",
       " 3.7356323980498536e-16\n",
       " 7.771561172376097e-18\n",
       " 6.09487161692988e-16\n",
       " 9.932122441748669e-16\n",
       " 9.589448144789843e-16\n",
       " 6.107800930605192e-16\n",
       " 1.9389211565826712e-17\n",
       " 3.7789356354353756e-16\n",
       " 1.1677097561785287e-15\n",
       " 2.2403409359891383e-16\n",
       " 1.2309524876080798e-15\n",
       " 1.9860273225978184e-17\n",
       " 1.432144669219779e-16\n",
       " 1.758503553725828e-16\n",
       " 2.1326687873800037e-16\n",
       " 6.523740329571444e-17"
      ]
     },
     "execution_count": 64,
     "metadata": {},
     "output_type": "execute_result"
    }
   ],
   "source": [
    "xcorr(zc)"
   ]
  },
  {
   "cell_type": "code",
   "execution_count": 66,
   "id": "c5866d7c",
   "metadata": {},
   "outputs": [
    {
     "data": {
      "text/plain": [
       "1"
      ]
     },
     "execution_count": 66,
     "metadata": {},
     "output_type": "execute_result"
    }
   ],
   "source": [
    "abs(1)"
   ]
  }
 ],
 "metadata": {
  "kernelspec": {
   "display_name": "Julia 1.8.1",
   "language": "julia",
   "name": "julia-1.8"
  },
  "language_info": {
   "file_extension": ".jl",
   "mimetype": "application/julia",
   "name": "julia",
   "version": "1.8.1"
  }
 },
 "nbformat": 4,
 "nbformat_minor": 5
}
