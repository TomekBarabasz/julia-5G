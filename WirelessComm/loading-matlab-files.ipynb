{
 "cells": [
  {
   "cell_type": "code",
   "execution_count": 1,
   "id": "d1d9bdfd",
   "metadata": {},
   "outputs": [
    {
     "ename": "LoadError",
     "evalue": "ArgumentError: Package MAT not found in current path.\n- Run `import Pkg; Pkg.add(\"MAT\")` to install the MAT package.",
     "output_type": "error",
     "traceback": [
      "ArgumentError: Package MAT not found in current path.\n- Run `import Pkg; Pkg.add(\"MAT\")` to install the MAT package.",
      "",
      "Stacktrace:",
      " [1] macro expansion",
      "   @ ./loading.jl:1163 [inlined]",
      " [2] macro expansion",
      "   @ ./lock.jl:223 [inlined]",
      " [3] require(into::Module, mod::Symbol)",
      "   @ Base ./loading.jl:1144",
      " [4] eval",
      "   @ ./boot.jl:368 [inlined]",
      " [5] include_string(mapexpr::typeof(REPL.softscope), mod::Module, code::String, filename::String)",
      "   @ Base ./loading.jl:1428"
     ]
    }
   ],
   "source": [
    "using MAT"
   ]
  },
  {
   "cell_type": "code",
   "execution_count": 27,
   "id": "bbb34249",
   "metadata": {},
   "outputs": [
    {
     "data": {
      "text/plain": [
       "MAT.MAT_v5.Matlabv5File(IOStream(<file /home/barabasz/Documents/MATLAB/Examples/R2021b/5g/received_ssb_waveform.mat>), false, #undef)"
      ]
     },
     "execution_count": 27,
     "metadata": {},
     "output_type": "execute_result"
    }
   ],
   "source": [
    "file = matopen(\"/home/barabasz/Documents/MATLAB/Examples/R2021b/5g/received_ssb_waveform.mat\")"
   ]
  },
  {
   "cell_type": "code",
   "execution_count": 28,
   "id": "7e3858cb",
   "metadata": {},
   "outputs": [
    {
     "data": {
      "text/plain": [
       "307200×1 Matrix{ComplexF64}:\n",
       "  0.0023705467169092124 + 0.0019236590197979672im\n",
       "    0.00808550454507485 - 0.0007907374520940689im\n",
       "  -0.009959139431272164 - 0.0015443419199835007im\n",
       "  0.0038012777491493394 - 0.0015093191432487207im\n",
       "  0.0014054195193152488 - 0.0016228871773950224im\n",
       "  -0.005765530324512749 + 0.0034944990706205314im\n",
       "  -0.001911684887089209 + 0.004765961394034997im\n",
       "  0.0015106136204857794 + 0.0009533720049253507im\n",
       "   0.015776967743325435 - 0.0032637757493078914im\n",
       "   0.012210305179562682 - 0.00169663654697299im\n",
       "  -0.005951581971120807 - 0.0025656890174405715im\n",
       "    0.01338082119963154 + 0.005631113472486079im\n",
       "   0.003198269853965331 - 0.0005337321782149595im\n",
       "                        ⋮\n",
       "  0.0021119947303625108 - 0.000498855312559958im\n",
       " -0.0016431471856416325 + 0.004256411772259486im\n",
       "  0.0006837844863348978 + 0.00809924645465016im\n",
       "   0.006683683545892701 - 4.629808593009395e-5im\n",
       "   0.006068564357821221 - 0.004283111227687409im\n",
       "  -0.003163738048928655 + 0.0021595547624838115im\n",
       " -0.0016515698712913278 + 0.00148394692423534im\n",
       "   0.002224548935361431 - 0.010628375175591015im\n",
       "  0.0031394130815467014 - 0.0006140804845695874im\n",
       " -0.0034967084127372977 - 0.0030628229951617904im\n",
       "   0.004078563653110506 + 0.0030437771201006253im\n",
       " -0.0012216202911262018 - 0.005646188020454868im"
      ]
     },
     "execution_count": 28,
     "metadata": {},
     "output_type": "execute_result"
    }
   ],
   "source": [
    "rxWaveform = read(file,\"rxWaveform\")"
   ]
  },
  {
   "cell_type": "code",
   "execution_count": 29,
   "id": "82a1e4a4",
   "metadata": {},
   "outputs": [
    {
     "data": {
      "text/plain": [
       "Dict{String, Any} with 10 entries:\n",
       "  \"Nfft\"                => 1024.0\n",
       "  \"CyclicPrefixLengths\" => [80.0 72.0 … 72.0 72.0]\n",
       "  \"k0\"                  => 0.0\n",
       "  \"SlotsPerFrame\"       => 10.0\n",
       "  \"SymbolLengths\"       => [1104.0 1096.0 … 1096.0 1096.0]\n",
       "  \"Windowing\"           => 0.0\n",
       "  \"SlotsPerSubframe\"    => 1.0\n",
       "  \"SampleRate\"          => 1.536e7\n",
       "  \"SymbolPhases\"        => [-0.0 -0.0 … -0.0 -0.0]\n",
       "  \"SymbolsPerSlot\"      => 14.0"
      ]
     },
     "execution_count": 29,
     "metadata": {},
     "output_type": "execute_result"
    }
   ],
   "source": [
    "txOfdmInfo = read(file,\"txOfdmInfo\")"
   ]
  },
  {
   "cell_type": "code",
   "execution_count": 31,
   "id": "8522a96e",
   "metadata": {},
   "outputs": [
    {
     "data": {
      "text/plain": [
       "10-element Vector{ComplexF64}:\n",
       " 0.0023705467169092124 + 0.0019236590197979672im\n",
       "   0.00808550454507485 - 0.0007907374520940689im\n",
       " -0.009959139431272164 - 0.0015443419199835007im\n",
       " 0.0038012777491493394 - 0.0015093191432487207im\n",
       " 0.0014054195193152488 - 0.0016228871773950224im\n",
       " -0.005765530324512749 + 0.0034944990706205314im\n",
       " -0.001911684887089209 + 0.004765961394034997im\n",
       " 0.0015106136204857794 + 0.0009533720049253507im\n",
       "  0.015776967743325435 - 0.0032637757493078914im\n",
       "  0.012210305179562682 - 0.00169663654697299im"
      ]
     },
     "execution_count": 31,
     "metadata": {},
     "output_type": "execute_result"
    }
   ],
   "source": [
    "rxWaveform[1:10]"
   ]
  },
  {
   "cell_type": "code",
   "execution_count": 37,
   "id": "e5aabff6",
   "metadata": {},
   "outputs": [],
   "source": [
    "fshifts = collect((-180:30:180)*1e3/2);"
   ]
  },
  {
   "cell_type": "code",
   "execution_count": 39,
   "id": "aab3721e",
   "metadata": {},
   "outputs": [
    {
     "data": {
      "text/plain": [
       "13-element Vector{Float64}:\n",
       " -90000.0\n",
       " -75000.0\n",
       " -60000.0\n",
       " -45000.0\n",
       " -30000.0\n",
       " -15000.0\n",
       "      0.0\n",
       "  15000.0\n",
       "  30000.0\n",
       "  45000.0\n",
       "  60000.0\n",
       "  75000.0\n",
       "  90000.0"
      ]
     },
     "execution_count": 39,
     "metadata": {},
     "output_type": "execute_result"
    }
   ],
   "source": [
    "fshifts"
   ]
  },
  {
   "cell_type": "code",
   "execution_count": 48,
   "id": "658fc8a4",
   "metadata": {},
   "outputs": [
    {
     "data": {
      "text/plain": [
       "3×3 Matrix{Float64}:\n",
       "  1.02528    0.620886  -0.292208\n",
       " -0.462585   1.38289    1.12231\n",
       " -0.651169  -0.412708   0.743644"
      ]
     },
     "execution_count": 48,
     "metadata": {},
     "output_type": "execute_result"
    }
   ],
   "source": [
    "A=randn(3,3)"
   ]
  }
 ],
 "metadata": {
  "kernelspec": {
   "display_name": "Julia 1.8.1",
   "language": "julia",
   "name": "julia-1.8"
  },
  "language_info": {
   "file_extension": ".jl",
   "mimetype": "application/julia",
   "name": "julia",
   "version": "1.8.1"
  }
 },
 "nbformat": 4,
 "nbformat_minor": 5
}
