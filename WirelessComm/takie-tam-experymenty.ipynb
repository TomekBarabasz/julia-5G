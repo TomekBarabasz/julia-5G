{
 "cells": [
  {
   "cell_type": "code",
   "execution_count": 4,
   "id": "f117d234",
   "metadata": {},
   "outputs": [
    {
     "name": "stdout",
     "output_type": "stream",
     "text": [
      "supertype(Float32) = AbstractFloat\n",
      "supertype(AbstractFloat) = Real\n",
      "supertype(Real) = Number\n",
      "supertype(Number) = Any\n"
     ]
    },
    {
     "data": {
      "text/plain": [
       "Any"
      ]
     },
     "execution_count": 4,
     "metadata": {},
     "output_type": "execute_result"
    }
   ],
   "source": [
    "@show supertype(Float32);\n",
    "@show supertype(AbstractFloat)\n",
    "@show supertype(Real)\n",
    "@show supertype(Number)"
   ]
  },
  {
   "cell_type": "code",
   "execution_count": 5,
   "id": "e816082c",
   "metadata": {},
   "outputs": [
    {
     "name": "stdout",
     "output_type": "stream",
     "text": [
      "subtypes(AbstractFloat) = Any[BigFloat, Float16, Float32, Float64]\n"
     ]
    },
    {
     "data": {
      "text/plain": [
       "4-element Vector{Any}:\n",
       " BigFloat\n",
       " Float16\n",
       " Float32\n",
       " Float64"
      ]
     },
     "execution_count": 5,
     "metadata": {},
     "output_type": "execute_result"
    }
   ],
   "source": [
    "@show subtypes(AbstractFloat)"
   ]
  },
  {
   "cell_type": "code",
   "execution_count": 6,
   "id": "e0bf1854",
   "metadata": {},
   "outputs": [
    {
     "data": {
      "text/plain": [
       "myFFT (generic function with 1 method)"
      ]
     },
     "execution_count": 6,
     "metadata": {},
     "output_type": "execute_result"
    }
   ],
   "source": [
    "function myFFT(signal::Array{T})::Array{Complex{T}} where {T}\n",
    "    N=length(signal)\n",
    "    n=0:N-1\n",
    "    ωn = exp(-2π*im/N)\n",
    "    fft = (ωn .^(n*n')) * signal\n",
    "end"
   ]
  },
  {
   "cell_type": "code",
   "execution_count": 8,
   "id": "166aca43",
   "metadata": {},
   "outputs": [],
   "source": [
    "#@code_typed myFFT([1 2 3 4])"
   ]
  },
  {
   "cell_type": "code",
   "execution_count": 10,
   "id": "dfae6112",
   "metadata": {},
   "outputs": [],
   "source": [
    "#@code_native myFFT([1 2 3 4])"
   ]
  },
  {
   "cell_type": "code",
   "execution_count": 12,
   "id": "10582ea5",
   "metadata": {},
   "outputs": [
    {
     "ename": "LoadError",
     "evalue": "MethodError: \u001b[0mCannot `convert` an object of type \u001b[92mInt64\u001b[39m\u001b[0m to an object of type \u001b[91mString\u001b[39m\n\u001b[0mClosest candidates are:\n\u001b[0m  convert(::Type{String}, \u001b[91m::String\u001b[39m) at /opt/julia-1.7.1/share/julia/base/essentials.jl:223\n\u001b[0m  convert(::Type{T}, \u001b[91m::T\u001b[39m) where T<:AbstractString at /opt/julia-1.7.1/share/julia/base/strings/basic.jl:231\n\u001b[0m  convert(::Type{T}, \u001b[91m::AbstractString\u001b[39m) where T<:AbstractString at /opt/julia-1.7.1/share/julia/base/strings/basic.jl:232\n\u001b[0m  ...",
     "output_type": "error",
     "traceback": [
      "MethodError: \u001b[0mCannot `convert` an object of type \u001b[92mInt64\u001b[39m\u001b[0m to an object of type \u001b[91mString\u001b[39m\n\u001b[0mClosest candidates are:\n\u001b[0m  convert(::Type{String}, \u001b[91m::String\u001b[39m) at /opt/julia-1.7.1/share/julia/base/essentials.jl:223\n\u001b[0m  convert(::Type{T}, \u001b[91m::T\u001b[39m) where T<:AbstractString at /opt/julia-1.7.1/share/julia/base/strings/basic.jl:231\n\u001b[0m  convert(::Type{T}, \u001b[91m::AbstractString\u001b[39m) where T<:AbstractString at /opt/julia-1.7.1/share/julia/base/strings/basic.jl:232\n\u001b[0m  ...",
      "",
      "Stacktrace:",
      " [1] setindex!(A::Vector{String}, x::Int64, i1::Int64)",
      "   @ Base ./array.jl:903",
      " [2] getindex(#unused#::Type{String}, x::Int64)",
      "   @ Base ./array.jl:412",
      " [3] top-level scope",
      "   @ In[12]:1",
      " [4] eval",
      "   @ ./boot.jl:373 [inlined]",
      " [5] include_string(mapexpr::typeof(REPL.softscope), mod::Module, code::String, filename::String)",
      "   @ Base ./loading.jl:1196"
     ]
    }
   ],
   "source": [
    "a=String[2]"
   ]
  }
 ],
 "metadata": {
  "kernelspec": {
   "display_name": "Julia 1.7.1",
   "language": "julia",
   "name": "julia-1.7"
  },
  "language_info": {
   "file_extension": ".jl",
   "mimetype": "application/julia",
   "name": "julia",
   "version": "1.7.1"
  }
 },
 "nbformat": 4,
 "nbformat_minor": 5
}
