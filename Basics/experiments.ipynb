{
 "cells": [
  {
   "cell_type": "code",
   "execution_count": 2,
   "metadata": {},
   "outputs": [],
   "source": [
    "using Random,Distributions,Plots,Profile"
   ]
  },
  {
   "cell_type": "code",
   "execution_count": 2,
   "metadata": {},
   "outputs": [
    {
     "data": {
      "text/plain": [
       "modulate_qpsk (generic function with 1 method)"
      ]
     },
     "execution_count": 2,
     "metadata": {},
     "output_type": "execute_result"
    }
   ],
   "source": [
    "qpsk(cw::Int) = (1/√2)*( (1-2(cw & 1 != 0 ? 1 : 0)) + im*(1-2(cw & 2 != 0 ? 1 : 0)) )\n",
    "function modulate_qpsk(codewords::BitVector)::Vector{Complex{T}} where {T}\n",
    "    a = 1/√2\n",
    "    return nothing\n",
    "end"
   ]
  },
  {
   "cell_type": "code",
   "execution_count": 3,
   "metadata": {},
   "outputs": [
    {
     "data": {
      "text/plain": [
       "qpsk_1 (generic function with 1 method)"
      ]
     },
     "execution_count": 3,
     "metadata": {},
     "output_type": "execute_result"
    }
   ],
   "source": [
    "function qpsk_1(cw::Int)::Complex{T} where {T}\n",
    "    return convert(T,1/√2)*( (1-2(cw & 1 != 0 ? 1 : 0)) + im*(1-2(cw & 2 != 0 ? 1 : 0)) ) \n",
    "end"
   ]
  },
  {
   "cell_type": "code",
   "execution_count": 110,
   "metadata": {},
   "outputs": [
    {
     "ename": "LoadError",
     "evalue": "TypeError: in Type{...} expression, expected UnionAll, got a value of type typeof(qpsk_1)",
     "output_type": "error",
     "traceback": [
      "TypeError: in Type{...} expression, expected UnionAll, got a value of type typeof(qpsk_1)",
      "",
      "Stacktrace:",
      " [1] top-level scope at In[110]:1",
      " [2] include_string(::Function, ::Module, ::String, ::String) at ./loading.jl:1091",
      " [3] execute_code(::String, ::String) at /home/barabasz/.julia/packages/IJulia/rWZ9e/src/execute_request.jl:27",
      " [4] execute_request(::ZMQ.Socket, ::IJulia.Msg) at /home/barabasz/.julia/packages/IJulia/rWZ9e/src/execute_request.jl:86",
      " [5] #invokelatest#1 at ./essentials.jl:710 [inlined]",
      " [6] invokelatest at ./essentials.jl:709 [inlined]",
      " [7] eventloop(::ZMQ.Socket) at /home/barabasz/.julia/packages/IJulia/rWZ9e/src/eventloop.jl:8",
      " [8] (::IJulia.var\"#15#18\")() at ./task.jl:356"
     ]
    }
   ],
   "source": [
    "qpsk_1{Int16}(0)"
   ]
  },
  {
   "cell_type": "code",
   "execution_count": null,
   "metadata": {},
   "outputs": [],
   "source": []
  },
  {
   "cell_type": "code",
   "execution_count": 102,
   "metadata": {},
   "outputs": [
    {
     "data": {
      "text/plain": [
       "foo (generic function with 2 methods)"
      ]
     },
     "execution_count": 102,
     "metadata": {},
     "output_type": "execute_result"
    }
   ],
   "source": [
    "foo(x::Number) = x^2"
   ]
  },
  {
   "cell_type": "code",
   "execution_count": 122,
   "metadata": {},
   "outputs": [
    {
     "data": {
      "text/plain": [
       "pierw (generic function with 2 methods)"
      ]
     },
     "execution_count": 122,
     "metadata": {},
     "output_type": "execute_result"
    }
   ],
   "source": [
    "pierw(x::T) where {T<:Int   } = convert(T,trunc(√x))\n",
    "pierw(x::T) where {T<:Number} = convert(T,√x)"
   ]
  },
  {
   "cell_type": "code",
   "execution_count": 129,
   "metadata": {},
   "outputs": [
    {
     "data": {
      "text/plain": [
       "4.0f0"
      ]
     },
     "execution_count": 129,
     "metadata": {},
     "output_type": "execute_result"
    }
   ],
   "source": [
    "pierw(Float32(16))"
   ]
  },
  {
   "cell_type": "code",
   "execution_count": 131,
   "metadata": {},
   "outputs": [
    {
     "data": {
      "text/plain": [
       "Float16(1.099) + Float16(0.455)im"
      ]
     },
     "execution_count": 131,
     "metadata": {},
     "output_type": "execute_result"
    }
   ],
   "source": [
    "pierw(Complex{Float16}(1+1im))"
   ]
  },
  {
   "cell_type": "code",
   "execution_count": 137,
   "metadata": {},
   "outputs": [
    {
     "data": {
      "text/plain": [
       "1//2"
      ]
     },
     "execution_count": 137,
     "metadata": {},
     "output_type": "execute_result"
    }
   ],
   "source": [
    "pierw(1//4)"
   ]
  },
  {
   "cell_type": "code",
   "execution_count": 138,
   "metadata": {},
   "outputs": [],
   "source": [
    "struct Point{T}\n",
    "    x::T\n",
    "    y::T\n",
    "end"
   ]
  },
  {
   "cell_type": "code",
   "execution_count": 156,
   "metadata": {},
   "outputs": [],
   "source": [
    "Point(a::Int,b::AbstractFloat) = Point( promote(a,b)...);"
   ]
  },
  {
   "cell_type": "code",
   "execution_count": 157,
   "metadata": {},
   "outputs": [
    {
     "ename": "LoadError",
     "evalue": "StackOverflowError:",
     "output_type": "error",
     "traceback": [
      "StackOverflowError:",
      "",
      "Stacktrace:",
      " [1] Point(::Float32, ::Float32) at ./In[152]:1 (repeats 79984 times)"
     ]
    }
   ],
   "source": [
    "typeof( Point(1.0f0,2.0f0) )"
   ]
  },
  {
   "cell_type": "code",
   "execution_count": 146,
   "metadata": {},
   "outputs": [
    {
     "ename": "LoadError",
     "evalue": "StackOverflowError:",
     "output_type": "error",
     "traceback": [
      "StackOverflowError:",
      "",
      "Stacktrace:",
      " [1] Point(::Float32, ::Float32) at ./In[145]:1 (repeats 79984 times)"
     ]
    }
   ],
   "source": [
    "Point( Int8(1), 2.0f0 )"
   ]
  },
  {
   "cell_type": "code",
   "execution_count": 149,
   "metadata": {},
   "outputs": [
    {
     "data": {
      "text/plain": [
       "(1.0f0, 2.0f0)"
      ]
     },
     "execution_count": 149,
     "metadata": {},
     "output_type": "execute_result"
    }
   ],
   "source": [
    "promote( Int8(1), 2.0f0 )"
   ]
  },
  {
   "cell_type": "code",
   "execution_count": 106,
   "metadata": {},
   "outputs": [
    {
     "data": {
      "text/plain": [
       "Int8"
      ]
     },
     "execution_count": 106,
     "metadata": {},
     "output_type": "execute_result"
    }
   ],
   "source": [
    "typeof( foo(Int8(1)) )"
   ]
  },
  {
   "cell_type": "code",
   "execution_count": 7,
   "metadata": {},
   "outputs": [
    {
     "data": {
      "text/plain": [
       "8192.53916682734"
      ]
     },
     "execution_count": 7,
     "metadata": {},
     "output_type": "execute_result"
    }
   ],
   "source": [
    "N=Int16( 0x16A1 ) / (1/√2)"
   ]
  },
  {
   "cell_type": "code",
   "execution_count": null,
   "metadata": {},
   "outputs": [],
   "source": [
    "#[trunc(x*8192) for x in QPSKV]\n",
    "#reinterpret(UInt16, 5792)\n",
    "#reinterpret(UInt16, Int16(trunc(5792)))\n",
    "reinterpret(UInt16, Int16(5792.0))"
   ]
  },
  {
   "cell_type": "code",
   "execution_count": 28,
   "metadata": {},
   "outputs": [
    {
     "name": "stdout",
     "output_type": "stream",
     "text": [
      "5793\n",
      "-5793\n"
     ]
    }
   ],
   "source": [
    "println( Int16(0x16A1) )\n",
    "println( reinterpret(Int16, 0xE95F) )"
   ]
  },
  {
   "cell_type": "code",
   "execution_count": 38,
   "metadata": {},
   "outputs": [
    {
     "name": "stdout",
     "output_type": "stream",
     "text": [
      "a=-0.7071533 pa=-0.70710677 abs(pa-a)=4.6551228e-5 abs(pa-a)/pa6.583338e-5\n"
     ]
    }
   ],
   "source": [
    "a=convert(Float32,-5793) / 8192\n",
    "pa=convert(Float32, -1/√2)\n",
    "println( \"a=\",a, \" pa=\", pa, \" abs(pa-a)=\",abs(pa-a), \" abs(pa-a)/pa\", abs((pa-a)/pa) )"
   ]
  },
  {
   "cell_type": "code",
   "execution_count": 55,
   "metadata": {},
   "outputs": [
    {
     "data": {
      "text/plain": [
       "Normal{Float64}(μ=0.0, σ=1.0)"
      ]
     },
     "execution_count": 55,
     "metadata": {},
     "output_type": "execute_result"
    }
   ],
   "source": [
    "#nd=Normal(;μ=0.0,σ=1.0)\n",
    "nd=Normal(0.0,1.0)"
   ]
  },
  {
   "cell_type": "code",
   "execution_count": 59,
   "metadata": {},
   "outputs": [
    {
     "data": {
      "text/plain": [
       "1.0f0 + 1.0f0im"
      ]
     },
     "execution_count": 59,
     "metadata": {},
     "output_type": "execute_result"
    }
   ],
   "source": [
    "ComplexF32( (1,1)... )"
   ]
  },
  {
   "cell_type": "code",
   "execution_count": 84,
   "metadata": {},
   "outputs": [
    {
     "data": {
      "text/plain": [
       "10×2 Array{Float64,2}:\n",
       " -0.787221   0.110327\n",
       "  0.53536   -0.320264\n",
       "  0.472238  -0.733792\n",
       " -0.939723   1.48812\n",
       " -0.485595   0.941577\n",
       " -0.209201  -0.63037\n",
       "  1.1365    -0.53203\n",
       "  0.72421   -1.89261\n",
       "  0.628283   1.65398\n",
       " -0.371809  -1.36752"
      ]
     },
     "execution_count": 84,
     "metadata": {},
     "output_type": "execute_result"
    }
   ],
   "source": [
    "s=rand(nd,(10,2))"
   ]
  },
  {
   "cell_type": "code",
   "execution_count": 98,
   "metadata": {},
   "outputs": [
    {
     "data": {
      "text/plain": [
       "10-element Array{Complex{Float64},1}:\n",
       "   -0.787221318057999 + 0.1103273554226im\n",
       "   0.5353602180740382 - 0.32026402857982145im\n",
       "   0.4722379940143477 - 0.7337915945977884im\n",
       "  -0.9397234560012357 + 1.4881165365739066im\n",
       "  -0.4855946464096864 + 0.9415771545162329im\n",
       " -0.20920074138855885 - 0.6303704276114991im\n",
       "   1.1364999878160185 - 0.5320299341852197im\n",
       "   0.7242097136730332 - 1.8926103568995443im\n",
       "   0.6282828938522995 + 1.6539808866271646im\n",
       "  -0.3718091646994734 - 1.3675174907382825im"
      ]
     },
     "execution_count": 98,
     "metadata": {},
     "output_type": "execute_result"
    }
   ],
   "source": [
    "z = [ ComplexF64(s[i,:]...) for i=1:size(s,1) ]\n",
    "#z = [ ComplexF64(r...) for r in eachrow(s) ]"
   ]
  },
  {
   "cell_type": "code",
   "execution_count": 100,
   "metadata": {},
   "outputs": [
    {
     "data": {
      "text/plain": [
       "10×10 Array{Complex{Float64},2}:\n",
       "   0.63189+0.0im       -0.456781-0.193054im   …  0.141822-1.11756im\n",
       " -0.456781+0.193054im    0.38918+0.0im           0.238915+0.851192im\n",
       " -0.452713+0.525556im   0.487824-0.241602im       0.82789+0.918624im\n",
       "   0.90395-1.0678im    -0.979681+0.495719im      -1.68563-1.83838im\n",
       "  0.486152-0.687655im  -0.561521+0.348564im      -1.10707-1.01415im\n",
       " 0.0951402+0.519322im  0.0898872-0.404475im   …  0.939825-0.0517082im\n",
       " -0.953374+0.293438im   0.778827+0.0791524im     0.304999+1.752im\n",
       "  -0.77892+1.41im       0.993848-0.78129im        2.31891+1.69406im\n",
       " -0.312118-1.37137im   -0.193353+1.08669im       -2.49545+0.244223im\n",
       "  0.141822+1.11756im    0.238915-0.851192im       2.00835+0.0im"
      ]
     },
     "execution_count": 100,
     "metadata": {},
     "output_type": "execute_result"
    }
   ],
   "source": [
    "z*z'"
   ]
  },
  {
   "cell_type": "code",
   "execution_count": 101,
   "metadata": {},
   "outputs": [
    {
     "data": {
      "text/plain": [
       "1.8943946870068382"
      ]
     },
     "execution_count": 101,
     "metadata": {},
     "output_type": "execute_result"
    }
   ],
   "source": [
    "cov(z)"
   ]
  },
  {
   "cell_type": "code",
   "execution_count": 4,
   "metadata": {},
   "outputs": [],
   "source": [
    "nd12=Normal(0.0,0.5)\n",
    "z=[ComplexF64(c...) for c in eachcol( rand(nd12,(2,1000)) )];"
   ]
  },
  {
   "cell_type": "code",
   "execution_count": 6,
   "metadata": {},
   "outputs": [
    {
     "data": {
      "text/plain": [
       "0.5050640949309404"
      ]
     },
     "execution_count": 6,
     "metadata": {},
     "output_type": "execute_result"
    }
   ],
   "source": [
    "cov(z)"
   ]
  }
 ],
 "metadata": {
  "kernelspec": {
   "display_name": "JuliaPro_v1.5.1-1 1.5.1",
   "language": "julia",
   "name": "juliapro_v1.5.1-1-1.5"
  },
  "language_info": {
   "file_extension": ".jl",
   "mimetype": "application/julia",
   "name": "julia",
   "version": "1.5.1"
  }
 },
 "nbformat": 4,
 "nbformat_minor": 4
}
