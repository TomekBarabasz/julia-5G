{
 "cells": [
  {
   "cell_type": "code",
   "execution_count": 66,
   "metadata": {},
   "outputs": [],
   "source": [
    "using Test"
   ]
  },
  {
   "cell_type": "code",
   "execution_count": 86,
   "metadata": {},
   "outputs": [],
   "source": [
    "function ispangram(input)\n",
    "    letters = Dict(c=>false for c in 'a':'z')\n",
    "    for c in lowercase(input)\n",
    "        if isletter(c)\n",
    "            letters[ c ] = true\n",
    "        end\n",
    "    end\n",
    "    all(values(letters))\n",
    "end;"
   ]
  },
  {
   "cell_type": "code",
   "execution_count": 87,
   "metadata": {},
   "outputs": [
    {
     "name": "stdout",
     "output_type": "stream",
     "text": [
      "\u001b[0m\u001b[1mTest Summary:   | \u001b[22m\u001b[32m\u001b[1mPass  \u001b[22m\u001b[39m\u001b[36m\u001b[1mTotal\u001b[22m\u001b[39m\n",
      "ispangram tests | \u001b[32m   3  \u001b[39m\u001b[36m    3\u001b[39m\n"
     ]
    }
   ],
   "source": [
    "@testset \"ispangram tests\" begin\n",
    "    @test ispangram(\"The quick brown fox jumps over the lazy dog.\") == true;\n",
    "    @test ispangram(\"The quick brown fox jumps over the lazy dog\") == true;\n",
    "    @test ispangram(\"The quick brown fox jumps over the lazy do\") == false;\n",
    "end;"
   ]
  },
  {
   "cell_type": "code",
   "execution_count": 85,
   "metadata": {},
   "outputs": [],
   "source": [
    "function ispangram1(input)\n",
    "    filter(isletter,lowercase(input)) |> Set |> length == 26\n",
    "end;"
   ]
  },
  {
   "cell_type": "code",
   "execution_count": 83,
   "metadata": {},
   "outputs": [
    {
     "name": "stdout",
     "output_type": "stream",
     "text": [
      "\u001b[0m\u001b[1mTest Summary:    | \u001b[22m\u001b[32m\u001b[1mPass  \u001b[22m\u001b[39m\u001b[36m\u001b[1mTotal\u001b[22m\u001b[39m\n",
      "ispangram1 tests | \u001b[32m   3  \u001b[39m\u001b[36m    3\u001b[39m\n"
     ]
    }
   ],
   "source": [
    "@testset \"ispangram1 tests\" begin\n",
    "    @test ispangram1(\"The quick brown fox jumps over the lazy dog.\") == true;\n",
    "    @test ispangram1(\"The quick brown fox jumps over the lazy dog\") == true;\n",
    "    @test ispangram1(\"The quick brown fox jumps over the lazy do\") == false;\n",
    "    end;"
   ]
  },
  {
   "cell_type": "code",
   "execution_count": 88,
   "metadata": {},
   "outputs": [],
   "source": [
    "function ispangram2(input)\n",
    "    'a':'z' ⊆ lowercase(input)\n",
    "end;"
   ]
  },
  {
   "cell_type": "code",
   "execution_count": 84,
   "metadata": {},
   "outputs": [
    {
     "name": "stdout",
     "output_type": "stream",
     "text": [
      "\u001b[0m\u001b[1mTest Summary:    | \u001b[22m\u001b[32m\u001b[1mPass  \u001b[22m\u001b[39m\u001b[36m\u001b[1mTotal\u001b[22m\u001b[39m\n",
      "ispangram2 tests | \u001b[32m   3  \u001b[39m\u001b[36m    3\u001b[39m\n"
     ]
    }
   ],
   "source": [
    "@testset \"ispangram2 tests\" begin\n",
    "    @test ispangram2(\"The quick brown fox jumps over the lazy dog.\") == true;\n",
    "    @test ispangram2(\"The quick brown fox jumps over the lazy dog\") == true;\n",
    "    @test ispangram2(\"The quick brown fox jumps over the lazy do\") == false;\n",
    "end;"
   ]
  },
  {
   "cell_type": "code",
   "execution_count": 79,
   "metadata": {},
   "outputs": [],
   "source": [
    "collect(\"The quick brown fox jumps over the lazy do\");"
   ]
  },
  {
   "cell_type": "code",
   "execution_count": 150,
   "metadata": {},
   "outputs": [],
   "source": [
    "function count_nucleotides(strand::AbstractString)\n",
    "    count = Dict(n=>0 for n in \"ACGT\")\n",
    "    for n in strand\n",
    "        if n ∈ keys(count)   #haskey(count,n)\n",
    "            count[n] += 1\n",
    "        else\n",
    "            throw(DomainError)\n",
    "        end\n",
    "    end\n",
    "    return count\n",
    "end;"
   ]
  },
  {
   "cell_type": "code",
   "execution_count": 151,
   "metadata": {},
   "outputs": [
    {
     "data": {
      "text/plain": [
       "\u001b[32m\u001b[1mTest Passed\u001b[22m\u001b[39m\n",
       "  Expression: count_nucleotides(\"\") == Dict('A' => 0, 'C' => 0, 'G' => 0, 'T' => 0)\n",
       "   Evaluated: Dict('A' => 0, 'G' => 0, 'T' => 0, 'C' => 0) == Dict('A' => 0, 'G' => 0, 'T' => 0, 'C' => 0)"
      ]
     },
     "execution_count": 151,
     "metadata": {},
     "output_type": "execute_result"
    }
   ],
   "source": [
    "@test count_nucleotides(\"\") == Dict('A' => 0, 'C' => 0, 'G' => 0, 'T' => 0)"
   ]
  },
  {
   "cell_type": "code",
   "execution_count": 152,
   "metadata": {},
   "outputs": [],
   "source": [
    "circshift('a':'z',13);"
   ]
  },
  {
   "cell_type": "code",
   "execution_count": 157,
   "metadata": {},
   "outputs": [],
   "source": [
    "function rotate(n::Integer,input)\n",
    "    result = collect(input)\n",
    "    for (i,c) in enumerate(result)\n",
    "        if isletter(c)\n",
    "            orig = isuppercase(c) ? 'A' : 'a'\n",
    "            result[i] = isletter(c) ? orig + (c - orig + n) % 26 : c\n",
    "        end\n",
    "    end\n",
    "    return typeof(input)==AbstractString ? join(result) : result[1]\n",
    "end;"
   ]
  },
  {
   "cell_type": "code",
   "execution_count": 160,
   "metadata": {},
   "outputs": [
    {
     "name": "stdout",
     "output_type": "stream",
     "text": [
      "\u001b[0m\u001b[1mTest Summary: | \u001b[22m\u001b[32m\u001b[1mPass  \u001b[22m\u001b[39m\u001b[36m\u001b[1mTotal\u001b[22m\u001b[39m\n",
      "rotate tests  | \u001b[32m   3  \u001b[39m\u001b[36m    3\u001b[39m\n"
     ]
    }
   ],
   "source": [
    "@testset \"rotate tests\" begin\n",
    "    @test rotate(1,'a') == 'b'\n",
    "    @test rotate(1,\"a\") == \"b\"\n",
    "    @test rotate(13,\"abcdefghijklmnopqrstuvwxyz\") == \"nopqrstuvwxyzabcdefghijklm\"    \n",
    "end;"
   ]
  },
  {
   "cell_type": "code",
   "execution_count": 147,
   "metadata": {},
   "outputs": [
    {
     "data": {
      "text/plain": [
       "@ROT13_str (macro with 1 method)"
      ]
     },
     "execution_count": 147,
     "metadata": {},
     "output_type": "execute_result"
    }
   ],
   "source": [
    "macro ROT13_str(p)\n",
    "    rotate(13,p)\n",
    "end"
   ]
  },
  {
   "cell_type": "code",
   "execution_count": 148,
   "metadata": {},
   "outputs": [
    {
     "data": {
      "text/plain": [
       "\"qhcn oynqn\""
      ]
     },
     "execution_count": 148,
     "metadata": {},
     "output_type": "execute_result"
    }
   ],
   "source": [
    "ROT13\"dupa blada\""
   ]
  },
  {
   "cell_type": "code",
   "execution_count": null,
   "metadata": {},
   "outputs": [],
   "source": []
  }
 ],
 "metadata": {
  "kernelspec": {
   "display_name": "Julia 1.7.0",
   "language": "julia",
   "name": "julia-1.7"
  },
  "language_info": {
   "file_extension": ".jl",
   "mimetype": "application/julia",
   "name": "julia",
   "version": "1.7.0"
  }
 },
 "nbformat": 4,
 "nbformat_minor": 4
}
