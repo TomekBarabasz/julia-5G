{
 "cells": [
  {
   "cell_type": "code",
   "execution_count": 1,
   "metadata": {},
   "outputs": [],
   "source": [
    "using Test"
   ]
  },
  {
   "cell_type": "code",
   "execution_count": 86,
   "metadata": {},
   "outputs": [],
   "source": [
    "function ispangram(input)\n",
    "    letters = Dict(c=>false for c in 'a':'z')\n",
    "    for c in lowercase(input)\n",
    "        if isletter(c)\n",
    "            letters[ c ] = true\n",
    "        end\n",
    "    end\n",
    "    all(values(letters))\n",
    "end;"
   ]
  },
  {
   "cell_type": "code",
   "execution_count": 87,
   "metadata": {},
   "outputs": [
    {
     "name": "stdout",
     "output_type": "stream",
     "text": [
      "\u001b[0m\u001b[1mTest Summary:   | \u001b[22m\u001b[32m\u001b[1mPass  \u001b[22m\u001b[39m\u001b[36m\u001b[1mTotal\u001b[22m\u001b[39m\n",
      "ispangram tests | \u001b[32m   3  \u001b[39m\u001b[36m    3\u001b[39m\n"
     ]
    }
   ],
   "source": [
    "@testset \"ispangram tests\" begin\n",
    "    @test ispangram(\"The quick brown fox jumps over the lazy dog.\") == true;\n",
    "    @test ispangram(\"The quick brown fox jumps over the lazy dog\") == true;\n",
    "    @test ispangram(\"The quick brown fox jumps over the lazy do\") == false;\n",
    "end;"
   ]
  },
  {
   "cell_type": "code",
   "execution_count": 85,
   "metadata": {},
   "outputs": [],
   "source": [
    "function ispangram1(input)\n",
    "    filter(isletter,lowercase(input)) |> Set |> length == 26\n",
    "end;"
   ]
  },
  {
   "cell_type": "code",
   "execution_count": 83,
   "metadata": {},
   "outputs": [
    {
     "name": "stdout",
     "output_type": "stream",
     "text": [
      "\u001b[0m\u001b[1mTest Summary:    | \u001b[22m\u001b[32m\u001b[1mPass  \u001b[22m\u001b[39m\u001b[36m\u001b[1mTotal\u001b[22m\u001b[39m\n",
      "ispangram1 tests | \u001b[32m   3  \u001b[39m\u001b[36m    3\u001b[39m\n"
     ]
    }
   ],
   "source": [
    "@testset \"ispangram1 tests\" begin\n",
    "    @test ispangram1(\"The quick brown fox jumps over the lazy dog.\") == true;\n",
    "    @test ispangram1(\"The quick brown fox jumps over the lazy dog\") == true;\n",
    "    @test ispangram1(\"The quick brown fox jumps over the lazy do\") == false;\n",
    "    end;"
   ]
  },
  {
   "cell_type": "code",
   "execution_count": 88,
   "metadata": {},
   "outputs": [],
   "source": [
    "function ispangram2(input)\n",
    "    'a':'z' ⊆ lowercase(input)\n",
    "end;"
   ]
  },
  {
   "cell_type": "code",
   "execution_count": 84,
   "metadata": {},
   "outputs": [
    {
     "name": "stdout",
     "output_type": "stream",
     "text": [
      "\u001b[0m\u001b[1mTest Summary:    | \u001b[22m\u001b[32m\u001b[1mPass  \u001b[22m\u001b[39m\u001b[36m\u001b[1mTotal\u001b[22m\u001b[39m\n",
      "ispangram2 tests | \u001b[32m   3  \u001b[39m\u001b[36m    3\u001b[39m\n"
     ]
    }
   ],
   "source": [
    "@testset \"ispangram2 tests\" begin\n",
    "    @test ispangram2(\"The quick brown fox jumps over the lazy dog.\") == true;\n",
    "    @test ispangram2(\"The quick brown fox jumps over the lazy dog\") == true;\n",
    "    @test ispangram2(\"The quick brown fox jumps over the lazy do\") == false;\n",
    "end;"
   ]
  },
  {
   "cell_type": "code",
   "execution_count": 79,
   "metadata": {},
   "outputs": [],
   "source": [
    "collect(\"The quick brown fox jumps over the lazy do\");"
   ]
  },
  {
   "cell_type": "code",
   "execution_count": 150,
   "metadata": {},
   "outputs": [],
   "source": [
    "function count_nucleotides(strand::AbstractString)\n",
    "    count = Dict(n=>0 for n in \"ACGT\")\n",
    "    for n in strand\n",
    "        if n ∈ keys(count)   #haskey(count,n)\n",
    "            count[n] += 1\n",
    "        else\n",
    "            throw(DomainError)\n",
    "        end\n",
    "    end\n",
    "    return count\n",
    "end;"
   ]
  },
  {
   "cell_type": "code",
   "execution_count": 151,
   "metadata": {},
   "outputs": [
    {
     "data": {
      "text/plain": [
       "\u001b[32m\u001b[1mTest Passed\u001b[22m\u001b[39m\n",
       "  Expression: count_nucleotides(\"\") == Dict('A' => 0, 'C' => 0, 'G' => 0, 'T' => 0)\n",
       "   Evaluated: Dict('A' => 0, 'G' => 0, 'T' => 0, 'C' => 0) == Dict('A' => 0, 'G' => 0, 'T' => 0, 'C' => 0)"
      ]
     },
     "execution_count": 151,
     "metadata": {},
     "output_type": "execute_result"
    }
   ],
   "source": [
    "@test count_nucleotides(\"\") == Dict('A' => 0, 'C' => 0, 'G' => 0, 'T' => 0)"
   ]
  },
  {
   "cell_type": "code",
   "execution_count": 152,
   "metadata": {},
   "outputs": [],
   "source": [
    "circshift('a':'z',13);"
   ]
  },
  {
   "cell_type": "code",
   "execution_count": 157,
   "metadata": {},
   "outputs": [],
   "source": [
    "function rotate(n::Integer,input)\n",
    "    result = collect(input)\n",
    "    for (i,c) in enumerate(result)\n",
    "        if isletter(c)\n",
    "            orig = isuppercase(c) ? 'A' : 'a'\n",
    "            result[i] = isletter(c) ? orig + (c - orig + n) % 26 : c\n",
    "        end\n",
    "    end\n",
    "    return typeof(input)==AbstractString ? join(result) : result[1]\n",
    "end;"
   ]
  },
  {
   "cell_type": "code",
   "execution_count": 160,
   "metadata": {},
   "outputs": [
    {
     "name": "stdout",
     "output_type": "stream",
     "text": [
      "\u001b[0m\u001b[1mTest Summary: | \u001b[22m\u001b[32m\u001b[1mPass  \u001b[22m\u001b[39m\u001b[36m\u001b[1mTotal\u001b[22m\u001b[39m\n",
      "rotate tests  | \u001b[32m   3  \u001b[39m\u001b[36m    3\u001b[39m\n"
     ]
    }
   ],
   "source": [
    "@testset \"rotate tests\" begin\n",
    "    @test rotate(1,'a') == 'b'\n",
    "    @test rotate(1,\"a\") == \"b\"\n",
    "    @test rotate(13,\"abcdefghijklmnopqrstuvwxyz\") == \"nopqrstuvwxyzabcdefghijklm\"    \n",
    "end;"
   ]
  },
  {
   "cell_type": "code",
   "execution_count": 147,
   "metadata": {},
   "outputs": [
    {
     "data": {
      "text/plain": [
       "@ROT13_str (macro with 1 method)"
      ]
     },
     "execution_count": 147,
     "metadata": {},
     "output_type": "execute_result"
    }
   ],
   "source": [
    "macro ROT13_str(p)\n",
    "    rotate(13,p)\n",
    "end"
   ]
  },
  {
   "cell_type": "code",
   "execution_count": 148,
   "metadata": {},
   "outputs": [
    {
     "data": {
      "text/plain": [
       "\"qhcn oynqn\""
      ]
     },
     "execution_count": 148,
     "metadata": {},
     "output_type": "execute_result"
    }
   ],
   "source": [
    "ROT13\"dupa blada\""
   ]
  },
  {
   "cell_type": "code",
   "execution_count": null,
   "metadata": {},
   "outputs": [],
   "source": [
    "function detect_anagrams(subject::AbstractString, candidates::AbstractArray)\n",
    "    hash = sort ∘ collect ∘ lowercase\n",
    "    filter(candidates) do cand\n",
    "        lowercase(subject) ≠ lowercase(cand) && hash(subject) == hash(cand)\n",
    "  end\n",
    "end"
   ]
  },
  {
   "cell_type": "code",
   "execution_count": null,
   "metadata": {},
   "outputs": [],
   "source": [
    "function detect_anagrams(subject, candidates)\n",
    "    sl = lowercase(subject)\n",
    "    subject = lowercase(subject) |> collect |> sort\n",
    "    isAnagram(x) = subject == lowercase(x) |> collect |> sort\n",
    "    result = []\n",
    "    for a in filter(isAnagram,candidates)\n",
    "        al = lowercase(a)\n",
    "        if al ∉ result && al != sl\n",
    "            push!(result,a)\n",
    "        end\n",
    "    end\n",
    "    result\n",
    "end"
   ]
  },
  {
   "cell_type": "code",
   "execution_count": null,
   "metadata": {},
   "outputs": [],
   "source": [
    "function acronym(phrase) \n",
    "    join([uppercase(w[1]) for w in split(phrase,[' ', '-','_']; keepempty=false)])\n",
    "end"
   ]
  },
  {
   "cell_type": "code",
   "execution_count": 3,
   "metadata": {},
   "outputs": [
    {
     "data": {
      "text/plain": [
       "isword (generic function with 1 method)"
      ]
     },
     "execution_count": 3,
     "metadata": {},
     "output_type": "execute_result"
    }
   ],
   "source": [
    "isword(x) = filter(x->isletter(x)|isdigit(x),x)"
   ]
  },
  {
   "cell_type": "code",
   "execution_count": 7,
   "metadata": {},
   "outputs": [
    {
     "data": {
      "text/plain": [
       "\"\""
      ]
     },
     "execution_count": 7,
     "metadata": {},
     "output_type": "execute_result"
    }
   ],
   "source": [
    "isword(\" .\\n,\\t!^&*()~@#\\$%{}[]:;'/<>\")"
   ]
  },
  {
   "cell_type": "code",
   "execution_count": 13,
   "metadata": {},
   "outputs": [
    {
     "data": {
      "text/plain": [
       "\"TO JEST JEST TEST\""
      ]
     },
     "execution_count": 13,
     "metadata": {},
     "output_type": "execute_result"
    }
   ],
   "source": [
    "t = \"to jest jest test\"\n",
    "t |> uppercase"
   ]
  },
  {
   "cell_type": "code",
   "execution_count": 18,
   "metadata": {},
   "outputs": [],
   "source": [
    "function count_words(sentence)\n",
    "    isword(x) = filter(x->isletter(x)|isdigit(x),x)\n",
    "    count = Dict()\n",
    "    for m in eachmatch(r\"[\\w\\d]+\",sentence)\n",
    "        word = m.match\n",
    "        if length(isword(word)) != 0\n",
    "            count[word] = get!(count, word, 0) + 1\n",
    "        end\n",
    "    end\n",
    "    return count\n",
    "end;"
   ]
  },
  {
   "cell_type": "code",
   "execution_count": 19,
   "metadata": {},
   "outputs": [
    {
     "data": {
      "text/plain": [
       "Dict{Any, Any} with 3 entries:\n",
       "  \"test\" => 2\n",
       "  \"to\"   => 2\n",
       "  \"jest\" => 2"
      ]
     },
     "execution_count": 19,
     "metadata": {},
     "output_type": "execute_result"
    }
   ],
   "source": [
    "count_words(\"to jest jest test to test\")"
   ]
  },
  {
   "cell_type": "code",
   "execution_count": 78,
   "metadata": {},
   "outputs": [
    {
     "name": "stdout",
     "output_type": "stream",
     "text": [
      "Joe\n",
      "can't\n",
      "tell\n",
      "between\n",
      "large\n",
      "and\n",
      "large\n"
     ]
    }
   ],
   "source": [
    "for m in eachmatch(r\"\\w+('\\w)?\",\"Joe can't tell between 'large' and large.\")\n",
    "    println( m.match )\n",
    "end"
   ]
  },
  {
   "cell_type": "code",
   "execution_count": 79,
   "metadata": {},
   "outputs": [],
   "source": [
    "function countmap(X)\n",
    "    count = Dict{eltype(X),Int}()\n",
    "    for x in X\n",
    "        count[x] = get(count,x,0) + 1\n",
    "    end\n",
    "    count\n",
    "end;"
   ]
  },
  {
   "cell_type": "code",
   "execution_count": 76,
   "metadata": {},
   "outputs": [
    {
     "data": {
      "text/plain": [
       "Dict{SubString{String}, Int64} with 6 entries:\n",
       "  \"tell\"    => 1\n",
       "  \"can't\"   => 1\n",
       "  \"large\"   => 2\n",
       "  \"joe\"     => 1\n",
       "  \"between\" => 1\n",
       "  \"and\"     => 1"
      ]
     },
     "execution_count": 76,
     "metadata": {},
     "output_type": "execute_result"
    }
   ],
   "source": [
    "\"Joe can't tell between 'large' and large.\" |> lowercase |> s->[m.match for m in eachmatch(r\"\\w+('\\w)?\",s)] |> countmap"
   ]
  },
  {
   "cell_type": "code",
   "execution_count": 81,
   "metadata": {},
   "outputs": [
    {
     "data": {
      "text/plain": [
       "Dict{Int64, Vector{Char}} with 1 entry:\n",
       "  1 => ['a', 'b', 'c']"
      ]
     },
     "execution_count": 81,
     "metadata": {},
     "output_type": "execute_result"
    }
   ],
   "source": [
    "d = Dict( 1=> ['a','b','c'] )"
   ]
  },
  {
   "cell_type": "code",
   "execution_count": 82,
   "metadata": {},
   "outputs": [
    {
     "data": {
      "text/plain": [
       "Dict{Char, Int64} with 3 entries:\n",
       "  'a' => 1\n",
       "  'c' => 1\n",
       "  'b' => 1"
      ]
     },
     "execution_count": 82,
     "metadata": {},
     "output_type": "execute_result"
    }
   ],
   "source": [
    "Dict( x => 1 for x in \"abc\")"
   ]
  },
  {
   "cell_type": "code",
   "execution_count": null,
   "metadata": {},
   "outputs": [],
   "source": [
    "transform(input::AbstractDict) = Dict(lowercase(v) => key for (key, value) in input for v in value)"
   ]
  },
  {
   "cell_type": "code",
   "execution_count": null,
   "metadata": {},
   "outputs": [],
   "source": [
    "function transform(input::AbstractDict)\n",
    "    score = Dict()\n",
    "    for (k,V) in input\n",
    "        merge!(score, Dict([lowercase(x)=>k for x in V]))\n",
    "    end\n",
    "    score\n",
    "end"
   ]
  },
  {
   "cell_type": "code",
   "execution_count": 87,
   "metadata": {},
   "outputs": [
    {
     "data": {
      "text/plain": [
       "transform (generic function with 1 method)"
      ]
     },
     "execution_count": 87,
     "metadata": {},
     "output_type": "execute_result"
    }
   ],
   "source": [
    "function transform(input::AbstractDict)\n",
    "    merge((Dict(lowercase(z) => x for z in y) for (x, y) in input)...)\n",
    "end"
   ]
  },
  {
   "cell_type": "code",
   "execution_count": 89,
   "metadata": {},
   "outputs": [
    {
     "data": {
      "text/plain": [
       "transform (generic function with 1 method)"
      ]
     },
     "execution_count": 89,
     "metadata": {},
     "output_type": "execute_result"
    }
   ],
   "source": [
    "function transform(input::AbstractDict)\n",
    "    for (x, y) in input\n",
    "        subd = Dict(lowercase(z) => x for z in y)\n",
    "        println( subd )\n",
    "    end\n",
    "end"
   ]
  },
  {
   "cell_type": "code",
   "execution_count": 90,
   "metadata": {},
   "outputs": [
    {
     "name": "stdout",
     "output_type": "stream",
     "text": [
      "Dict('g' => 2, 'd' => 2)\n",
      "Dict('a' => 1, 'e' => 1)\n"
     ]
    }
   ],
   "source": [
    "input = Dict(1=>['A', 'E'], 2=>['D', 'G'])\n",
    "transform(input)"
   ]
  },
  {
   "cell_type": "code",
   "execution_count": 92,
   "metadata": {},
   "outputs": [
    {
     "data": {
      "text/plain": [
       "Dict{Int64, Vector{Char}} with 2 entries:\n",
       "  2 => ['D', 'G']\n",
       "  1 => ['A', 'E']"
      ]
     },
     "execution_count": 92,
     "metadata": {},
     "output_type": "execute_result"
    }
   ],
   "source": [
    "input = [ Dict(1=>['A', 'E']), Dict(2=>['D', 'G'])]\n",
    "merge(input...)"
   ]
  },
  {
   "cell_type": "code",
   "execution_count": 97,
   "metadata": {},
   "outputs": [
    {
     "data": {
      "text/plain": [
       "spiral_matrix (generic function with 1 method)"
      ]
     },
     "execution_count": 97,
     "metadata": {},
     "output_type": "execute_result"
    }
   ],
   "source": [
    "function spiral_matrix(n)\n",
    "    totelem = n^2\n",
    "    zeros(Int,n,n)\n",
    "end"
   ]
  },
  {
   "cell_type": "code",
   "execution_count": 98,
   "metadata": {},
   "outputs": [
    {
     "data": {
      "text/plain": [
       "3×3 Matrix{Int64}:\n",
       " 0  0  0\n",
       " 0  0  0\n",
       " 0  0  0"
      ]
     },
     "execution_count": 98,
     "metadata": {},
     "output_type": "execute_result"
    }
   ],
   "source": [
    "spiral_matrix(3)"
   ]
  },
  {
   "cell_type": "code",
   "execution_count": 105,
   "metadata": {},
   "outputs": [
    {
     "data": {
      "text/plain": [
       "3×3 adjoint(::Matrix{Int64}) with eltype Int64:\n",
       " 1  2  3\n",
       " 8  9  4\n",
       " 7  6  5"
      ]
     },
     "execution_count": 105,
     "metadata": {},
     "output_type": "execute_result"
    }
   ],
   "source": [
    "reshape([1 2 3 8 9 4 7 6 5],(3,3))'"
   ]
  },
  {
   "cell_type": "code",
   "execution_count": 106,
   "metadata": {},
   "outputs": [
    {
     "data": {
      "text/plain": [
       "1×1 Matrix{Int64}:\n",
       " 1"
      ]
     },
     "execution_count": 106,
     "metadata": {},
     "output_type": "execute_result"
    }
   ],
   "source": [
    "reshape([1],1,1)"
   ]
  },
  {
   "cell_type": "code",
   "execution_count": 112,
   "metadata": {},
   "outputs": [
    {
     "data": {
      "text/plain": [
       "Vector{Int64} (alias for Array{Int64, 1})"
      ]
     },
     "execution_count": 112,
     "metadata": {},
     "output_type": "execute_result"
    }
   ],
   "source": [
    "typeof([1])"
   ]
  },
  {
   "cell_type": "code",
   "execution_count": 1,
   "metadata": {},
   "outputs": [
    {
     "data": {
      "text/plain": [
       "1×8 Matrix{Int64}:\n",
       " 1  2  4  8  16  32  64  128"
      ]
     },
     "execution_count": 1,
     "metadata": {},
     "output_type": "execute_result"
    }
   ],
   "source": [
    "1 .<< [0 1 2 3 4 5 6 7]"
   ]
  },
  {
   "cell_type": "code",
   "execution_count": 6,
   "metadata": {},
   "outputs": [
    {
     "ename": "LoadError",
     "evalue": "cannot declare allergies constant; it already has a value",
     "output_type": "error",
     "traceback": [
      "cannot declare allergies constant; it already has a value",
      "",
      "Stacktrace:",
      " [1] top-level scope",
      "   @ In[6]:1",
      " [2] eval",
      "   @ .\\boot.jl:373 [inlined]",
      " [3] include_string(mapexpr::typeof(REPL.softscope), mod::Module, code::String, filename::String)",
      "   @ Base .\\loading.jl:1196"
     ]
    }
   ],
   "source": [
    "const allergies = Dict(1=>\"eggs\", 2=>\"peanuts\", 4=>\"shellfish\", 8=>\"strawberries\", 16=>\"tomatoes\", 32=>\"chocolate\", 64=>\"pollen\", 128=>\"cats\");"
   ]
  },
  {
   "cell_type": "code",
   "execution_count": 7,
   "metadata": {},
   "outputs": [
    {
     "data": {
      "text/plain": [
       "Dict{String, Int64} with 8 entries:\n",
       "  \"pollen\"       => 64\n",
       "  \"peanuts\"      => 2\n",
       "  \"tomatoes\"     => 16\n",
       "  \"eggs\"         => 1\n",
       "  \"chocolate\"    => 32\n",
       "  \"shellfish\"    => 4\n",
       "  \"cats\"         => 128\n",
       "  \"strawberries\" => 8"
      ]
     },
     "execution_count": 7,
     "metadata": {},
     "output_type": "execute_result"
    }
   ],
   "source": [
    "rev = Dict(v=>k for (k,v) in allergies)"
   ]
  },
  {
   "cell_type": "code",
   "execution_count": 33,
   "metadata": {},
   "outputs": [
    {
     "data": {
      "text/plain": [
       "isisogram (generic function with 1 method)"
      ]
     },
     "execution_count": 33,
     "metadata": {},
     "output_type": "execute_result"
    }
   ],
   "source": [
    "function isisogram(s)\n",
    "    cleaned = filter(isletter,s)\n",
    "    length(cleaned) == cleaned |> lowercase |> Set |> length\n",
    "end"
   ]
  },
  {
   "cell_type": "code",
   "execution_count": 26,
   "metadata": {},
   "outputs": [
    {
     "data": {
      "text/plain": [
       "isisogram2 (generic function with 1 method)"
      ]
     },
     "execution_count": 26,
     "metadata": {},
     "output_type": "execute_result"
    }
   ],
   "source": [
    "function isisogram2(s)\n",
    "    cleaned = filter(isletter,lowercase(s))\n",
    "    collect(cleaned) == unique(cleaned)\n",
    "end"
   ]
  },
  {
   "cell_type": "code",
   "execution_count": 27,
   "metadata": {},
   "outputs": [
    {
     "data": {
      "text/plain": [
       "true"
      ]
     },
     "execution_count": 27,
     "metadata": {},
     "output_type": "execute_result"
    }
   ],
   "source": [
    "isisogram2(\"Hjelmqvist-Gryb-Zock-Pfund-Wax\")"
   ]
  },
  {
   "cell_type": "code",
   "execution_count": 28,
   "metadata": {},
   "outputs": [
    {
     "data": {
      "text/plain": [
       "\u001b[32m\u001b[1mTest Passed\u001b[22m\u001b[39m\n",
       "  Expression: !(isisogram2(\"eleven\"))"
      ]
     },
     "execution_count": 28,
     "metadata": {},
     "output_type": "execute_result"
    }
   ],
   "source": [
    "@test !isisogram2(\"eleven\")"
   ]
  },
  {
   "cell_type": "code",
   "execution_count": 34,
   "metadata": {},
   "outputs": [
    {
     "data": {
      "text/plain": [
       "\u001b[32m\u001b[1mTest Passed\u001b[22m\u001b[39m\n",
       "  Expression: isisogram(\"subdermatoglyphic\")"
      ]
     },
     "execution_count": 34,
     "metadata": {},
     "output_type": "execute_result"
    }
   ],
   "source": [
    "@test isisogram(\"subdermatoglyphic\")"
   ]
  },
  {
   "cell_type": "code",
   "execution_count": 32,
   "metadata": {},
   "outputs": [
    {
     "data": {
      "text/plain": [
       "(\"subdermatoglyphic\", Any[\"subdermatoglyphic\", ['s', 'u', 'b', 'd', 'e', 'r', 'm', 'a', 't', 'o', 'g', 'l', 'y', 'p', 'h', 'i', 'c']], Any[\"subdermatoglyphic\", ['s', 'u', 'b', 'd', 'e', 'r', 'm', 'a', 't', 'o', 'g', 'l', 'y', 'p', 'h', 'i', 'c']])"
      ]
     },
     "execution_count": 32,
     "metadata": {},
     "output_type": "execute_result"
    }
   ],
   "source": [
    " cleaned = filter(isletter,lowercase(\"subdermatoglyphic\")), unique(cleaned), collect(cleaned)"
   ]
  },
  {
   "cell_type": "code",
   "execution_count": 52,
   "metadata": {},
   "outputs": [
    {
     "data": {
      "text/plain": [
       "factorize (generic function with 1 method)"
      ]
     },
     "execution_count": 52,
     "metadata": {},
     "output_type": "execute_result"
    }
   ],
   "source": [
    "factorize(n) = [i for i in 1:(n-1) if n%i==0]"
   ]
  },
  {
   "cell_type": "code",
   "execution_count": 56,
   "metadata": {},
   "outputs": [
    {
     "data": {
      "text/plain": [
       "true"
      ]
     },
     "execution_count": 56,
     "metadata": {},
     "output_type": "execute_result"
    }
   ],
   "source": [
    "6 |> factorize |> sum == 6"
   ]
  },
  {
   "cell_type": "code",
   "execution_count": 57,
   "metadata": {},
   "outputs": [
    {
     "data": {
      "text/plain": [
       "is_equilateral (generic function with 1 method)"
      ]
     },
     "execution_count": 57,
     "metadata": {},
     "output_type": "execute_result"
    }
   ],
   "source": [
    "function is_equilateral(sides)\n",
    "    all( sides .== sides[1])\n",
    "end"
   ]
  },
  {
   "cell_type": "code",
   "execution_count": 69,
   "metadata": {},
   "outputs": [
    {
     "data": {
      "text/plain": [
       "false"
      ]
     },
     "execution_count": 69,
     "metadata": {},
     "output_type": "execute_result"
    }
   ],
   "source": [
    "all(map(isuppercase,collect(\"DUPA BLADA\")))"
   ]
  },
  {
   "cell_type": "code",
   "execution_count": 78,
   "metadata": {},
   "outputs": [
    {
     "ename": "LoadError",
     "evalue": "ArgumentError: map(f, s::AbstractString) requires f to return AbstractChar; try map(f, collect(s)) or a comprehension instead",
     "output_type": "error",
     "traceback": [
      "ArgumentError: map(f, s::AbstractString) requires f to return AbstractChar; try map(f, collect(s)) or a comprehension instead",
      "",
      "Stacktrace:",
      " [1] map(f::typeof(isuppercase), s::String)",
      "   @ Base .\\strings\\basic.jl:611",
      " [2] top-level scope",
      "   @ In[78]:3",
      " [3] eval",
      "   @ .\\boot.jl:373 [inlined]",
      " [4] include_string(mapexpr::typeof(REPL.softscope), mod::Module, code::String, filename::String)",
      "   @ Base .\\loading.jl:1196"
     ]
    }
   ],
   "source": [
    "stimulus = \"Dupa Blada\";\n",
    "cleaned = filter(isletter,stimulus)\n",
    "map(isuppercase, cleaned)\n",
    "#is_yell = all(filter(isuppercase, cleaned))"
   ]
  },
  {
   "cell_type": "code",
   "execution_count": 13,
   "metadata": {},
   "outputs": [
    {
     "data": {
      "text/plain": [
       "bob (generic function with 1 method)"
      ]
     },
     "execution_count": 13,
     "metadata": {},
     "output_type": "execute_result"
    }
   ],
   "source": [
    "function bob(stimulus)\n",
    "    is_question = length(stimulus) != 0 && stimulus[end] == '?'\n",
    "    #cleaned = filter(x->isletter(x)||isdigit(x),stimulus) |> collect\n",
    "    cleaned = filter(isletter,stimulus) |> collect\n",
    "    length(cleaned) == 0 && !is_question && return \"Fine. Be that way!\"\n",
    "    is_yell = all(map(isuppercase, cleaned)) && length(cleaned) != 0\n",
    "    if is_question\n",
    "        is_yell ?  \"Calm down, I know what I'm doing!\" : \"Sure.\"\n",
    "    elseif is_yell\n",
    "        \"Whoa, chill out!\"\n",
    "    else\n",
    "        \"Whatever.\"\n",
    "    end\n",
    "end"
   ]
  },
  {
   "cell_type": "code",
   "execution_count": 14,
   "metadata": {},
   "outputs": [],
   "source": [
    "miscs = (\n",
    "        \"Tom-ay-to, tom-aaaah-to.\",\n",
    "        \"Let's go make out behind the gym!\",\n",
    "        \"It's OK if you don't want to work for the NSA.\",\n",
    "        \"Es ist okay, wenn du nicht für den BND arbeiten möchtest.\",\n",
    "        \"1, 2, 3\",\n",
    "        \"Ending with ? means a question.\",\n",
    "        \"\\nDoes this cryogenic chamber make me look fat?\\nno\",\n",
    "        \"         hmmmmmmm...\",\n",
    "        \"This is a statement ending with whitespace      \",\n",
    "        \"Oida.\"\n",
    ");\n",
    "yells = (\n",
    "        \"WATCH OUT!\",\n",
    "        \"FCECDFCAAB\",\n",
    "        \"FCÄEÜCÖDFCẞAB\",\n",
    "        \"1, 2, 3 GO!\",\n",
    "        \"ZOMG THE %^*@#\\$(*^ ZOMBIES ARE COMING!!11!!1!\",\n",
    "        \"I HATE YOU\",\n",
    "        \"I HATE THE DENTIST\",\n",
    "        \"OIDA!\"\n",
    ");"
   ]
  },
  {
   "cell_type": "code",
   "execution_count": 15,
   "metadata": {},
   "outputs": [
    {
     "name": "stdout",
     "output_type": "stream",
     "text": [
      "1, 2, 3: \u001b[91m\u001b[1mTest Failed\u001b[22m\u001b[39m at \u001b[39m\u001b[1mIn[15]:3\u001b[22m\n",
      "  Expression: bob(misc) == \"Whatever.\"\n",
      "   Evaluated: \"Fine. Be that way!\" == \"Whatever.\"\n",
      "Stacktrace:\n",
      " [1] \u001b[0m\u001b[1mmacro expansion\u001b[22m\n",
      "\u001b[90m   @ \u001b[39m\u001b[90mC:\\Users\\johny\\AppData\\Local\\Programs\\Julia-1.7.0\\share\\julia\\stdlib\\v1.7\\Test\\src\\\u001b[39m\u001b[90m\u001b[4mTest.jl:445\u001b[24m\u001b[39m\u001b[90m [inlined]\u001b[39m\n",
      " [2] \u001b[0m\u001b[1mmacro expansion\u001b[22m\n",
      "\u001b[90m   @ \u001b[39m\u001b[90m.\\\u001b[39m\u001b[90m\u001b[4mIn[15]:3\u001b[24m\u001b[39m\u001b[90m [inlined]\u001b[39m\n",
      " [3] \u001b[0m\u001b[1mmacro expansion\u001b[22m\n",
      "\u001b[90m   @ \u001b[39m\u001b[90mC:\\Users\\johny\\AppData\\Local\\Programs\\Julia-1.7.0\\share\\julia\\stdlib\\v1.7\\Test\\src\\\u001b[39m\u001b[90m\u001b[4mTest.jl:1359\u001b[24m\u001b[39m\u001b[90m [inlined]\u001b[39m\n",
      " [4] \u001b[0m\u001b[1mmacro expansion\u001b[22m\n",
      "\u001b[90m   @ \u001b[39m\u001b[90m.\\\u001b[39m\u001b[90m\u001b[4mIn[15]:2\u001b[24m\u001b[39m\u001b[90m [inlined]\u001b[39m\n",
      " [5] \u001b[0m\u001b[1mmacro expansion\u001b[22m\n",
      "\u001b[90m   @ \u001b[39m\u001b[90mC:\\Users\\johny\\AppData\\Local\\Programs\\Julia-1.7.0\\share\\julia\\stdlib\\v1.7\\Test\\src\\\u001b[39m\u001b[90m\u001b[4mTest.jl:1283\u001b[24m\u001b[39m\u001b[90m [inlined]\u001b[39m\n",
      " [6] top-level scope\n",
      "\u001b[90m   @ \u001b[39m\u001b[90m.\\\u001b[39m\u001b[90m\u001b[4mIn[15]:2\u001b[24m\u001b[39m\n",
      "\u001b[0m\u001b[1mTest Summary:                                               | \u001b[22m\u001b[32m\u001b[1mPass  \u001b[22m\u001b[39m\u001b[91m\u001b[1mFail  \u001b[22m\u001b[39m\u001b[36m\u001b[1mTotal\u001b[22m\u001b[39m\n",
      "misc                                                        | \u001b[32m   9  \u001b[39m\u001b[91m   1  \u001b[39m\u001b[36m   10\u001b[39m\n",
      "  Tom-ay-to, tom-aaaah-to.                                  | \u001b[32m   1  \u001b[39m      \u001b[36m    1\u001b[39m\n",
      "  Let's go make out behind the gym!                         | \u001b[32m   1  \u001b[39m      \u001b[36m    1\u001b[39m\n",
      "  It's OK if you don't want to work for the NSA.            | \u001b[32m   1  \u001b[39m      \u001b[36m    1\u001b[39m\n",
      "  Es ist okay, wenn du nicht für den BND arbeiten möchtest. | \u001b[32m   1  \u001b[39m      \u001b[36m    1\u001b[39m\n",
      "  1, 2, 3                                                   |       \u001b[91m   1  \u001b[39m\u001b[36m    1\u001b[39m\n",
      "  Ending with ? means a question.                           | \u001b[32m   1  \u001b[39m      \u001b[36m    1\u001b[39m\n",
      "  \n",
      "Does this cryogenic chamber make me look fat?\n",
      "no           | \u001b[32m   1  \u001b[39m      \u001b[36m    1\u001b[39m\n",
      "           hmmmmmmm...                                      | \u001b[32m   1  \u001b[39m      \u001b[36m    1\u001b[39m\n",
      "  This is a statement ending with whitespace                | \u001b[32m   1  \u001b[39m      \u001b[36m    1\u001b[39m\n",
      "  Oida.                                                     | \u001b[32m   1  \u001b[39m      \u001b[36m    1\u001b[39m\n"
     ]
    },
    {
     "ename": "LoadError",
     "evalue": "\u001b[91mSome tests did not pass: 9 passed, 1 failed, 0 errored, 0 broken.\u001b[39m",
     "output_type": "error",
     "traceback": [
      "\u001b[91mSome tests did not pass: 9 passed, 1 failed, 0 errored, 0 broken.\u001b[39m",
      "",
      "Stacktrace:",
      " [1] finish(ts::Test.DefaultTestSet)",
      "   @ Test C:\\Users\\johny\\AppData\\Local\\Programs\\Julia-1.7.0\\share\\julia\\stdlib\\v1.7\\Test\\src\\Test.jl:1044",
      " [2] macro expansion",
      "   @ C:\\Users\\johny\\AppData\\Local\\Programs\\Julia-1.7.0\\share\\julia\\stdlib\\v1.7\\Test\\src\\Test.jl:1294 [inlined]",
      " [3] top-level scope",
      "   @ .\\In[15]:2",
      " [4] eval",
      "   @ .\\boot.jl:373 [inlined]",
      " [5] include_string(mapexpr::typeof(REPL.softscope), mod::Module, code::String, filename::String)",
      "   @ Base .\\loading.jl:1196"
     ]
    }
   ],
   "source": [
    "@testset \"misc\" begin\n",
    "    @testset \"$misc\" for misc in miscs\n",
    "        @test bob(misc) == \"Whatever.\"\n",
    "    end\n",
    "end"
   ]
  },
  {
   "cell_type": "code",
   "execution_count": 12,
   "metadata": {},
   "outputs": [
    {
     "name": "stdout",
     "output_type": "stream",
     "text": [
      "1, 2, 3 GO!: \u001b[91m\u001b[1mTest Failed\u001b[22m\u001b[39m at \u001b[39m\u001b[1mIn[12]:3\u001b[22m\n",
      "  Expression: bob(yell) == \"Whoa, chill out!\"\n",
      "   Evaluated: \"Whatever.\" == \"Whoa, chill out!\"\n",
      "Stacktrace:\n",
      " [1] \u001b[0m\u001b[1mmacro expansion\u001b[22m\n",
      "\u001b[90m   @ \u001b[39m\u001b[90mC:\\Users\\johny\\AppData\\Local\\Programs\\Julia-1.7.0\\share\\julia\\stdlib\\v1.7\\Test\\src\\\u001b[39m\u001b[90m\u001b[4mTest.jl:445\u001b[24m\u001b[39m\u001b[90m [inlined]\u001b[39m\n",
      " [2] \u001b[0m\u001b[1mmacro expansion\u001b[22m\n",
      "\u001b[90m   @ \u001b[39m\u001b[90m.\\\u001b[39m\u001b[90m\u001b[4mIn[12]:3\u001b[24m\u001b[39m\u001b[90m [inlined]\u001b[39m\n",
      " [3] \u001b[0m\u001b[1mmacro expansion\u001b[22m\n",
      "\u001b[90m   @ \u001b[39m\u001b[90mC:\\Users\\johny\\AppData\\Local\\Programs\\Julia-1.7.0\\share\\julia\\stdlib\\v1.7\\Test\\src\\\u001b[39m\u001b[90m\u001b[4mTest.jl:1359\u001b[24m\u001b[39m\u001b[90m [inlined]\u001b[39m\n",
      " [4] \u001b[0m\u001b[1mmacro expansion\u001b[22m\n",
      "\u001b[90m   @ \u001b[39m\u001b[90m.\\\u001b[39m\u001b[90m\u001b[4mIn[12]:2\u001b[24m\u001b[39m\u001b[90m [inlined]\u001b[39m\n",
      " [5] \u001b[0m\u001b[1mmacro expansion\u001b[22m\n",
      "\u001b[90m   @ \u001b[39m\u001b[90mC:\\Users\\johny\\AppData\\Local\\Programs\\Julia-1.7.0\\share\\julia\\stdlib\\v1.7\\Test\\src\\\u001b[39m\u001b[90m\u001b[4mTest.jl:1283\u001b[24m\u001b[39m\u001b[90m [inlined]\u001b[39m\n",
      " [6] top-level scope\n",
      "\u001b[90m   @ \u001b[39m\u001b[90m.\\\u001b[39m\u001b[90m\u001b[4mIn[12]:2\u001b[24m\u001b[39m\n",
      "ZOMG THE %^*@#$(*^ ZOMBIES ARE COMING!!11!!1!: \u001b[91m\u001b[1mTest Failed\u001b[22m\u001b[39m at \u001b[39m\u001b[1mIn[12]:3\u001b[22m\n",
      "  Expression: bob(yell) == \"Whoa, chill out!\"\n",
      "   Evaluated: \"Whatever.\" == \"Whoa, chill out!\"\n",
      "Stacktrace:\n",
      " [1] \u001b[0m\u001b[1mmacro expansion\u001b[22m\n",
      "\u001b[90m   @ \u001b[39m\u001b[90mC:\\Users\\johny\\AppData\\Local\\Programs\\Julia-1.7.0\\share\\julia\\stdlib\\v1.7\\Test\\src\\\u001b[39m\u001b[90m\u001b[4mTest.jl:445\u001b[24m\u001b[39m\u001b[90m [inlined]\u001b[39m\n",
      " [2] \u001b[0m\u001b[1mmacro expansion\u001b[22m\n",
      "\u001b[90m   @ \u001b[39m\u001b[90m.\\\u001b[39m\u001b[90m\u001b[4mIn[12]:3\u001b[24m\u001b[39m\u001b[90m [inlined]\u001b[39m\n",
      " [3] \u001b[0m\u001b[1mmacro expansion\u001b[22m\n",
      "\u001b[90m   @ \u001b[39m\u001b[90mC:\\Users\\johny\\AppData\\Local\\Programs\\Julia-1.7.0\\share\\julia\\stdlib\\v1.7\\Test\\src\\\u001b[39m\u001b[90m\u001b[4mTest.jl:1359\u001b[24m\u001b[39m\u001b[90m [inlined]\u001b[39m\n",
      " [4] \u001b[0m\u001b[1mmacro expansion\u001b[22m\n",
      "\u001b[90m   @ \u001b[39m\u001b[90m.\\\u001b[39m\u001b[90m\u001b[4mIn[12]:2\u001b[24m\u001b[39m\u001b[90m [inlined]\u001b[39m\n",
      " [5] \u001b[0m\u001b[1mmacro expansion\u001b[22m\n",
      "\u001b[90m   @ \u001b[39m\u001b[90mC:\\Users\\johny\\AppData\\Local\\Programs\\Julia-1.7.0\\share\\julia\\stdlib\\v1.7\\Test\\src\\\u001b[39m\u001b[90m\u001b[4mTest.jl:1283\u001b[24m\u001b[39m\u001b[90m [inlined]\u001b[39m\n",
      " [6] top-level scope\n",
      "\u001b[90m   @ \u001b[39m\u001b[90m.\\\u001b[39m\u001b[90m\u001b[4mIn[12]:2\u001b[24m\u001b[39m\n",
      "\u001b[0m\u001b[1mTest Summary:                                   | \u001b[22m\u001b[32m\u001b[1mPass  \u001b[22m\u001b[39m\u001b[91m\u001b[1mFail  \u001b[22m\u001b[39m\u001b[36m\u001b[1mTotal\u001b[22m\u001b[39m\n",
      "yell                                            | \u001b[32m   6  \u001b[39m\u001b[91m   2  \u001b[39m\u001b[36m    8\u001b[39m\n",
      "  WATCH OUT!                                    | \u001b[32m   1  \u001b[39m      \u001b[36m    1\u001b[39m\n",
      "  FCECDFCAAB                                    | \u001b[32m   1  \u001b[39m      \u001b[36m    1\u001b[39m\n",
      "  FCÄEÜCÖDFCẞAB                                 | \u001b[32m   1  \u001b[39m      \u001b[36m    1\u001b[39m\n",
      "  1, 2, 3 GO!                                   |       \u001b[91m   1  \u001b[39m\u001b[36m    1\u001b[39m\n",
      "  ZOMG THE %^*@#$(*^ ZOMBIES ARE COMING!!11!!1! |       \u001b[91m   1  \u001b[39m\u001b[36m    1\u001b[39m\n",
      "  I HATE YOU                                    | \u001b[32m   1  \u001b[39m      \u001b[36m    1\u001b[39m\n",
      "  I HATE THE DENTIST                            | \u001b[32m   1  \u001b[39m      \u001b[36m    1\u001b[39m\n",
      "  OIDA!                                         | \u001b[32m   1  \u001b[39m      \u001b[36m    1\u001b[39m\n"
     ]
    },
    {
     "ename": "LoadError",
     "evalue": "\u001b[91mSome tests did not pass: 6 passed, 2 failed, 0 errored, 0 broken.\u001b[39m",
     "output_type": "error",
     "traceback": [
      "\u001b[91mSome tests did not pass: 6 passed, 2 failed, 0 errored, 0 broken.\u001b[39m",
      "",
      "Stacktrace:",
      " [1] finish(ts::Test.DefaultTestSet)",
      "   @ Test C:\\Users\\johny\\AppData\\Local\\Programs\\Julia-1.7.0\\share\\julia\\stdlib\\v1.7\\Test\\src\\Test.jl:1044",
      " [2] macro expansion",
      "   @ C:\\Users\\johny\\AppData\\Local\\Programs\\Julia-1.7.0\\share\\julia\\stdlib\\v1.7\\Test\\src\\Test.jl:1294 [inlined]",
      " [3] top-level scope",
      "   @ .\\In[12]:2",
      " [4] eval",
      "   @ .\\boot.jl:373 [inlined]",
      " [5] include_string(mapexpr::typeof(REPL.softscope), mod::Module, code::String, filename::String)",
      "   @ Base .\\loading.jl:1196"
     ]
    }
   ],
   "source": [
    "@testset \"yell\" begin\n",
    "    @testset \"$yell\" for yell in yells\n",
    "        @test bob(yell) == \"Whoa, chill out!\"\n",
    "    end\n",
    "end"
   ]
  },
  {
   "cell_type": "code",
   "execution_count": null,
   "metadata": {},
   "outputs": [],
   "source": []
  }
 ],
 "metadata": {
  "kernelspec": {
   "display_name": "Julia 1.8.1",
   "language": "julia",
   "name": "julia-1.8"
  },
  "language_info": {
   "file_extension": ".jl",
   "mimetype": "application/julia",
   "name": "julia",
   "version": "1.8.1"
  }
 },
 "nbformat": 4,
 "nbformat_minor": 4
}
