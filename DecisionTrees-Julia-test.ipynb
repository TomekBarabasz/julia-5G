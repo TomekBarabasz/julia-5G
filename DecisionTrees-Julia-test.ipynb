{
 "cells": [
  {
   "cell_type": "code",
   "execution_count": 1,
   "metadata": {},
   "outputs": [],
   "source": [
    "using DataFrames, CSV, Plots, Random, StatsBase"
   ]
  },
  {
   "cell_type": "markdown",
   "metadata": {},
   "source": [
    "# DecisionTree"
   ]
  },
  {
   "cell_type": "code",
   "execution_count": 2,
   "metadata": {},
   "outputs": [],
   "source": [
    "using DecisionTree"
   ]
  },
  {
   "cell_type": "code",
   "execution_count": 4,
   "metadata": {},
   "outputs": [
    {
     "name": "stdout",
     "output_type": "stream",
     "text": [
      "number of read data points 13580\n",
      "number of valid data points 6196\n"
     ]
    }
   ],
   "source": [
    "data = CSV.read(\"Data//melb_data.csv\", DataFrame);\n",
    "println( \"number of read data points $(size(data)[1])\")\n",
    "#fdata = dropmissing(data);\n",
    "dropmissing!(data);\n",
    "filtered = convert( Array, data[!,[:Rooms, :Bathroom, :Landsize, :BuildingArea, :YearBuilt, :Lattitude, :Longtitude]] );\n",
    "y = convert( Array, data[!,:Price] );\n",
    "println( \"number of valid data points $(size(filtered)[1])\")"
   ]
  },
  {
   "cell_type": "code",
   "execution_count": 5,
   "metadata": {},
   "outputs": [
    {
     "name": "stdout",
     "output_type": "stream",
     "text": [
      "Array{Float64,2}\n",
      "Array{Float64,1}\n"
     ]
    },
    {
     "data": {
      "text/plain": [
       "(6196, 7)"
      ]
     },
     "execution_count": 5,
     "metadata": {},
     "output_type": "execute_result"
    }
   ],
   "source": [
    "println( typeof(filtered) )\n",
    "println( typeof(y) )\n",
    "#first(filtered,5)\n",
    "size(filtered)"
   ]
  },
  {
   "cell_type": "code",
   "execution_count": 6,
   "metadata": {},
   "outputs": [
    {
     "name": "stdout",
     "output_type": "stream",
     "text": [
      "  0.162061 seconds (887.87 k allocations: 43.629 MiB, 6.03% gc time)\n",
      "train set size 4647\n",
      "test  set size 1549\n"
     ]
    }
   ],
   "source": [
    "@time idx = shuffle!(collect(1:size(filtered)[1]));\n",
    "sp = convert(Int, length(idx)*0.75)\n",
    "trainX = filtered[idx[1:sp],:];\n",
    "testX  = filtered[idx[sp+1:end],:];\n",
    "trainY = y[idx[1:sp]];\n",
    "testY  = y[idx[sp+1:end]];\n",
    "println( \"train set size \", size(trainX)[1])\n",
    "println( \"test  set size \", size(testX)[1])"
   ]
  },
  {
   "cell_type": "code",
   "execution_count": 18,
   "metadata": {},
   "outputs": [],
   "source": [
    "mean_squared_error(x)  = mean( x.^2 );\n",
    "mean_absolute_error(x) = mean( abs.(x) );"
   ]
  },
  {
   "cell_type": "code",
   "execution_count": 27,
   "metadata": {},
   "outputs": [],
   "source": [
    "model = DecisionTreeRegressor();#max_depth=7);"
   ]
  },
  {
   "cell_type": "code",
   "execution_count": 28,
   "metadata": {},
   "outputs": [
    {
     "name": "stdout",
     "output_type": "stream",
     "text": [
      "  0.019542 seconds (4.55 k allocations: 657.484 KiB)\n"
     ]
    },
    {
     "data": {
      "text/plain": [
       "DecisionTreeRegressor\n",
       "max_depth:                -1\n",
       "min_samples_leaf:         5\n",
       "min_samples_split:        2\n",
       "min_purity_increase:      0.0\n",
       "pruning_purity_threshold: 1.0\n",
       "n_subfeatures:            0\n",
       "root:                     Decision Tree\n",
       "Leaves: 754\n",
       "Depth:  22"
      ]
     },
     "execution_count": 28,
     "metadata": {},
     "output_type": "execute_result"
    }
   ],
   "source": [
    "@time DecisionTree.fit!(model, trainX, trainY)"
   ]
  },
  {
   "cell_type": "code",
   "execution_count": 25,
   "metadata": {},
   "outputs": [
    {
     "name": "stdout",
     "output_type": "stream",
     "text": [
      "  0.000299 seconds (1.55 k allocations: 242.328 KiB)\n",
      "prediction MSE 1.8990260343369193e11\n",
      "prediction MAE 246078.65335232046\n"
     ]
    }
   ],
   "source": [
    "@time pred = DecisionTree.predict(model, testX);\n",
    "println( \"prediction MSE \", mean_squared_error( pred - testY ) )\n",
    "println( \"prediction MAE \",mean_absolute_error( pred - testY ) )"
   ]
  },
  {
   "cell_type": "code",
   "execution_count": 26,
   "metadata": {},
   "outputs": [
    {
     "name": "stdout",
     "output_type": "stream",
     "text": [
      "  0.001040 seconds (4.65 k allocations: 726.266 KiB)\n",
      "train set prediction MSE 1.0293854404901884e11\n",
      "train set prediction MAE 199061.7166734019\n"
     ]
    }
   ],
   "source": [
    "@time predT = DecisionTree.predict(model, trainX);\n",
    "println( \"train set prediction MSE \", mean_squared_error( predT - trainY ) )\n",
    "println( \"train set prediction MAE \",mean_absolute_error( predT - trainY ) )"
   ]
  },
  {
   "cell_type": "markdown",
   "metadata": {},
   "source": [
    "# Random forest"
   ]
  },
  {
   "cell_type": "code",
   "execution_count": 29,
   "metadata": {},
   "outputs": [
    {
     "data": {
      "text/plain": [
       "RandomForestClassifier\n",
       "n_trees:             10\n",
       "n_subfeatures:       -1\n",
       "partial_sampling:    0.7\n",
       "max_depth:           -1\n",
       "min_samples_leaf:    1\n",
       "min_samples_split:   2\n",
       "min_purity_increase: 0.0\n",
       "classes:             nothing\n",
       "ensemble:            nothing"
      ]
     },
     "execution_count": 29,
     "metadata": {},
     "output_type": "execute_result"
    }
   ],
   "source": [
    "rf = RandomForestClassifier()"
   ]
  },
  {
   "cell_type": "code",
   "execution_count": 31,
   "metadata": {},
   "outputs": [
    {
     "data": {
      "text/plain": [
       "RandomForestClassifier\n",
       "n_trees:             10\n",
       "n_subfeatures:       -1\n",
       "partial_sampling:    0.7\n",
       "max_depth:           -1\n",
       "min_samples_leaf:    1\n",
       "min_samples_split:   2\n",
       "min_purity_increase: 0.0\n",
       "classes:             [131000.0, 145000.0, 170000.0, 185000.0, 200000.0, 210000.0, 216000.0, 220000.0, 222000.0, 227000.0  …  5.5e6, 5.51e6, 5.525e6, 5.6e6, 5.7e6, 6.25e6, 6.5e6, 7.65e6, 8.0e6, 9.0e6]\n",
       "ensemble:            Ensemble of Decision Trees\n",
       "Trees:      10\n",
       "Avg Leaves: 3111.5\n",
       "Avg Depth:  26.5"
      ]
     },
     "execution_count": 31,
     "metadata": {},
     "output_type": "execute_result"
    }
   ],
   "source": [
    "DecisionTree.fit!(rf, filtered, y)"
   ]
  },
  {
   "cell_type": "code",
   "execution_count": 32,
   "metadata": {},
   "outputs": [
    {
     "name": "stdout",
     "output_type": "stream",
     "text": [
      "  0.077973 seconds (210.07 k allocations: 11.385 MiB)\n",
      "prediction MSE 5.216511048846574e10\n",
      "prediction MAE 104216.9338928341\n"
     ]
    }
   ],
   "source": [
    "@time pred = DecisionTree.predict(rf, testX);\n",
    "println( \"prediction MSE \", mean_squared_error( pred - testY ) )\n",
    "println( \"prediction MAE \",mean_absolute_error( pred - testY ) )"
   ]
  },
  {
   "cell_type": "markdown",
   "metadata": {},
   "source": [
    "# MLJ"
   ]
  },
  {
   "cell_type": "code",
   "execution_count": 12,
   "metadata": {},
   "outputs": [],
   "source": [
    "using MLJ"
   ]
  },
  {
   "cell_type": "markdown",
   "metadata": {},
   "source": [
    "# ScikitLearn"
   ]
  },
  {
   "cell_type": "code",
   "execution_count": 13,
   "metadata": {},
   "outputs": [],
   "source": [
    "using ScikitLearn\n",
    "using ScikitLearn.CrossValidation: train_test_split"
   ]
  },
  {
   "cell_type": "code",
   "execution_count": 14,
   "metadata": {},
   "outputs": [],
   "source": [
    "trainX1, testX1, trainY1, testY1 = train_test_split(filtered, y, test_size=0.25, random_state=42);"
   ]
  },
  {
   "cell_type": "code",
   "execution_count": null,
   "metadata": {},
   "outputs": [],
   "source": []
  }
 ],
 "metadata": {
  "kernelspec": {
   "display_name": "Julia 1.5.3",
   "language": "julia",
   "name": "julia-1.5"
  },
  "language_info": {
   "file_extension": ".jl",
   "mimetype": "application/julia",
   "name": "julia",
   "version": "1.5.3"
  }
 },
 "nbformat": 4,
 "nbformat_minor": 4
}
