{
 "cells": [
  {
   "cell_type": "code",
   "execution_count": 2,
   "metadata": {},
   "outputs": [],
   "source": [
    "using DataFrames, CSV, Plots, Random"
   ]
  },
  {
   "cell_type": "markdown",
   "metadata": {},
   "source": [
    "# DecisionTree"
   ]
  },
  {
   "cell_type": "code",
   "execution_count": 5,
   "metadata": {},
   "outputs": [
    {
     "name": "stderr",
     "output_type": "stream",
     "text": [
      "┌ Info: Precompiling DecisionTree [7806a523-6efd-50cb-b5f6-3fa6f1930dbb]\n",
      "└ @ Base loading.jl:1278\n"
     ]
    }
   ],
   "source": [
    "using DecisionTree"
   ]
  },
  {
   "cell_type": "code",
   "execution_count": 99,
   "metadata": {},
   "outputs": [
    {
     "data": {
      "text/plain": [
       "DecisionTreeRegressor\n",
       "max_depth:                5\n",
       "min_samples_leaf:         5\n",
       "min_samples_split:        2\n",
       "min_purity_increase:      0.0\n",
       "pruning_purity_threshold: 1.0\n",
       "n_subfeatures:            0\n",
       "root:                     nothing"
      ]
     },
     "execution_count": 99,
     "metadata": {},
     "output_type": "execute_result"
    }
   ],
   "source": [
    "model = DecisionTreeRegressor(max_depth=5)"
   ]
  },
  {
   "cell_type": "code",
   "execution_count": 92,
   "metadata": {},
   "outputs": [],
   "source": [
    "data = CSV.read(\"Data//melb_data.csv\", DataFrame);\n",
    "data = skipmissing(data);"
   ]
  },
  {
   "cell_type": "code",
   "execution_count": 93,
   "metadata": {},
   "outputs": [],
   "source": [
    "filtered = convert( Array, data[!,[:Rooms, :Bathroom, :Landsize, :Lattitude, :Longtitude] ] );\n",
    "y = convert( Array, data[!,:Price] );"
   ]
  },
  {
   "cell_type": "code",
   "execution_count": 94,
   "metadata": {},
   "outputs": [
    {
     "name": "stdout",
     "output_type": "stream",
     "text": [
      "Array{Float64,2}\n",
      "Array{Float64,1}\n"
     ]
    },
    {
     "data": {
      "text/plain": [
       "(13580, 5)"
      ]
     },
     "execution_count": 94,
     "metadata": {},
     "output_type": "execute_result"
    }
   ],
   "source": [
    "println( typeof(filtered) )\n",
    "println( typeof(y) )\n",
    "#first(filtered,5)\n",
    "size(filtered)"
   ]
  },
  {
   "cell_type": "code",
   "execution_count": 87,
   "metadata": {},
   "outputs": [
    {
     "name": "stdout",
     "output_type": "stream",
     "text": [
      "  0.000212 seconds (5 allocations: 106.281 KiB)\n",
      "train set size 10185\n",
      "test  set size 3395\n"
     ]
    }
   ],
   "source": [
    "@time idx = shuffle!(collect(1:size(filtered)[1]));\n",
    "sp = convert(Int, length(idx)*0.75)\n",
    "\n",
    "trainX = filtered[idx[1:sp],:];\n",
    "testX  = filtered[idx[sp+1:end],:];\n",
    "trainY = y[idx[1:sp]];\n",
    "testY  = y[idx[sp+1:end]];\n",
    "#println( typeof(trainX) )\n",
    "#size(trainX)\n",
    "println( \"train set size \", size(trainX)[1])\n",
    "println( \"test  set size \", size(testX)[1])"
   ]
  },
  {
   "cell_type": "code",
   "execution_count": 100,
   "metadata": {},
   "outputs": [
    {
     "name": "stdout",
     "output_type": "stream",
     "text": [
      "  0.016438 seconds (217 allocations: 654.297 KiB)\n"
     ]
    },
    {
     "data": {
      "text/plain": [
       "DecisionTreeRegressor\n",
       "max_depth:                5\n",
       "min_samples_leaf:         5\n",
       "min_samples_split:        2\n",
       "min_purity_increase:      0.0\n",
       "pruning_purity_threshold: 1.0\n",
       "n_subfeatures:            0\n",
       "root:                     Decision Tree\n",
       "Leaves: 32\n",
       "Depth:  5"
      ]
     },
     "execution_count": 100,
     "metadata": {},
     "output_type": "execute_result"
    }
   ],
   "source": [
    "@time fit!(model, trainX, trainY)"
   ]
  },
  {
   "cell_type": "code",
   "execution_count": 103,
   "metadata": {},
   "outputs": [
    {
     "name": "stdout",
     "output_type": "stream",
     "text": [
      "  0.000589 seconds (3.40 k allocations: 477.656 KiB)\n",
      "predicion error MSE 1.9299135028884872e11\n"
     ]
    }
   ],
   "source": [
    "@time pred = predict(model, testX);\n",
    "println( \"predicion error MSE \",mean( (pred - testY).^2 ) )"
   ]
  },
  {
   "cell_type": "code",
   "execution_count": 104,
   "metadata": {},
   "outputs": [
    {
     "name": "stdout",
     "output_type": "stream",
     "text": [
      "  0.001850 seconds (10.19 k allocations: 1.399 MiB)\n",
      "train set prediction error MSE 1.8656336027172964e11\n"
     ]
    }
   ],
   "source": [
    "@time predT = predict(model, trainX);\n",
    "println( \"train set prediction error MSE \",mean( (predT - trainY).^2 ) )"
   ]
  },
  {
   "cell_type": "code",
   "execution_count": 95,
   "metadata": {},
   "outputs": [
    {
     "name": "stdout",
     "output_type": "stream",
     "text": [
      "  0.076358 seconds (106.35 k allocations: 5.577 MiB, 31.77% gc time)\n"
     ]
    },
    {
     "data": {
      "text/plain": [
       "1.34781966574143e11"
      ]
     },
     "execution_count": 95,
     "metadata": {},
     "output_type": "execute_result"
    }
   ],
   "source": [
    "@time mean((pred-testY).^2)"
   ]
  },
  {
   "cell_type": "markdown",
   "metadata": {},
   "source": [
    "# MLJ"
   ]
  },
  {
   "cell_type": "code",
   "execution_count": 82,
   "metadata": {},
   "outputs": [
    {
     "name": "stderr",
     "output_type": "stream",
     "text": [
      "┌ Info: Precompiling MLJ [add582a8-e3ab-11e8-2d5e-e98b27df1bc7]\n",
      "└ @ Base loading.jl:1278\n",
      "WARNING: could not import DataAPI.unwrap into MLJBase\n",
      "WARNING: using MLJ.predict in module Main conflicts with an existing identifier.\n",
      "WARNING: using MLJ.fit! in module Main conflicts with an existing identifier.\n"
     ]
    }
   ],
   "source": [
    "using MLJ"
   ]
  },
  {
   "cell_type": "markdown",
   "metadata": {},
   "source": [
    "# ScikitLearn"
   ]
  },
  {
   "cell_type": "code",
   "execution_count": 97,
   "metadata": {},
   "outputs": [],
   "source": [
    "using ScikitLearn\n",
    "using ScikitLearn.CrossValidation: train_test_split"
   ]
  },
  {
   "cell_type": "code",
   "execution_count": 98,
   "metadata": {},
   "outputs": [],
   "source": [
    "trainX1, testX1, trainY1, testY1 = train_test_split(filtered, y, test_size=0.25, random_state=42);"
   ]
  },
  {
   "cell_type": "code",
   "execution_count": null,
   "metadata": {},
   "outputs": [],
   "source": []
  }
 ],
 "metadata": {
  "kernelspec": {
   "display_name": "Julia 1.5.3",
   "language": "julia",
   "name": "julia-1.5"
  },
  "language_info": {
   "file_extension": ".jl",
   "mimetype": "application/julia",
   "name": "julia",
   "version": "1.5.3"
  }
 },
 "nbformat": 4,
 "nbformat_minor": 4
}
