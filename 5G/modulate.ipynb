{
 "cells": [
  {
   "cell_type": "markdown",
   "metadata": {},
   "source": [
    "## 1. QPSK"
   ]
  },
  {
   "cell_type": "markdown",
   "metadata": {},
   "source": [
    "## 1.1 Values"
   ]
  },
  {
   "cell_type": "code",
   "execution_count": 4,
   "metadata": {},
   "outputs": [
    {
     "data": {
      "text/plain": [
       "1×2 Array{Float64,2}:\n",
       " 0.707107  -0.707107"
      ]
     },
     "execution_count": 4,
     "metadata": {},
     "output_type": "execute_result"
    }
   ],
   "source": [
    "QPSKV = 1/√2 .* [1-2*0 1-2*1]"
   ]
  },
  {
   "cell_type": "code",
   "execution_count": 30,
   "metadata": {},
   "outputs": [
    {
     "data": {
      "text/plain": [
       "1×2 Array{UInt16,2}:\n",
       " 0x16a0  0xe960"
      ]
     },
     "execution_count": 30,
     "metadata": {},
     "output_type": "execute_result"
    }
   ],
   "source": [
    "QPSK_int16 = [ reinterpret(UInt16, Int16(trunc(x*8192))) for x in QPSKV ]"
   ]
  },
  {
   "cell_type": "code",
   "execution_count": 58,
   "metadata": {},
   "outputs": [
    {
     "data": {
      "text/plain": [
       "modulate_qpsk (generic function with 1 method)"
      ]
     },
     "execution_count": 58,
     "metadata": {},
     "output_type": "execute_result"
    }
   ],
   "source": [
    "function modulate_qpsk(bits::BitVector)\n",
    "    V = 1/√2 .* [1-2*0,1-2*1]\n",
    "    return [ V[Int(b1)+1] + im*V[Int(b2)+1] for (b1,b2) in Iterators.partition(bits,2) ]\n",
    "end"
   ]
  },
  {
   "cell_type": "code",
   "execution_count": 69,
   "metadata": {},
   "outputs": [
    {
     "data": {
      "text/plain": [
       "4-element Array{Complex{Float64},1}:\n",
       "  0.7071067811865475 + 0.7071067811865475im\n",
       "  0.7071067811865475 - 0.7071067811865475im\n",
       " -0.7071067811865475 + 0.7071067811865475im\n",
       " -0.7071067811865475 - 0.7071067811865475im"
      ]
     },
     "execution_count": 69,
     "metadata": {},
     "output_type": "execute_result"
    }
   ],
   "source": [
    "modulate_qpsk(BitVector([0,0,0,1,1,0,1,1]))"
   ]
  },
  {
   "cell_type": "code",
   "execution_count": 78,
   "metadata": {},
   "outputs": [
    {
     "data": {
      "text/plain": [
       "modulate_qpsk_T (generic function with 1 method)"
      ]
     },
     "execution_count": 78,
     "metadata": {},
     "output_type": "execute_result"
    }
   ],
   "source": [
    "function modulate_qpsk_T(bits::BitVector)::Complex{T} where {T}\n",
    "    V = [ T(1/√2x) for x in [1-2*0,1-2*1] ]\n",
    "    return [ Complex{T}(V[Int(b1)+1] + im*V[Int(b2)+1]) for (b1,b2) in Iterators.partition(bits,2) ]\n",
    "end"
   ]
  },
  {
   "cell_type": "code",
   "execution_count": 79,
   "metadata": {},
   "outputs": [
    {
     "ename": "LoadError",
     "evalue": "syntax: extra token \"v\" after end of expression",
     "output_type": "error",
     "traceback": [
      "syntax: extra token \"v\" after end of expression",
      "",
      "Stacktrace:",
      " [1] top-level scope at In[79]:1",
      " [2] include_string(::Function, ::Module, ::String, ::String) at ./loading.jl:1091",
      " [3] execute_code(::String, ::String) at /home/barabasz/.julia/packages/IJulia/rWZ9e/src/execute_request.jl:27",
      " [4] execute_request(::ZMQ.Socket, ::IJulia.Msg) at /home/barabasz/.julia/packages/IJulia/rWZ9e/src/execute_request.jl:86",
      " [5] #invokelatest#1 at ./essentials.jl:710 [inlined]",
      " [6] invokelatest at ./essentials.jl:709 [inlined]",
      " [7] eventloop(::ZMQ.Socket) at /home/barabasz/.julia/packages/IJulia/rWZ9e/src/eventloop.jl:8",
      " [8] (::IJulia.var\"#15#18\")() at ./task.jl:356"
     ]
    }
   ],
   "source": [
    "Vector{Complex{Float16}} v = modulate_qpsk_T(BitVector([0,0,0,1,1,0,1,1]))"
   ]
  },
  {
   "cell_type": "code",
   "execution_count": 66,
   "metadata": {},
   "outputs": [
    {
     "ename": "LoadError",
     "evalue": "InexactError: Int16(0.7071067811865475)",
     "output_type": "error",
     "traceback": [
      "InexactError: Int16(0.7071067811865475)",
      "",
      "Stacktrace:",
      " [1] Int16 at ./float.jl:689 [inlined]",
      " [2] #27 at ./none:0 [inlined]",
      " [3] iterate at ./generator.jl:47 [inlined]",
      " [4] collect(::Base.Generator{Array{Int64,1},var\"#27#28\"}) at ./array.jl:686",
      " [5] top-level scope at In[66]:1",
      " [6] include_string(::Function, ::Module, ::String, ::String) at ./loading.jl:1091",
      " [7] execute_code(::String, ::String) at /home/barabasz/.julia/packages/IJulia/rWZ9e/src/execute_request.jl:27",
      " [8] execute_request(::ZMQ.Socket, ::IJulia.Msg) at /home/barabasz/.julia/packages/IJulia/rWZ9e/src/execute_request.jl:86",
      " [9] #invokelatest#1 at ./essentials.jl:710 [inlined]",
      " [10] invokelatest at ./essentials.jl:709 [inlined]",
      " [11] eventloop(::ZMQ.Socket) at /home/barabasz/.julia/packages/IJulia/rWZ9e/src/eventloop.jl:8",
      " [12] (::IJulia.var\"#15#18\")() at ./task.jl:356"
     ]
    }
   ],
   "source": [
    "V = [ Int16(1/√2x) for x in [1-2*0,1-2*1] ]"
   ]
  },
  {
   "cell_type": "markdown",
   "metadata": {},
   "source": [
    "## 2. QAM256"
   ]
  },
  {
   "cell_type": "markdown",
   "metadata": {},
   "source": [
    "# 2.1 Values"
   ]
  },
  {
   "cell_type": "code",
   "execution_count": 13,
   "metadata": {},
   "outputs": [
    {
     "data": {
      "text/plain": [
       "bit (generic function with 1 method)"
      ]
     },
     "execution_count": 13,
     "metadata": {},
     "output_type": "execute_result"
    }
   ],
   "source": [
    "bit(val::Int,pos::Int) = (val & (1<<pos)) != 0 ? 1 : 0"
   ]
  },
  {
   "cell_type": "code",
   "execution_count": 34,
   "metadata": {},
   "outputs": [
    {
     "data": {
      "text/plain": [
       "QAM256val (generic function with 1 method)"
      ]
     },
     "execution_count": 34,
     "metadata": {},
     "output_type": "execute_result"
    }
   ],
   "source": [
    "QAM256val(x) = 1/√170 * ((1-2bit(x,0))*(8-(1-2bit(x,2))*(4-(1-2bit(x,4))*(2-(1-2bit(x,6))))))"
   ]
  },
  {
   "cell_type": "code",
   "execution_count": 35,
   "metadata": {},
   "outputs": [
    {
     "data": {
      "text/plain": [
       "QAM256valc (generic function with 1 method)"
      ]
     },
     "execution_count": 35,
     "metadata": {},
     "output_type": "execute_result"
    }
   ],
   "source": [
    "QAM256valc(x) = 1/√170 * ((1-2bit(x,0))*(8-(1-2bit(x,1))*(4-(1-2bit(x,2))*(2-(1-2bit(x,3))))))"
   ]
  },
  {
   "cell_type": "code",
   "execution_count": 58,
   "metadata": {
    "scrolled": true
   },
   "outputs": [
    {
     "data": {
      "text/plain": [
       "16-element Array{UInt16,1}:\n",
       " 0x0c45\n",
       " 0xf3bb\n",
       " 0x1aff\n",
       " 0xe501\n",
       " 0x075c\n",
       " 0xf8a4\n",
       " 0x1fe7\n",
       " 0xe019\n",
       " 0x112e\n",
       " 0xeed2\n",
       " 0x1616\n",
       " 0xe9ea\n",
       " 0x0274\n",
       " 0xfd8c\n",
       " 0x24d0\n",
       " 0xdb30"
      ]
     },
     "execution_count": 58,
     "metadata": {},
     "output_type": "execute_result"
    }
   ],
   "source": [
    "QAM256Vf = [ QAM256valc(x) for x in 0:15 ];\n",
    "QAM256V  = [ Int16(trunc(x*8192)) for x in QAM256Vf ];\n",
    "QAM256Vu = [ reinterpret(UInt16, x) for x in QAM256V ]"
   ]
  },
  {
   "cell_type": "code",
   "execution_count": 62,
   "metadata": {},
   "outputs": [
    {
     "name": "stdout",
     "output_type": "stream",
     "text": [
      "0, 0.3834824944236852, 3141, 0xc45\n",
      "1, -0.3834824944236852, -3141, 0xf3bb\n",
      "2, 0.8436614877321074, 6911, 0x1aff\n",
      "3, -0.8436614877321074, -6911, 0xe501\n",
      "4, 0.2300894966542111, 1884, 0x75c\n",
      "5, -0.2300894966542111, -1884, 0xf8a4\n",
      "6, 0.9970544855015815, 8167, 0x1fe7\n",
      "7, -0.9970544855015815, -8167, 0xe019\n",
      "8, 0.5368754921931592, 4398, 0x112e\n",
      "9, -0.5368754921931592, -4398, 0xeed2\n",
      "10, 0.6902684899626333, 5654, 0x1616\n",
      "11, -0.6902684899626333, -5654, 0xe9ea\n",
      "12, 0.07669649888473704, 628, 0x274\n",
      "13, -0.07669649888473704, -628, 0xfd8c\n",
      "14, 1.1504474832710556, 9424, 0x24d0\n",
      "15, -1.1504474832710556, -9424, 0xdb30\n"
     ]
    }
   ],
   "source": [
    "#enumerate(V), returns (index,V[index])\n",
    "for (i,t) in enumerate(zip(QAM256Vf,QAM256V,QAM256Vu))\n",
    "    println(\"$(i-1), $(t[1]), $(t[2]), 0x\",string(t[3],base=16))\n",
    "end"
   ]
  }
 ],
 "metadata": {
  "kernelspec": {
   "display_name": "JuliaPro_v1.5.1-1 1.5.1",
   "language": "julia",
   "name": "juliapro_v1.5.1-1-1.5"
  },
  "language_info": {
   "file_extension": ".jl",
   "mimetype": "application/julia",
   "name": "julia",
   "version": "1.5.1"
  }
 },
 "nbformat": 4,
 "nbformat_minor": 4
}
